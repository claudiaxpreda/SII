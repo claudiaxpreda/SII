{
  "nbformat": 4,
  "nbformat_minor": 0,
  "metadata": {
    "colab": {
      "name": "SII_Assignment_final.ipynb",
      "provenance": [],
      "collapsed_sections": [],
      "include_colab_link": true
    },
    "kernelspec": {
      "name": "python3",
      "display_name": "Python 3"
    },
    "accelerator": "GPU"
  },
  "cells": [
    {
      "cell_type": "markdown",
      "metadata": {
        "id": "view-in-github",
        "colab_type": "text"
      },
      "source": [
        "<a href=\"https://colab.research.google.com/github/claudiaxpreda/SII/blob/main/SII_Assignment_final.ipynb\" target=\"_parent\"><img src=\"https://colab.research.google.com/assets/colab-badge.svg\" alt=\"Open In Colab\"/></a>"
      ]
    },
    {
      "cell_type": "code",
      "metadata": {
        "id": "0gm8mQLZL6wN"
      },
      "source": [
        "import os\n",
        "import pandas as pd\n",
        "import numpy as np\n",
        "import matplotlib.pyplot as plt\n",
        "\n",
        "import gensim \n",
        "from gensim.models import Word2Vec\n",
        "from tqdm import tqdm\n",
        "\n",
        "import tensorflow as tf\n",
        "from tensorflow.keras.models import Sequential, Model\n",
        "from tensorflow.keras.layers import LSTM\n",
        "from tensorflow.keras.preprocessing.text import Tokenizer\n",
        "from tensorflow.keras.preprocessing.sequence import pad_sequences\n",
        "from tensorflow.keras.layers import Dense, Embedding, Dropout, Activation, Input, SpatialDropout1D, concatenate\n",
        "from tensorflow.keras.layers import Bidirectional, GlobalMaxPool1D, AveragePooling1D, Conv1D, GlobalAveragePooling1D, GlobalMaxPooling1D\n",
        "from tensorflow.keras import initializers, regularizers, constraints, optimizers, layers\n",
        "from tensorflow.keras.callbacks import EarlyStopping, ModelCheckpoint\n",
        "from tensorflow.keras.preprocessing import text, sequence\n"
      ],
      "execution_count": 1,
      "outputs": []
    },
    {
      "cell_type": "code",
      "metadata": {
        "colab": {
          "base_uri": "https://localhost:8080/"
        },
        "id": "m1MM4hjaN5Ml",
        "outputId": "71732e0a-9823-4194-b032-0d6d9bbf962d"
      },
      "source": [
        "import nltk\n",
        "from nltk.tokenize import word_tokenize\n",
        "nltk.download(\"punkt\")"
      ],
      "execution_count": 2,
      "outputs": [
        {
          "output_type": "stream",
          "text": [
            "[nltk_data] Downloading package punkt to /root/nltk_data...\n",
            "[nltk_data]   Package punkt is already up-to-date!\n"
          ],
          "name": "stdout"
        },
        {
          "output_type": "execute_result",
          "data": {
            "text/plain": [
              "True"
            ]
          },
          "metadata": {
            "tags": []
          },
          "execution_count": 2
        }
      ]
    },
    {
      "cell_type": "code",
      "metadata": {
        "id": "lm-JR6BY3As9"
      },
      "source": [
        "# !wget http://nlp.stanford.edu/data/glove.6B.zip\n",
        "# !unzip glove*.zip"
      ],
      "execution_count": null,
      "outputs": []
    },
    {
      "cell_type": "code",
      "metadata": {
        "colab": {
          "base_uri": "https://localhost:8080/"
        },
        "id": "qvazgBAxxxy2",
        "outputId": "8a9150d5-df29-4dc0-da0d-ffd87af228eb"
      },
      "source": [
        "from google.colab import drive\n",
        "drive.mount('/content/drive')"
      ],
      "execution_count": 6,
      "outputs": [
        {
          "output_type": "stream",
          "text": [
            "Mounted at /content/drive\n"
          ],
          "name": "stdout"
        }
      ]
    },
    {
      "cell_type": "code",
      "metadata": {
        "id": "WLuAi8ofK_wt"
      },
      "source": [
        "WORKDIR = os.getcwd()\n",
        "FILES_PATH = WORKDIR + '/drive/MyDrive/SII/SII-Challenge/'\n"
      ],
      "execution_count": 3,
      "outputs": []
    },
    {
      "cell_type": "code",
      "metadata": {
        "id": "krgCj6nyMR7e"
      },
      "source": [
        "DEV_NAME = 'referate-dev.json'\n",
        "TRAIN_NAME = 'referate-train.json'\n",
        "TEST_DEV = 'referate-test.json'\n",
        "\n",
        "def get_frame(name):\n",
        "  return pd.read_json(FILES_PATH + name)\n"
      ],
      "execution_count": 4,
      "outputs": []
    },
    {
      "cell_type": "code",
      "metadata": {
        "id": "LxHjWZn2YC8p"
      },
      "source": [
        "train = get_frame(TRAIN_NAME)\n",
        "dev = get_frame(DEV_NAME)\n",
        "test = get_frame(TEST_DEV)\n",
        "\n",
        "def print_size(name, frame):\n",
        "  format = 'The size of {} set is: {}'\n",
        "  print(format.format(name, len(frame)))"
      ],
      "execution_count": 5,
      "outputs": []
    },
    {
      "cell_type": "markdown",
      "metadata": {
        "id": "s7PngBf8OdFX"
      },
      "source": [
        "**Data Analyze**"
      ]
    },
    {
      "cell_type": "code",
      "metadata": {
        "colab": {
          "base_uri": "https://localhost:8080/"
        },
        "id": "dWFdvtuGbbev",
        "outputId": "459d0036-c631-4636-8b06-3fd5e615f8d2"
      },
      "source": [
        "print_size('train', train)\n",
        "print_size('dev', dev)\n",
        "print_size('test', test)"
      ],
      "execution_count": 8,
      "outputs": [
        {
          "output_type": "stream",
          "text": [
            "The size of train set is: 4725\n",
            "The size of dev set is: 500\n",
            "The size of test set is: 500\n"
          ],
          "name": "stdout"
        }
      ]
    },
    {
      "cell_type": "code",
      "metadata": {
        "id": "bnPqqpqpdpGW"
      },
      "source": [
        "train.info()"
      ],
      "execution_count": null,
      "outputs": []
    },
    {
      "cell_type": "code",
      "metadata": {
        "colab": {
          "base_uri": "https://localhost:8080/"
        },
        "id": "TleN3THxxpTg",
        "outputId": "db9b1b7d-957e-4e18-c01c-b2865161b9d0"
      },
      "source": [
        "stopwords = []\r\n",
        "\r\n",
        "with open('/content/drive/MyDrive/SII/SII-Challenge/romanian_stopwords.txt', 'r') as f: \r\n",
        "    for line in f:\r\n",
        "        stopwords.append(line.strip())\r\n",
        "\r\n",
        "print(stopwords)"
      ],
      "execution_count": 6,
      "outputs": [
        {
          "output_type": "stream",
          "text": [
            "['vreo', 'acelea', 'cata', 'cita', 'degraba', 'lor', 'alta', 'tot', 'ai', 'dat', 'despre', 'peste', 'bine', 'dar', 'foarte', 'avea', 'multi', 'cit', 'cat', 'alt', 'mai', 'sa', 'fie', 'tu', 'intrucat', 'multe', 'orice', 'dintr', 'dintre', 'dintr-o', 'dintr-un', 'se', 'intr', 'intr-o', 'intr-un', 'niste', 'multa', 'insa', 'il', 'fost', 'a', 'abia', 'nimic', 'sub', 'acel', 'in', 'altceva', 'si', 'avem', 'altfel', 'c', 'ea', 'acest', 'li', 'parca', 'fi', 'dintre', 'unele', 'm', 'acestei', 'mare', 'cel', 'este', 'pe', 'atitia', 'atatia', 'uneori', 'acela', 'iti', 'astazi', 'acestui', 'o', 'imi', 'ele', 'ceilalti', 'pai', 'fata', 'noua', 'sa-ti', 'altul', 'au', 'i', 'prin', 'conform', 'aceste', 'anume', 'azi', 'k', 'unul', 'ala', 'unei', 'fara', 'ei', 'la', 'aceeasi', 'u', 'inapoi', 'acestea', 'acesta', 'aceasta', 'catre', 'sale', 'asupra', 'as', 'aceea', 'ba', 'ale', 'da', 'le', 'apoi', 'aia', 'suntem', 'cum', 'isi', 'inainte', 's', 'de', 'cind', 'cand', 'cumva', 'chiar', 'acestia', 'daca', 'sunt', 'care', 'al', 'numai', 'cui', 'sus', 'tocmai', 'prea', 'cu', 'mi', 'eu', 'doar', 'niciodata', 'nicidecum', 'exact', 'putini', 'aiurea', 'tuturor', 'celor', 'astfel', 'atunci', 'citeva', 'cateva', 'cat', 'ca', 'sau', 'fel', 'intre', 'acolo', 'nostri', 'ma', 'mult', 'una', 'ceea', 'iar', 'iara', 'sintem', 'suntem', 'ati', 'din', 'geaba', 'sai', 'caruia', 'adica', 'inca', 'are', 'aici', 'ca', 'ia', 'nici', 'd', 'oricum', 'asta', 'carora', 'face', 'citiva', 'cativa', 'voi', 'unor', 'f', 'atat', 'toata', 'alaturi', 'cea', 'nu', 'totusi', 'ce', 'altii', 'acum', 'sint', 'sunt', 'capat', 'mod', 'deasupra', 'cam', 'vom', 'b', 'toate', 'careia', 'aceasta', 'atit', 'atat', 'nimeni', 'ii', 'ci', 'unde', 'ul', 'plus', 'era', 'sa-mi', 'l', 'spre', 'dupa', 'nou', 'cele', 'acea', 'un', 'incit', 'incat', 'n', 'cei', 'or', 'va', 'deci', 'acelasi', 'atatea', 'h', 'vor', 'decit', 'decat', 'noi', 'cineva', 'desi', 'ceva', 'j', 'ului', 'atitea', 'atatea', 'avut', 'ar', 'pina', 'pana', 't', 'atata', 'unui', 'el', 'citi', 'asa', 'totul', 'pentru', 'atita', 'v', 'alti', 'asemenea', 'atatia', 'te', 'ne', 'deja', 'unii', 'p', 'atare', 'cite', 'cate', 'cine', 'cand', 'toti', 'vreun', 'ori', 'r', 'alte', 'lui', 'ti', 'ni', 'aceia', 'am', 'acea', 'aceasta', 'această', 'aceea', 'acei', 'aceia', 'acel', 'acela', 'acele', 'acelea', 'acest', 'acesta', 'aceste', 'acestea', 'aceşti', 'aceştia', 'acolo', 'acord', 'acum', 'ai', 'aia', 'aibă', 'aici', 'al', 'ăla', 'ale', 'alea', 'ălea', 'altceva', 'altcineva', 'am', 'ar', 'are', 'aş', 'aşadar', 'asemenea', 'asta', 'ăsta', 'astăzi', 'astea', 'ăstea', 'ăştia', 'asupra', 'aţi', 'au', 'avea', 'avem', 'aveţi', 'azi', 'bine', 'bucur', 'bună', 'ca', 'că', 'căci', 'când', 'care', 'cărei', 'căror', 'cărui', 'cât', 'câte', 'câţi', 'către', 'câtva', 'caut', 'ce', 'cel', 'ceva', 'chiar', 'cinci', 'cînd', 'cine', 'cineva', 'cît', 'cîte', 'cîţi', 'cîtva', 'contra', 'cu', 'cum', 'cumva', 'curând', 'curînd', 'da', 'dă', 'dacă', 'dar', 'dată', 'datorită', 'dau', 'de', 'deci', 'deja', 'deoarece', 'departe', 'deşi', 'din', 'dinaintea', 'dintr-', 'dintre', 'doi', 'doilea', 'două', 'drept', 'după', 'ea', 'ei', 'el', 'ele', 'eram', 'este', 'eşti', 'eu', 'face', 'fără', 'fata', 'fi', 'fie', 'fiecare', 'fii', 'fim', 'fiţi', 'fiu', 'frumos', 'graţie', 'halbă', 'iar', 'ieri', 'îi', 'îl', 'îmi', 'împotriva', 'în', 'înainte', 'înaintea', 'încât', 'încît', 'încotro', 'între', 'întrucât', 'întrucît', 'îţi', 'la', 'lângă', 'le', 'li', 'lîngă', 'lor', 'lui', 'mă', 'mai', 'mâine', 'mea', 'mei', 'mele', 'mereu', 'meu', 'mi', 'mie', 'mîine', 'mine', 'mult', 'multă', 'mulţi', 'mulţumesc', 'ne', 'nevoie', 'nicăieri', 'nici', 'nimeni', 'nimeri', 'nimic', 'nişte', 'noastră', 'noastre', 'noi', 'noroc', 'noştri', 'nostru', 'nouă', 'nu', 'opt', 'ori', 'oricând', 'oricare', 'oricât', 'orice', 'oricînd', 'oricine', 'oricît', 'oricum', 'oriunde', 'până', 'patra', 'patru', 'patrulea', 'pe', 'pentru', 'peste', 'pic', 'pînă', 'poate', 'pot', 'prea', 'prima', 'primul', 'prin', 'puţin', 'puţina', 'puţină', 'rog', 'sa', 'să', 'săi', 'sale', 'şapte', 'şase', 'sau', 'său', 'se', 'şi', 'sînt', 'sîntem', 'sînteţi', 'spate', 'spre', 'ştiu', 'sub', 'sunt', 'suntem', 'sunteţi', 'sută', 'ta', 'tăi', 'tale', 'tău', 'te', 'ţi', 'ţie', 'timp', 'tine', 'toată', 'toate', 'tot', 'toţi', 'totuşi', 'trei', 'treia', 'treilea', 'tu', 'un', 'una', 'unde', 'undeva', 'unei', 'uneia', 'unele', 'uneori', 'unii', 'unor', 'unora', 'unu', 'unui', 'unuia', 'unul', 'vă', 'vi', 'voastră', 'voastre', 'voi', 'voştri', 'vostru', 'vouă', 'vreme', 'vreo', 'vreun', 'zece', 'zero', 'zi', 'zice', 'ă', 'î', 'â', 'ț', 'ș']\n"
          ],
          "name": "stdout"
        }
      ]
    },
    {
      "cell_type": "code",
      "metadata": {
        "id": "IJp73YYjfL6U"
      },
      "source": [
        "train.isnull().sum()"
      ],
      "execution_count": null,
      "outputs": []
    },
    {
      "cell_type": "code",
      "metadata": {
        "id": "MyMP8jY4fX2l"
      },
      "source": [
        "train.head(5)"
      ],
      "execution_count": null,
      "outputs": []
    },
    {
      "cell_type": "code",
      "metadata": {
        "id": "l9nP4GkYkVlx"
      },
      "source": [
        "train_categories = train.category.unique()\n",
        "test_categories = test.category.unique()\n",
        "\n",
        "print(train_categories)"
      ],
      "execution_count": null,
      "outputs": []
    },
    {
      "cell_type": "code",
      "metadata": {
        "id": "9pG1soIuyBZU"
      },
      "source": [
        "no_text = train[train['text'].str.len() == 0]\n",
        "no_text"
      ],
      "execution_count": null,
      "outputs": []
    },
    {
      "cell_type": "markdown",
      "metadata": {
        "id": "bVqaAJswOjRr"
      },
      "source": [
        "**Embeddings**"
      ]
    },
    {
      "cell_type": "code",
      "metadata": {
        "colab": {
          "base_uri": "https://localhost:8080/",
          "height": 206
        },
        "id": "ClctP6_hRP0_",
        "outputId": "6bdec62c-2b3a-435c-a120-186c92200f59"
      },
      "source": [
        "train['processed_text'] = train['text'].apply(lambda x: x.lower())\n",
        "train.head(5)"
      ],
      "execution_count": 7,
      "outputs": [
        {
          "output_type": "execute_result",
          "data": {
            "text/html": [
              "<div>\n",
              "<style scoped>\n",
              "    .dataframe tbody tr th:only-of-type {\n",
              "        vertical-align: middle;\n",
              "    }\n",
              "\n",
              "    .dataframe tbody tr th {\n",
              "        vertical-align: top;\n",
              "    }\n",
              "\n",
              "    .dataframe thead th {\n",
              "        text-align: right;\n",
              "    }\n",
              "</style>\n",
              "<table border=\"1\" class=\"dataframe\">\n",
              "  <thead>\n",
              "    <tr style=\"text-align: right;\">\n",
              "      <th></th>\n",
              "      <th>index</th>\n",
              "      <th>filename</th>\n",
              "      <th>text</th>\n",
              "      <th>category</th>\n",
              "      <th>grade</th>\n",
              "      <th>processed_text</th>\n",
              "    </tr>\n",
              "  </thead>\n",
              "  <tbody>\n",
              "    <tr>\n",
              "      <th>0</th>\n",
              "      <td>3685</td>\n",
              "      <td>Referat Piercing-ul si adolescentii</td>\n",
              "      <td>Piercing-ul si tatuajele - vanitati adolescent...</td>\n",
              "      <td>psihologie</td>\n",
              "      <td>5.65</td>\n",
              "      <td>piercing-ul si tatuajele - vanitati adolescent...</td>\n",
              "    </tr>\n",
              "    <tr>\n",
              "      <th>1</th>\n",
              "      <td>775</td>\n",
              "      <td>Gradinile Suspendate Ale Semiramidei</td>\n",
              "      <td>GRADINILE SUSPENDATE ALE SEMIRAMIDEI A doua mi...</td>\n",
              "      <td>istorie</td>\n",
              "      <td>9.00</td>\n",
              "      <td>gradinile suspendate ale semiramidei a doua mi...</td>\n",
              "    </tr>\n",
              "    <tr>\n",
              "      <th>2</th>\n",
              "      <td>1765</td>\n",
              "      <td>Referat Mihail Sadoveanu</td>\n",
              "      <td>MIHAIL SADOVEANU  (1880-1961) \\nMihail Sadovea...</td>\n",
              "      <td>romana</td>\n",
              "      <td>5.36</td>\n",
              "      <td>mihail sadoveanu  (1880-1961) \\nmihail sadovea...</td>\n",
              "    </tr>\n",
              "    <tr>\n",
              "      <th>3</th>\n",
              "      <td>3691</td>\n",
              "      <td>Referat Eminescu</td>\n",
              "      <td>EMINESCU \\nS-a  nascut pe 15 ianuarie 1850 la ...</td>\n",
              "      <td>romana</td>\n",
              "      <td>5.35</td>\n",
              "      <td>eminescu \\ns-a  nascut pe 15 ianuarie 1850 la ...</td>\n",
              "    </tr>\n",
              "    <tr>\n",
              "      <th>4</th>\n",
              "      <td>3402</td>\n",
              "      <td>Moara</td>\n",
              "      <td>Moara cu noroc Ioan Slavici \\nCaracterizarea l...</td>\n",
              "      <td>romana</td>\n",
              "      <td>10.00</td>\n",
              "      <td>moara cu noroc ioan slavici \\ncaracterizarea l...</td>\n",
              "    </tr>\n",
              "  </tbody>\n",
              "</table>\n",
              "</div>"
            ],
            "text/plain": [
              "   index  ...                                     processed_text\n",
              "0   3685  ...  piercing-ul si tatuajele - vanitati adolescent...\n",
              "1    775  ...  gradinile suspendate ale semiramidei a doua mi...\n",
              "2   1765  ...  mihail sadoveanu  (1880-1961) \\nmihail sadovea...\n",
              "3   3691  ...  eminescu \\ns-a  nascut pe 15 ianuarie 1850 la ...\n",
              "4   3402  ...  moara cu noroc ioan slavici \\ncaracterizarea l...\n",
              "\n",
              "[5 rows x 6 columns]"
            ]
          },
          "metadata": {
            "tags": []
          },
          "execution_count": 7
        }
      ]
    },
    {
      "cell_type": "code",
      "metadata": {
        "colab": {
          "base_uri": "https://localhost:8080/",
          "height": 206
        },
        "id": "5GAKmzvX1ra-",
        "outputId": "84aef4da-2aa2-4f5b-e78c-a23c73850fa6"
      },
      "source": [
        "def remove_stopwords(text):\r\n",
        "  return ' '.join([word for word in text.split() if word not in stopwords])\r\n",
        "\r\n",
        "train['processed_text'] = train['processed_text'].apply(lambda x: remove_stopwords(x))\r\n",
        "\r\n",
        "train.head(5)"
      ],
      "execution_count": 8,
      "outputs": [
        {
          "output_type": "execute_result",
          "data": {
            "text/html": [
              "<div>\n",
              "<style scoped>\n",
              "    .dataframe tbody tr th:only-of-type {\n",
              "        vertical-align: middle;\n",
              "    }\n",
              "\n",
              "    .dataframe tbody tr th {\n",
              "        vertical-align: top;\n",
              "    }\n",
              "\n",
              "    .dataframe thead th {\n",
              "        text-align: right;\n",
              "    }\n",
              "</style>\n",
              "<table border=\"1\" class=\"dataframe\">\n",
              "  <thead>\n",
              "    <tr style=\"text-align: right;\">\n",
              "      <th></th>\n",
              "      <th>index</th>\n",
              "      <th>filename</th>\n",
              "      <th>text</th>\n",
              "      <th>category</th>\n",
              "      <th>grade</th>\n",
              "      <th>processed_text</th>\n",
              "    </tr>\n",
              "  </thead>\n",
              "  <tbody>\n",
              "    <tr>\n",
              "      <th>0</th>\n",
              "      <td>3685</td>\n",
              "      <td>Referat Piercing-ul si adolescentii</td>\n",
              "      <td>Piercing-ul si tatuajele - vanitati adolescent...</td>\n",
              "      <td>psihologie</td>\n",
              "      <td>5.65</td>\n",
              "      <td>piercing-ul tatuajele - vanitati adolescentine...</td>\n",
              "    </tr>\n",
              "    <tr>\n",
              "      <th>1</th>\n",
              "      <td>775</td>\n",
              "      <td>Gradinile Suspendate Ale Semiramidei</td>\n",
              "      <td>GRADINILE SUSPENDATE ALE SEMIRAMIDEI A doua mi...</td>\n",
              "      <td>istorie</td>\n",
              "      <td>9.00</td>\n",
              "      <td>gradinile suspendate semiramidei doua minune l...</td>\n",
              "    </tr>\n",
              "    <tr>\n",
              "      <th>2</th>\n",
              "      <td>1765</td>\n",
              "      <td>Referat Mihail Sadoveanu</td>\n",
              "      <td>MIHAIL SADOVEANU  (1880-1961) \\nMihail Sadovea...</td>\n",
              "      <td>romana</td>\n",
              "      <td>5.36</td>\n",
              "      <td>mihail sadoveanu (1880-1961) mihail sadoveanu ...</td>\n",
              "    </tr>\n",
              "    <tr>\n",
              "      <th>3</th>\n",
              "      <td>3691</td>\n",
              "      <td>Referat Eminescu</td>\n",
              "      <td>EMINESCU \\nS-a  nascut pe 15 ianuarie 1850 la ...</td>\n",
              "      <td>romana</td>\n",
              "      <td>5.35</td>\n",
              "      <td>eminescu s-a nascut 15 ianuarie 1850 botosani ...</td>\n",
              "    </tr>\n",
              "    <tr>\n",
              "      <th>4</th>\n",
              "      <td>3402</td>\n",
              "      <td>Moara</td>\n",
              "      <td>Moara cu noroc Ioan Slavici \\nCaracterizarea l...</td>\n",
              "      <td>romana</td>\n",
              "      <td>10.00</td>\n",
              "      <td>moara ioan slavici caracterizarea ghita ghita ...</td>\n",
              "    </tr>\n",
              "  </tbody>\n",
              "</table>\n",
              "</div>"
            ],
            "text/plain": [
              "   index  ...                                     processed_text\n",
              "0   3685  ...  piercing-ul tatuajele - vanitati adolescentine...\n",
              "1    775  ...  gradinile suspendate semiramidei doua minune l...\n",
              "2   1765  ...  mihail sadoveanu (1880-1961) mihail sadoveanu ...\n",
              "3   3691  ...  eminescu s-a nascut 15 ianuarie 1850 botosani ...\n",
              "4   3402  ...  moara ioan slavici caracterizarea ghita ghita ...\n",
              "\n",
              "[5 rows x 6 columns]"
            ]
          },
          "metadata": {
            "tags": []
          },
          "execution_count": 8
        }
      ]
    },
    {
      "cell_type": "code",
      "metadata": {
        "colab": {
          "base_uri": "https://localhost:8080/",
          "height": 125
        },
        "id": "ulFC1uFd4dE6",
        "outputId": "a5eb2756-c9b0-4231-81b6-b96a3fe2e1fb"
      },
      "source": [
        "train.processed_text.iloc[2]"
      ],
      "execution_count": 9,
      "outputs": [
        {
          "output_type": "execute_result",
          "data": {
            "application/vnd.google.colaboratory.intrinsic+json": {
              "type": "string"
            },
            "text/plain": [
              "'mihail sadoveanu (1880-1961) mihail sadoveanu s-a nascut 5 noiembrie 1880, pascani, avocatului alexandru sadoveanu profirei ursache, razesi. urmeaza gimnaziul \"alecu donici\" falticeni. studia gimnaziu, 1896, intentioneaza alcatui, impreuna coleg, monografie stefan mare, renuntind, insa, lipsa izvoare. urmeaza cursurile liceului national iasi. debuteaza revista bucuresteana dracu 1897. 1898 incepe colaboreze viata gala galaction, n.d.cocea, tudor arghezi altii, semnind numele sau, pseudonimul m.s.cobuz. 1904 stabileste bucuresti,, casatoreste unsprezece copii. an loc debutul editorial volume deodata - povestiri, dureri inabusite, crisma mos precu, soimii - sadoveanu manifesta predilectie deosebita istorie. nicolae iorga numi anul 1904 \"anul sadoveanu\". 1910 numit functia director teatrului national iasi. an publica volumele povestiri seara (la editura minerva), genoveva brabant, brosura putem scapa nevoi putem dobindi pamint s.a. colaboreaza revista \"samanatorul\", simti apropiat spiritului \"vietii romanesti\". 1919 editeaza, impreuna tudor sarghezi, iasi, revista insemnari literare. decembrie, reviasta anunta incetarea aparitiei: viata romaneasca porneste munca cultura folos. noi, insemnari literare, reintram curentul modestele mijloace. editura revistei iesene publica volumul nuvele umbre brosura amintirea creanga, editura luceafarul - volumul priveghiuri. 1921 devine membru academiei romane. 1926 reprezinta societatea scriitorilor romani, impreuna liviu rebreanu, congresul berlin. 1936 m.sadoveanu, g.topirceanu, m.codreanu gr.t.popa scot, incepind luna ianuarie, revista lunara insemnari iesene. moartea g.ibraileanu, m.sadoveanu scrie personalitatea criticului. moare 19 octombrie 1961 bucuresti inmormintat, 21 octombrie, cimitirul bellu, linga mihai eminescu. luat totalitate, m.sadoveanu e povestitor, capacitate vorbi autentic enorma. (george calinescu) epoca scrie sadoveanu epoca marelui roman realist, romanului modern. supranumit \"ceahlaul prozei romanesti\" \"stefan literaturii romane\" \"... mihai istoria poporului roman\" - mihai sadoveanu - principalele maiestuasele coloane lumina culturii existentei - si-a consacrat extrem bogata creatie artistica, adunata 120 volume, singur erou: poporul roman, surprins iferite ipostaze intruchipari evocat felurite momente, incepind indepartate timpuri alcatuirii fiintei neamului contemporanietate. eroii sadoveanu exponenti categorii, tipuri arhetipuri, exemplare umanitate faptele lor; autorul creat lume vitoria lipan. tudor soimaru, stefan mare, razesi boieri, pescari, haiduci, militari, popi, avocati, vinatori, diplomati, functionari, negustori. sadoveanu urmareste conditia sociala istorica individului, descriind lumea satului tirgurilor provincie, realitatile prezente, apartin istoriei trecut imemorial, documentele nu-l atesta. sadoveanu creatorul romanului istoric romanesc. vede istoria scena imensa, misca comandanti osti mari voievozi, spatiu epopeic, legendar mitic. originalitatea operei data capacitatea contopi lumea evocata, singur narator, autorul insusi, povesteste viata trecut azi. farmec povestirii taina cere dezvaluita noi, cititorii, ajungem treptat, lecturi reluate, descoperindu-i muzica, dominarea trairilor, starea echilibru semnificatia tacerii sadoveniene. sadoveanu este, asadar, scriitor tip \"arhaic\", atras \"epopeic, mitic tragic\". \"ca poezia eminescu, proza sadoveanu atinge fondul adinc specificitatii noastre.\" (g.calinescu) mihail sadoveanu (1880-1961) 1880 data 5 noiembrie, naste pascani, înregistrat început numele mamei sale. 1887 mihail sadoveanu clasa scoala primara satul vatra pascani. învatator, mihai busuioc, marca hotarâtor evolutia. povestirea \"domnu trandafir\" evocata figura celui l-a învatat \"ortografia istoria\". 1891 termina scoala primara vatra pascanilor, dar, putea frecventa cursurile gimnaziului \"alecu donici\" falticeni, nevoit repete clasa iv a, trecea forma învatamânt \"rural\" \"urban\". soarta colegii clasa eugen lovinescu, fiul directorului scolii, marele critic literar târziu. jocurile copilaresti, sadoveanu rolul \"haiducului\", lovinescu \"poteras\". 1895 moare mama sa, profira ursaki, moment viitorul scriitor evoca povestirile târziu. ani deruleaza faimosul esec întruchipat teza matematici, consecinta fireasca ratacitorilor visarilor nada florilor. 1895- 1896, nevoit repete clasa iii gimnaziu. acesti ani petrecuti falticeni, penduleaza lecturile profitabile evadarile natura. 1897 saptamânal \"dracu\" bucuresti, apare schita domnisoara falticeni, semnata pseudonimul mihai pascani. toamna an înscrie liceul national iasi, liceu poarta numele. perioada definitorie formarea sa, având parte serie profesori renumiti, frunte cunoscutul filolog junimist vasile burla, directorul liceului. 1898- 1899 continua colaborarea diverse publicatii vremii: vieata noua, pagini literare, opinia. 1900 absolvirea liceului national înscrie facultatea bucuresti, îndemnul tatalui sau. urma cursuri, fiind atras mirajul literaturii. începe scrierea povestirilor constitui volumul câtiva ani, dureri înabusite. hotarârea eroica trai scris. 1901 stabili falticeni, casatorindu-se, an, ecaterina bâlu. 1904 primeste post copist casa scoalelor, bucuresti. an produce cristalizare acumularilor sadoveniene: aparitia succesiva volume proza: povestiri, soimii, dureri înabusite, crâsma mos precu. faptul an supranumit \"anul sadoveanu\" (n. iorga). 1906 reîntoarce falticeni, începe rodnica îndelungata colaborare revista viata româneasca. publica, printre altele, floare ofilita amintirile caprarului gheorghita. 1908 apar volumele: duduia margareta, istorie demult, oameni locuri. 1910 numit director teatrului national iasi (pâna 1919). 1913 parte campania bulgaria, sublocotenent locotenent. 1915 apare romanul neamul soimarestilor, marcând etapa scriitoriceasca. 1918 încetarea razboiului mondial, sadoveanu stabili iasi, fosta casa kogalniceanu copou (azi muzeul \"mihail sadoveanu\"). locul fericit existentei sale, atât punct vedere familial, artistic. concepe 30 titluri opera sa. 1921 moare tatal sau, al. sadoveanu. devine membru drepturi depline academiei române. 1922 concepe bijuteria literara dumbrava minunata, apare 1926. 1923 rosteste faimosul discurs receptie academia româna, facând elogiul poeziei populare. 1925 apare romanul venea moara siret, pornit loggia cladirii cantacuzinesti pascani, vedea ca-n palma valea siretului. 1926 tara dincolo negura dumbrava minunata. 1927 ajunge, obisnuitele peregrinari tara, zona oasa, descoperind \"raiul\" valea frumoasei bradu-strâmb, important spatiu inspiratie era, deopotriva, vânator, perscar, scriitor. face, asemenea, calatorie olanda, consecinte literare cunoscute (olanda). 1928 prolificul scriitor publica într-un ritm sustinut, practic nemaiîntânit spatiul literar: hanu-ancutei, demonul tineretii, olanda, împaratia apelor. 1929 capodopera sadoveniana iese tipar: zodia cancerului vremea ducai- voda, roman istoric. 1930 împlinind 50 ani, \"maestrul\" sarbatorit plan national, cunoscând onorurile civile. editura cartea româneasca apare romanul baltagul, scris \"dintr-o rasuflare\" circa doua saptamâni. 1932 nunta domnitei ruxandra. 1934 viata stefan mare, scriere romantata anunta capodopera volume fratii jderi. 1935 ucenicia ionut, volum trilogia numita. 1937 cartile sadoveanu arse pietele publice manifestanti aflati semnul fanatismului intolerantei politice. într-un generos \"protest intelectualilor\", scriitorul aparat valorosi oameni cultura vremii. 1939 înmâneaza diploma \"doctor honoris causa\" universitatii iesene, urma raportului citit profesorul octav botez. 1940 apare divanul persan, carte însusi autorul aseaza preferintele sale. 1942 apare ultima parte trilogia istorica fratii jderi: oamenii mariei sale. 1943 într-un protest ororile civilizatiei, sadoveanu retrage valea frumoasei; rezultatele retrageri volumul povestile bradu-strâmb. 1944 ororile razboiului ating greu: paul-mihu, fiul tânar scriitorului, moare turda, luptele eliberare transilvaniei. casa strada witting 12 lovita bombe. 1946 începe ocupe diferite functii social-politice perioada comunista. plateste greu tribut ideilor societatii socialiste, publicând carti nereusite, metoda realismului socialist: pauna mica, 1948; mitrea cocor, 1949; clont fier, 1951. 1952 vechiul roman soimii, publicat 1904, reluat ultima scriere sadoveniana importanta: nicoara potcoava. 1958 e.s.p.l.a. apare volumul aspecte opera mihai sadoveanu, fotografii dan grigorescu, îngrijirea constantin mitru. 1961 bolnav câtiva ani, aproape orb marcat dureri familiale, stinge viata 19 octombrie. înmormântat cimitirul bellu, eminescu caragiale. neamul soimarestilor (roman, 1915). povesteste parte luptele domnia ieremia- voda tomsa-voda, razesime boierime. eroul central tudor soimaru (razes viguros mândru) întoarce lunga pribegie tinutul orhei, unde-i ramasesera parintii rudele. intra slujba domnitorului tomsa, razesimea. totodata, amplifica ura sa, mostenita parinti, boierului stroie orheianu. acestuia refuza dispretuieste tudor. polonezii rastoarna tomsa scaunul moldovei instalat domn alexandru movila, eroul romanului ucide boier, incendiind curtea acestuia. motivul inegalabilei balade miorita ilustrat romanul baltagul (1930). actiunea, simplitate fermecatoare, plasata zona munte vaii bistritei. oier înstarit valea rarcaului, nume nechifor lipan, pleaca oi dorna întoarce. dârza nevasta victoria cade gânduri si, zabava, pleaca cautarea barbatului, bistrita sus. e insotita fiul gheorghita, înarmeaza baltag. ajung dorna si, capata informatii disparut, fac cale întoarsa adulmeca urmele nechifor lipan. vitoria gheorghita cauta sat sat (brosteni, borca, sabasa), muntele stânisoara, sabasa suha, urmele oierului devin neclare. însa deodata gasesc gospodar câinele nechifor si, astfel, afla oasele disparutului într-o râpa stânisoarei. pâna urma, vitoria lipan descopera ucigasii, oameni rai suha. care-l omorâse baltagul nechifor lovit, baltagul, gheorghita. case memoriale - mihail sadoveanu cladirea dealul copoului apartinut, veacul trecut, istoricului m. kogalniceanu. 1917-1918, aflindu-se refugiu iasi, timpul razboiului, locuit george enescu. 1918-1936, casa apartinut mihail sadoveanu, \"ceahlaul literaturii romane\", scris 35 titluri opera sa. 1980, cladirea devenit casa memoriala, obiectiv muzeului literaturii romane. duminica (a lunii mai) arborii curte infloresc, organizeaza traditionala, acum, \"sarbatoare liliacului\". adresa: aleea sadoveanu nr. 12 mihail sadoveanu aprecieri introductivemihail sadoveanu, scriitor deosebit prolific, lasa posteritatii opera intinde jumatate secol, avand “amploarea intregi literaturi, literaturii intregi popor, populara” (garabet ibraileanu) , indreptatind caracterizarea george calinescu aprecia “esenta operei sadoveanu sta dimensionalitate, granduare”. raportat curentele literare, mihail sadoveanu caracterizat critica literara realist viziune romantica romantic aduce detalii realist, contemplativ. caracteristici prozei sadoveanu rand povestitor, traditia ilustri inaintasi, ion neculce ion creanga, remarcandu-se printr-o extraordinara capacitate contopi lumea evocata, singur narator, autorul insusi, postura adevarat rapsod, povesteste viata trecut participand afectiv povestite inplicand cititorul-ascultator participare afectiv-subiectiva puermite detasarea obiectiva, indeamna adesea reflectie meditativa conditiei umane. povestirea sadoveniana capata rezonante poem balada, pastrand accente revolta profund sentiment nemultumire, generat nevoia libertate demnitate eroului sadovenian, adesea taranul roman infinitate ipostaze, confirmand marturisirea autorului: “taranul principalul erou”. epoca cultiva predilectie poezia citadina, mihail sadoveanu imbogatit substantial traditia poeziei inspiratie rurala. eroii sadovenieni povestirile inspiratie rurala oameni anumita structura sufleteasca, oameni blajini intelepti, acut simt dreptatii, libertatii demnitatii, aparatori principii etice fundamentale. george calinescu considera “miscarile regresive” caracteristica literaturii sadoveniene. rabdatori suferinta, taranii sadoveanu tin vesnic sufletul dureri nestinse retrag mijlocul naturii, fugind forte ostile, rabufnesc violenta implinindu-si dreptatea mentinand nealterat sentimentul demnitatii umane. titlul volumului povestiri 1904, “dureri inabusite” sugestiv retragerea durerea interiorizata, devenita taina greu lasa dezvaluita, eroii izolandu-se tacere singuratate. adevarul, dreptatea, demnitatea, iubirea patimasa alcatuiesc universul sufletului taranesc povestiri dramatice ca: “in drum harlau”, “pacat boieresc”, “o umbra”, “hotul”, “o poveste demult” cuprinse volumele “dureri inabusite”, “povestiri”, “o istorie demult”. sadoveanu neaga orasul, considerat spatiu instrainarii, eroii traiesc drame dezechilibrului sufletesc, satul conserva valoroase elemente spiritualitate romaneasca. priveste romanele sadoveanu, george calinescu clasifica astfel: romane regresiunii, intriga lirica (“apa mortilor”);romane patetice, intriga nestructurala (“haia sanis”); romanul miscarilor milenare, intriga antropologica (“baltagul”); romanul nemiscarii milenare, intriga mitologica (“noptile sanziene”). tendinta retragere civilizatiei moderne alienate evidenta romanul istoric sadovenian. creator romanului evocare istorica literatura romana, sadoveanu asociaza trecutului natura, folclorul, filozofia populara, regaseste permanenta fundalul istoric. cunoscator cantecelor batranesti, legendelor baladelor, scrierile evocare istorica sadoveniana constructii baladesti. sadoveanu reconstituie mitica varsta inceputurilor (“creanga aur”), vremurile glorie domniei stefan (“fratii jderi”), decaderea falnica tarii timpul ducai voda (“zodia cancerului”). preocupat figura celui stralucit voevod nostru, sadoveanu scrie trilogia “viata stefan mare”, avand reper evocarea moment istoria nationala, legat domnia stefan mare, vremea moldova cunoscuse apogeul infloririi economice, spirituale, maximum stabilitate, trilogia valorificand cronicile moldovene deosebit “letopisetul tarii moldovei” grigore ureche, creatia folclorica, oglindind figura marelui domn. simte existenta doua taramuri: real fantastic, atmosfera miraculoasa legendara proiecteaza lume viteaza, mareata, dezvaluie tainele naturii oamenilor. spiritualitate autohtona traieste preajma padurii, muntelui, practici primitive. istoria proiectata fantastic monumental. considerat garabet ibraileanu “cel poet pictor literatura romana”, sadoveanu intreaga opera dezvaluie frumusetea armonia peisajului natural romanesc, adanca comuniune omului natura. concluzionand afirma dincolo marile teme creatii sadoveniene: viata satului romanesc, evocarea trecutului istoric, natura, targul provincie monoton asfixiat, teme regasesc creatia sadoveniana caci “ele repeta varietate” (george calinescu), farmecul sadoveanu, artist, sta naratie, vocatia fiind povestitor. prezentul realitate adesea trista, fundal realitate, trecut devenit obiect filozofare contemplatie. perspective acestea, scriitorul aude vocea lucrurilor descifreaza tacerea oamenilor, practica plasticizarea fabulosului transpune realul legenda. esenta, arta sadoveanu, natura simfonica, releva viziune totala istoriei luminii. mihail sadoveanu - opera literară mihail sadoveanu creatorul romanului istoric românesc. povestitor, alături jon neculce (perioada veche) jon creangă (perioada marilor clasici). mihail sadoveanu lăsat operă monumentală concretizată 100 volume. debutează schiţă domnişoar n. fălticeni, într-o revistă bucureşti, 1897. 1901 mihail sadoveanu colaborează revista sămănătorul, fiind coaptat redacţia reviste. anul 1904 înseamnă marea intrare mihail sadoveanu literatura română debutul editorial cărţi: povestiri, crâşma moş precu, dureri înăbuşite, soimii. referindu-se aspect, nicolae iorga preciza anul 1904 trebuie numit anul literar mihail sadoveanu. debut editorial anunţă încă marile teme creaţiei sadoveniene: viaţa necăjiţi, interesul istorie, dragostea faţă natură. acelaşi cărţi evidenţiază excepţionalul talent povestitor mihail sadoveanu. 1907 apare iaşi revista viaţa românească mihail sadoveanu deveni colaborator acesteia. romanele istorice: soimii (1904), neamul şoimăreştilor (1915), zodia cancerului vremea ducă-i vodă (1929), creanga aur (1933), viaţa ştefan (1934), fraţii jderi : ucenicia ionuţ (1935), izvorul alb (1936), oamenii măriei (1942), nicoară potcoavă (1952) romane sociale: baltagul (1930), strada lăpuşneanu, însemnările neculai manea, mitrea cocor opere închinate naturii: împărăţia apelor, valea frumoasei, ţara dincolo negură, poveştile bradu, strâmb, istorisiri vânătoare povestiri: bordeienii, hanu-ancuţei (1929), dureri înăbuşite, apa mărilor viaţa târgurilor provincie: locul s-a întâmplat (1933), barca liniştii, haia sanis, floare ofilită lucrări memorialiste: anii ucenicie, vechi amintiri meritele mihail sadoveanu primit academie, rostind prilej discurs recepţie poezia populară. război mondial mihail sadoveanu recunoscut personalitate vieţii politice literare. preşedintele uniunii scriitorilor. anii obsedantului deceniu mihail sadoveanu compromisuri, scriind romanele mitrea cocor păuna mică, romane complet lipsite valoare literară. vasta operă sadoveniană remarcă proza istorică calitate, operele închinate naturii evocă atmosfera apăsătoare târgurilor provincie. întreaga operă trăieşte excepţionalul talent povestitor autorului. mihail sadoveanu - prezentare generala sadoveanu scriitor individualitate distincta literatura romana universala. realist viziune romantica romantic aduce detalii realist, contemplativ. scriitorul evoca istoria popor, dandu-i dimensiuni mitice, individualizand-o. rand povestitor, povestirea capata rezonante poem balada, pastrand accente revolta profund sentiment nemultumire, generat nevoia libertate. sens, descoperim tendinta retragere trecut, rezistenta civilizatiei (“hanu ancutei”, “tara dincolo negura”). indivizii conditionati istoric social, supusi legii lipsei legi, substituie “legea baltagului”, nescrisa: fapta devine fapta tuturor, sangele cere sange mortii poruncesc vii. eroii sadoveanu exponentii categorii, tipuri arhetipuri, exemplare umanitate faptele lor. originalitatea operei data capacitatea scriitorului contopi lumea evocata, singur narator, autorul insusi, povesteste viata trecut azi. categorie personaje taranii, caror univers spiritual obliga considere mandria muncii pret viata omului. sadoveanu descrie retragerea taranilor civilizatiei, precum sentimentul dezradacinarii alienarii. satul vazut procesul pauperizare taranului lupta administratia, boierii. personajele capata fizionomia dimensiunea locului traiesc. primele creatii inspirate lumea satului, resimt influente naturaliste. tarziu, scriitorul insista explicarii relatiilor sociale personaje, opera devenind adevarat studiu social, moral psihologic. mihail sadoveanu creator atmosfera; universul prozei subiect viata targurilor inchis, sufocant, consuma destinele tragice familiei burgheze mic- burgheze inecate prejudecati. mediul sufocant, existenta stearsa. spiritele aspira lume, raman ofileasca, incearca salveze - depasirea conditiei rezolva tragic. conditia istorica individului presupune, sadoveanu, introducerea personajului spatiu timp, formula evocarii. scriitorul creeaza romanul istoric romanesc. lucrarile intemeiaza larga informare, autorul explorand epopeea, istoria mediteraneean, hindusa, povestirea laica persana araba, balada basmul romanesc, cronicarii, scrierile nicoale iorga. sadoveanu reconstituie epic istoria moldovei timpul stefan duca- voda, dezvoltata tema unica, lupta independenta nationala dreptate sociala. istoria moldovei prezentata etape: secolul xv-lea (stefan mare), secolul xvi-lea (ion-voda viteaz), secolul xvii-lea (stefan tomsa, vasile lupu, duca-voda). langa personajele cunoscute romane istorice, scriitorul creeaza arhetipuri, modele exemplare traiesc patrie eterna. sadoveanu opune, astfel, elementele permanenta culturi impresionante vechime profunzime nestatornice alunecatoare. autorul insusi devine personaj prezent istorie; interferand planurile temporale, subliniaza vechimea departarea. situate timp, personajele gandesc vremuri vechi, demult, povestire, nuantata sugestii, gesturi haiducesti, romantice, extraordinare, devine poem, capata dimensiuni balada.'"
            ]
          },
          "metadata": {
            "tags": []
          },
          "execution_count": 9
        }
      ]
    },
    {
      "cell_type": "code",
      "metadata": {
        "colab": {
          "base_uri": "https://localhost:8080/",
          "height": 206
        },
        "id": "m3byfyifYi_C",
        "outputId": "6ecd920b-6127-4865-ad5b-8bff8377324a"
      },
      "source": [
        "import re\n",
        "\n",
        "def clean_numbers(x):\n",
        "\n",
        "    x = re.sub('[0-9]{5,}', '#####', x)\n",
        "    x = re.sub('[0-9]{4}', '####', x)\n",
        "    x = re.sub('[0-9]{3}', '###', x)\n",
        "    x = re.sub('[0-9]{2}', '##', x)\n",
        "    x = re.sub('[0-9]', '#', x)\n",
        "\n",
        "    return x\n",
        "\n",
        "train['processed_text'] = train['processed_text'].apply(lambda x : clean_numbers(x))\n",
        "train.head(5)"
      ],
      "execution_count": 9,
      "outputs": [
        {
          "output_type": "execute_result",
          "data": {
            "text/html": [
              "<div>\n",
              "<style scoped>\n",
              "    .dataframe tbody tr th:only-of-type {\n",
              "        vertical-align: middle;\n",
              "    }\n",
              "\n",
              "    .dataframe tbody tr th {\n",
              "        vertical-align: top;\n",
              "    }\n",
              "\n",
              "    .dataframe thead th {\n",
              "        text-align: right;\n",
              "    }\n",
              "</style>\n",
              "<table border=\"1\" class=\"dataframe\">\n",
              "  <thead>\n",
              "    <tr style=\"text-align: right;\">\n",
              "      <th></th>\n",
              "      <th>index</th>\n",
              "      <th>filename</th>\n",
              "      <th>text</th>\n",
              "      <th>category</th>\n",
              "      <th>grade</th>\n",
              "      <th>processed_text</th>\n",
              "    </tr>\n",
              "  </thead>\n",
              "  <tbody>\n",
              "    <tr>\n",
              "      <th>0</th>\n",
              "      <td>3685</td>\n",
              "      <td>Referat Piercing-ul si adolescentii</td>\n",
              "      <td>Piercing-ul si tatuajele - vanitati adolescent...</td>\n",
              "      <td>psihologie</td>\n",
              "      <td>5.65</td>\n",
              "      <td>piercing-ul tatuajele - vanitati adolescentine...</td>\n",
              "    </tr>\n",
              "    <tr>\n",
              "      <th>1</th>\n",
              "      <td>775</td>\n",
              "      <td>Gradinile Suspendate Ale Semiramidei</td>\n",
              "      <td>GRADINILE SUSPENDATE ALE SEMIRAMIDEI A doua mi...</td>\n",
              "      <td>istorie</td>\n",
              "      <td>9.00</td>\n",
              "      <td>gradinile suspendate semiramidei doua minune l...</td>\n",
              "    </tr>\n",
              "    <tr>\n",
              "      <th>2</th>\n",
              "      <td>1765</td>\n",
              "      <td>Referat Mihail Sadoveanu</td>\n",
              "      <td>MIHAIL SADOVEANU  (1880-1961) \\nMihail Sadovea...</td>\n",
              "      <td>romana</td>\n",
              "      <td>5.36</td>\n",
              "      <td>mihail sadoveanu (####-####) mihail sadoveanu ...</td>\n",
              "    </tr>\n",
              "    <tr>\n",
              "      <th>3</th>\n",
              "      <td>3691</td>\n",
              "      <td>Referat Eminescu</td>\n",
              "      <td>EMINESCU \\nS-a  nascut pe 15 ianuarie 1850 la ...</td>\n",
              "      <td>romana</td>\n",
              "      <td>5.35</td>\n",
              "      <td>eminescu s-a nascut ## ianuarie #### botosani ...</td>\n",
              "    </tr>\n",
              "    <tr>\n",
              "      <th>4</th>\n",
              "      <td>3402</td>\n",
              "      <td>Moara</td>\n",
              "      <td>Moara cu noroc Ioan Slavici \\nCaracterizarea l...</td>\n",
              "      <td>romana</td>\n",
              "      <td>10.00</td>\n",
              "      <td>moara ioan slavici caracterizarea ghita ghita ...</td>\n",
              "    </tr>\n",
              "  </tbody>\n",
              "</table>\n",
              "</div>"
            ],
            "text/plain": [
              "   index  ...                                     processed_text\n",
              "0   3685  ...  piercing-ul tatuajele - vanitati adolescentine...\n",
              "1    775  ...  gradinile suspendate semiramidei doua minune l...\n",
              "2   1765  ...  mihail sadoveanu (####-####) mihail sadoveanu ...\n",
              "3   3691  ...  eminescu s-a nascut ## ianuarie #### botosani ...\n",
              "4   3402  ...  moara ioan slavici caracterizarea ghita ghita ...\n",
              "\n",
              "[5 rows x 6 columns]"
            ]
          },
          "metadata": {
            "tags": []
          },
          "execution_count": 9
        }
      ]
    },
    {
      "cell_type": "code",
      "metadata": {
        "colab": {
          "base_uri": "https://localhost:8080/",
          "height": 206
        },
        "id": "UaGhFBhyZDf4",
        "outputId": "3788cef5-7be6-4d84-e36e-94874934581a"
      },
      "source": [
        "# train['processed_text'] = train['processed_text'].apply(lambda x : re.sub(r'\\s+$', '', x, flags=re.M))\n",
        "# train.head(5)"
      ],
      "execution_count": null,
      "outputs": [
        {
          "output_type": "execute_result",
          "data": {
            "text/html": [
              "<div>\n",
              "<style scoped>\n",
              "    .dataframe tbody tr th:only-of-type {\n",
              "        vertical-align: middle;\n",
              "    }\n",
              "\n",
              "    .dataframe tbody tr th {\n",
              "        vertical-align: top;\n",
              "    }\n",
              "\n",
              "    .dataframe thead th {\n",
              "        text-align: right;\n",
              "    }\n",
              "</style>\n",
              "<table border=\"1\" class=\"dataframe\">\n",
              "  <thead>\n",
              "    <tr style=\"text-align: right;\">\n",
              "      <th></th>\n",
              "      <th>index</th>\n",
              "      <th>filename</th>\n",
              "      <th>text</th>\n",
              "      <th>category</th>\n",
              "      <th>grade</th>\n",
              "      <th>processed_text</th>\n",
              "    </tr>\n",
              "  </thead>\n",
              "  <tbody>\n",
              "    <tr>\n",
              "      <th>0</th>\n",
              "      <td>3685</td>\n",
              "      <td>Referat Piercing-ul si adolescentii</td>\n",
              "      <td>Piercing-ul si tatuajele - vanitati adolescent...</td>\n",
              "      <td>psihologie</td>\n",
              "      <td>5.65</td>\n",
              "      <td>piercing-ul si tatuajele - vanitati adolescent...</td>\n",
              "    </tr>\n",
              "    <tr>\n",
              "      <th>1</th>\n",
              "      <td>775</td>\n",
              "      <td>Gradinile Suspendate Ale Semiramidei</td>\n",
              "      <td>GRADINILE SUSPENDATE ALE SEMIRAMIDEI A doua mi...</td>\n",
              "      <td>istorie</td>\n",
              "      <td>9.00</td>\n",
              "      <td>gradinile suspendate ale semiramidei a doua mi...</td>\n",
              "    </tr>\n",
              "    <tr>\n",
              "      <th>2</th>\n",
              "      <td>1765</td>\n",
              "      <td>Referat Mihail Sadoveanu</td>\n",
              "      <td>MIHAIL SADOVEANU  (1880-1961) \\nMihail Sadovea...</td>\n",
              "      <td>romana</td>\n",
              "      <td>5.36</td>\n",
              "      <td>mihail sadoveanu  (####-####)\\nmihail sadovean...</td>\n",
              "    </tr>\n",
              "    <tr>\n",
              "      <th>3</th>\n",
              "      <td>3691</td>\n",
              "      <td>Referat Eminescu</td>\n",
              "      <td>EMINESCU \\nS-a  nascut pe 15 ianuarie 1850 la ...</td>\n",
              "      <td>romana</td>\n",
              "      <td>5.35</td>\n",
              "      <td>eminescu\\ns-a  nascut pe ## ianuarie #### la b...</td>\n",
              "    </tr>\n",
              "    <tr>\n",
              "      <th>4</th>\n",
              "      <td>3402</td>\n",
              "      <td>Moara</td>\n",
              "      <td>Moara cu noroc Ioan Slavici \\nCaracterizarea l...</td>\n",
              "      <td>romana</td>\n",
              "      <td>10.00</td>\n",
              "      <td>moara cu noroc ioan slavici\\ncaracterizarea lu...</td>\n",
              "    </tr>\n",
              "  </tbody>\n",
              "</table>\n",
              "</div>"
            ],
            "text/plain": [
              "   index  ...                                     processed_text\n",
              "0   3685  ...  piercing-ul si tatuajele - vanitati adolescent...\n",
              "1    775  ...  gradinile suspendate ale semiramidei a doua mi...\n",
              "2   1765  ...  mihail sadoveanu  (####-####)\\nmihail sadovean...\n",
              "3   3691  ...  eminescu\\ns-a  nascut pe ## ianuarie #### la b...\n",
              "4   3402  ...  moara cu noroc ioan slavici\\ncaracterizarea lu...\n",
              "\n",
              "[5 rows x 6 columns]"
            ]
          },
          "metadata": {
            "tags": []
          },
          "execution_count": 17
        }
      ]
    },
    {
      "cell_type": "code",
      "metadata": {
        "colab": {
          "base_uri": "https://localhost:8080/",
          "height": 206
        },
        "id": "cXV-9EbXaZ0y",
        "outputId": "4a11dfbf-3f53-4097-da38-bbbb9710795c"
      },
      "source": [
        "# train['processed_text'] = train['processed_text'].apply(lambda x : x.rstrip('\\r\\n\\t').replace('\\n', ' ').replace('\\t', ' '))\n",
        "# train.head(5)"
      ],
      "execution_count": null,
      "outputs": [
        {
          "output_type": "execute_result",
          "data": {
            "text/html": [
              "<div>\n",
              "<style scoped>\n",
              "    .dataframe tbody tr th:only-of-type {\n",
              "        vertical-align: middle;\n",
              "    }\n",
              "\n",
              "    .dataframe tbody tr th {\n",
              "        vertical-align: top;\n",
              "    }\n",
              "\n",
              "    .dataframe thead th {\n",
              "        text-align: right;\n",
              "    }\n",
              "</style>\n",
              "<table border=\"1\" class=\"dataframe\">\n",
              "  <thead>\n",
              "    <tr style=\"text-align: right;\">\n",
              "      <th></th>\n",
              "      <th>index</th>\n",
              "      <th>filename</th>\n",
              "      <th>text</th>\n",
              "      <th>category</th>\n",
              "      <th>grade</th>\n",
              "      <th>processed_text</th>\n",
              "    </tr>\n",
              "  </thead>\n",
              "  <tbody>\n",
              "    <tr>\n",
              "      <th>0</th>\n",
              "      <td>3685</td>\n",
              "      <td>Referat Piercing-ul si adolescentii</td>\n",
              "      <td>Piercing-ul si tatuajele - vanitati adolescent...</td>\n",
              "      <td>psihologie</td>\n",
              "      <td>5.65</td>\n",
              "      <td>piercing-ul si tatuajele - vanitati adolescent...</td>\n",
              "    </tr>\n",
              "    <tr>\n",
              "      <th>1</th>\n",
              "      <td>775</td>\n",
              "      <td>Gradinile Suspendate Ale Semiramidei</td>\n",
              "      <td>GRADINILE SUSPENDATE ALE SEMIRAMIDEI A doua mi...</td>\n",
              "      <td>istorie</td>\n",
              "      <td>9.00</td>\n",
              "      <td>gradinile suspendate ale semiramidei a doua mi...</td>\n",
              "    </tr>\n",
              "    <tr>\n",
              "      <th>2</th>\n",
              "      <td>1765</td>\n",
              "      <td>Referat Mihail Sadoveanu</td>\n",
              "      <td>MIHAIL SADOVEANU  (1880-1961) \\nMihail Sadovea...</td>\n",
              "      <td>romana</td>\n",
              "      <td>5.36</td>\n",
              "      <td>mihail sadoveanu  (####-####) mihail sadoveanu...</td>\n",
              "    </tr>\n",
              "    <tr>\n",
              "      <th>3</th>\n",
              "      <td>3691</td>\n",
              "      <td>Referat Eminescu</td>\n",
              "      <td>EMINESCU \\nS-a  nascut pe 15 ianuarie 1850 la ...</td>\n",
              "      <td>romana</td>\n",
              "      <td>5.35</td>\n",
              "      <td>eminescu s-a  nascut pe ## ianuarie #### la bo...</td>\n",
              "    </tr>\n",
              "    <tr>\n",
              "      <th>4</th>\n",
              "      <td>3402</td>\n",
              "      <td>Moara</td>\n",
              "      <td>Moara cu noroc Ioan Slavici \\nCaracterizarea l...</td>\n",
              "      <td>romana</td>\n",
              "      <td>10.00</td>\n",
              "      <td>moara cu noroc ioan slavici caracterizarea lui...</td>\n",
              "    </tr>\n",
              "  </tbody>\n",
              "</table>\n",
              "</div>"
            ],
            "text/plain": [
              "   index  ...                                     processed_text\n",
              "0   3685  ...  piercing-ul si tatuajele - vanitati adolescent...\n",
              "1    775  ...  gradinile suspendate ale semiramidei a doua mi...\n",
              "2   1765  ...  mihail sadoveanu  (####-####) mihail sadoveanu...\n",
              "3   3691  ...  eminescu s-a  nascut pe ## ianuarie #### la bo...\n",
              "4   3402  ...  moara cu noroc ioan slavici caracterizarea lui...\n",
              "\n",
              "[5 rows x 6 columns]"
            ]
          },
          "metadata": {
            "tags": []
          },
          "execution_count": 18
        }
      ]
    },
    {
      "cell_type": "code",
      "metadata": {
        "colab": {
          "base_uri": "https://localhost:8080/",
          "height": 125
        },
        "id": "r2HiZbxFZYe_",
        "outputId": "a43ac273-8213-4519-8178-49b5f9219d3a"
      },
      "source": [
        "train.processed_text.iloc[100]\r\n"
      ],
      "execution_count": 14,
      "outputs": [
        {
          "output_type": "execute_result",
          "data": {
            "application/vnd.google.colaboratory.intrinsic+json": {
              "type": "string"
            },
            "text/plain": [
              "'echipamentul baza echipamentul esential format coif (cassis), armura (lorica segmentata), sabie # taisuri (gladius), sulita lungime medie pt. aruncare (pilium), scutul (scutum) sandale. coiful fabricat general bronz incepand anul ### i.e.n. acoperea ceafa fruntea. armura numea lorica segmentata , fiind formata lame bronz suprapuse. purta aseamenea camasa zale. gladiusul sabie extrem eficienta. dimensiuni mici (aprox ##cm), fiind usor manuit grea, necesitand putina forta energie. piliumul (sulita) purta rol essential lupta. compunea varf ascutit metal asezat suport lemn. sulita, lunga #m, aruncata adversar putand zdrobeasca scutul acestuia, facandu-l vulnerabil mortii. apararea frontala soldatului roman oferita scutum. rotund, bronz, oval, dreptunghiular, lemn, tarziu urma semicilindric hexagonal. lupta, soldatii purtau mantie rosie timpul luptei. tinea caldura inducea frica ochii inamicului. soldat incaltaminte. timpuri, aveau sandale. aceastea erau rezistente usor reparat. artileria soldati apucau vada oamenii omorau. erau artileristii. omorau dusmanii zeci metrii departare. importante arme artilerie erau: “scorpio” balista catapulta celebra # indoiala catapulta. inventata aprox. ### i.e.n., inginerii greci (printre arhimede) orasul siracuza. catapulta dispunea arc desprins arunca pietre dimensiuni mari, pt. distruge zidurile oraselor. balista similara catapulte, avand mecanism schimbat tragere, intinderea coarde. exista versiune mica balistei, arunca pietre dimensiuni medii aer. scorpio-ul asemana arc evul mediu. arunca sageata tragerea coarde despridere brusca. nota: armele artilerie limitau pietre, folosind tipuri munitie. foloseau bile flacari smoala. tactic timpul luptei, soldatii romani stateau scurile fata, cot cot, urmandui siruri scuturile ridicate capului celui fata. tactica numea “testoasa”. grupul romani avansa protejat impotriva artileriei. soldatii oboseau usor timpul batalii. romanii rezolvat problema. soldatul lupta rand ## minute, retragea lasand locul soldat odihnit. tactica folosita cucerirea oraselor izolarea totala. orasul asediat inconjurat artilerie soldati, asteptandu-se terminarea proviziilor.totusi, asteptarea dura indelungat, romanii construiau turnuri asediu ajutorul puteau escalada usurinta zidurile orasului. importanta tactica romanilor antrenamentul. romanii erau instruiti lupta greu pt. improviza. soldat instruit inginer. unitatea soldatilor romani motivul imperiul victorios cuceririle militare. soldatii erau apropiati celalalt, gandindu-se langa frate. fugit lupta, similar abandonarea familiei, fapt imposibil conceput. urmare, soldatii ramaneau impreuna, indiferent dificultatea situatiei.'"
            ]
          },
          "metadata": {
            "tags": []
          },
          "execution_count": 14
        }
      ]
    },
    {
      "cell_type": "code",
      "metadata": {
        "id": "o7OgtOCeVdqm"
      },
      "source": [
        "train['processed_text'] = train['processed_text'].apply(lambda x : re.sub(r'[^\\x00-\\x7F]+',' ', x))\r\n",
        "\r\n"
      ],
      "execution_count": 10,
      "outputs": []
    },
    {
      "cell_type": "code",
      "metadata": {
        "id": "TU0nA8BLhalj",
        "colab": {
          "base_uri": "https://localhost:8080/",
          "height": 125
        },
        "outputId": "aeaf589f-3769-4e98-dba7-fd7ce788364a"
      },
      "source": [
        "dev['processed_text'] = dev['text'].apply(lambda x: x.lower())\n",
        "dev['processed_text'] = dev['processed_text'].apply(lambda x : remove_stopwords(x))\n",
        "dev['processed_text'] = dev['processed_text'].apply(lambda x : re.sub(r'[^\\x00-\\x7F]+',' ', x))\n",
        "dev['processed_text'] = dev['processed_text'].apply(lambda x : clean_numbers(x))\n",
        "\n",
        "# dev['processed_text'] = dev['processed_text'].apply(lambda x : re.sub(r'\\s+$', '', x, flags=re.M))\n",
        "# dev['processed_text'] = dev['processed_text'].apply(lambda x : x.rstrip('\\r\\n').replace('\\n', ' ').replace('\\t', ' '))\n",
        "# dev.head(10)\n",
        "# dev.text.iloc[3]\n",
        "dev.processed_text.iloc[3]\n"
      ],
      "execution_count": 12,
      "outputs": [
        {
          "output_type": "execute_result",
          "data": {
            "application/vnd.google.colaboratory.intrinsic+json": {
              "type": "string"
            },
            "text/plain": [
              "'ion luca caragiale - scrisoare pierdut comedie satiric  publicat  ####. ac iunea piesei plasat   ntr-un or el munte, capital  jude , prezen a scen  dandanache trimis centru numit candidat alegeri,  antaj ca avencu, extinde politica  ntregului sistem vie ii politice  ar . subiectul :  ntr-nu or el munte grup ri partidului liberal, guvernamentalii opozi ie, toiul alegerilor parlamentul chemat revizuiasc  constitu ia. candi- datul guvernare reprezentat avocatul farfuridi, opozi ia reprezentat  ca avencu, directorul ziarului <<r cnetul carpa ilor>>. ca avencu  antajaz  adversari publicarea scrisori amor zoe trahanache, primit   tefan tip tescu prefectul jude ului prieten so ului acesteia, zaharia trahanache. scrisoarea fusese g sit  cet eanul tur- mentat furat  ca avencu. amenin  publica scrisoarea ziarul adversarii retrag alegeri. ca avencu accept  propune tip tescu: mo ie, postul avocat statului. insisten ele zoe, tip tescu accept  s -l sprijine ca a- vencu alegeri. centru trimis candidat, agami  dandanache, numit urma  antaj publica scrisoare amor. punctul culminant coflictului atins actul -iii- lea  edin a fixarea candidatului. discursurile farfuridii ca avencu, anun at numele noului candidat a. dandanache. urmare ca avencu  ncearc  dezv luie scrisoarea compromi toare, poli aiul ora ului declan az   nc ierare politicienii lua b taie. ca avencu  i pierde p l ria scrisoarea. p l ria g sit  cet enul turmentat prob nd p l ria g se te c ptu eala acesteia scrisoarea amor duce  adrisantului . ca avencu prins zaharia trahanache poli  falsificat  accepta condi iile puse zoe trec nd partea fo tilor adversari: prezideze banchetul onoarea a. dandanache c tigase alegerile, toasteze tip tescu chefuiasc  poporul. piesa  ncheie scen  armonie general , mutic , discursuri. personajele grupate tabere politice:  ntr-o tab r  intr  grupul guvrnamental( far- furidi, br nzovenescu, prispanda, zoe zaharia trahanache,  t. tip tescu, a. dandanache) alt  parte opozi ie ( ca avencu sus in torii s i, d sc limea preotul ). loc aparte cet eanul turmentat  ntruchipeaz  aleg torii deruta i. eroii prezenta i contrastul radical par  realitate. ghi  prispanda - poli aiul ora ului  ntruchipeaz  func ionarul slugarnic aprob  spun st p nii ordon , fiind  ncalc  legea. afi eaze devotament fa  st p nii celebrul tic verbal:  curat !  , gata treac  partea c tiga alegerile. aresteaz  ca avencu spune acestuia admir , ci- te te ziarul sf nta evanghelie fiind  scrofulos  datorie ascultat ordinul st p nilor. prispanda viclean, vrea s - i asigure simpatia ca avencu eventualitatea succes alegeri acestuia. afi az  cinste simpatie meseria ,  tie s - i aranjeze mici afaceri, stegurile, a i rotunjii leafa. scuza este:   familie mare, renumera ie buget mic   . poli ai  ncalc  legea,  i  ndeamn   b ie ii  declan eze b taia adunarea electorala fixarea candidatului. ticurile verbale, st lcirea neologismelor tr deza incultura platitudinea intelectual . zaharia trahanache - pre edintele grupului politic guvernamental  president numeroase comitete comi ii . tipul burghezului parvenit, ramolit fizic intelectual. personajul ridicol contrastul preten ia politicean, capabil s - i asume r spunderi ramolitismul evident spune. om politic greoi, tip tescu. rele iile tip tescu zoe credul, naiv viclean. degrab  preface  tie leg tura tip tescu zoe viclean dovad   tie descopere poli a falsificat  ca avencu s -l reduc  t cere. apeleaz   antaj contra antaj. arat  indicnat imoralitatea jur vede corup ia imoralitatea partidul conduce. vorbe te aforisme, agramat, st lce te neologismele, ticuri verbale - dovedind limitare intelectual  :  ai pu intic  r bdare ,  stimabile ,  onorabile . numele sugereaz  ramolismentul,  zahariseal . nae ca avencu - tipul demagogului politic, canaliei politice, cameleonului politic. tipul oportunistului politic trece grupare politic  func ie interesele personale. practic  avocatura gazet ria pornit drumul parvenirii. calea parvenirii cariera politic . tipul  antajistului - at ta  arma politic   antaja inflexibil, incoruptibil, accept  propunerile tip tescu. schimb pierde scrisoarea g sit  poli a falsificat  umile te fa a zoei, accept nd condi iile puse trece tab ra fo tilor adversari. discursul  ine model demagogie. urc  tribun  afi nd emo ie, vorbe te ton pl ng re   ri oara lui  brusc ton  l tr tor  vorbe te meritele sale. citeaz  gre it gambetta machiavelli:  sco- pul scuz  mijloacele ; folosse te neologisme sens gre it. numele - ca avencu - deriv  substantivul ca  folosit metafor  denumi femeie scandaloas . stefan tip tescu - personaj caragiale satirizat corup ia administra ia burghez . trateaz  jude ul propia mo ie dovede te propunerile f cute ca avencu. corupt imoral, dovad  leg tura zoe. fa  zoe pare onest, propune plece  mpreun  evita scandalul, refuz  accept nd via  compromisuri. prezentat contrastul preten ia superioritate moral  fa  ca avencu care-l dezgust  metodele folosite lupta politic , corupt. folose te poli ia local , apel nd abuzul putere. zoe trahanache - so ia zaharia trahanache, fiind defapt adev rata st p n  jude ului av nd influen e zaharia tip tescu. imoral  es sperie dec t guraa lumii, scandal, sile te tip tescu accepte t rguri ca avencu. con tient  puterea , tip tescu  ncearc  opun , es spune:  eu aleg, b rbatul meu . cet eanul turmentat - singurul personaj onest pies   ntruchipeaz  masa ale- g torilor. valoare simbol  ntruchipeaz  aleg torul ame it demagogia politic . dezorientat c teva minute  nchiderea urnelor  ntreab : eu votez ?  onest,  mp r itor po t  restitui scrisoarea  adrisantului , ca avencu restitui-o schimbul candidaturii dandanache (  mai canalie dec t ca avencu  ) p strez   la loc sigur   mai trebuie s-alt dat .'"
            ]
          },
          "metadata": {
            "tags": []
          },
          "execution_count": 12
        }
      ]
    },
    {
      "cell_type": "code",
      "metadata": {
        "id": "hwO-rAceh4Wh"
      },
      "source": [
        "test['processed_text'] = test['text'].apply(lambda x: x.lower())\n",
        "test['processed_text'] = test['processed_text'].apply(lambda x : remove_stopwords(x))\n",
        "test['processed_text'] = test['processed_text'].apply(lambda x : re.sub(r'[^\\x00-\\x7F]+',' ', x))\n",
        "test['processed_text'] = test['processed_text'].apply(lambda x : clean_numbers(x))\n",
        "\n",
        "# test['processed_text'] = test['processed_text'].apply(lambda x : re.sub(r'\\s+$', '', x, flags=re.M))\n",
        "# test['processed_text'] = test['processed_text'].apply(lambda x : x.rstrip('\\r\\n').replace('\\n', ' ').replace('\\t', ' '))\n"
      ],
      "execution_count": 11,
      "outputs": []
    },
    {
      "cell_type": "code",
      "metadata": {
        "id": "VriSzbTs9gHd"
      },
      "source": [
        "# from gensim.models.phrases import Phrases, Phraser\r\n",
        "# from collections import defaultdict\r\n",
        "\r\n",
        "# sent = [row.split() for row in train['processed_text']]\r\n",
        "\r\n",
        "# phrases = Phrases(sent, min_count=30, progress_per=10000)\r\n",
        "\r\n",
        "# bigram = Phraser(phrases)\r\n",
        "# sentences = bigram[sent]\r\n",
        "\r\n",
        "# word_freq = defaultdict(int)\r\n",
        "# for sent in sentences:\r\n",
        "#     for i in sent:\r\n",
        "#         word_freq[i] += 1\r\n",
        "# len(word_freq)"
      ],
      "execution_count": null,
      "outputs": []
    },
    {
      "cell_type": "code",
      "metadata": {
        "id": "4ARWjJPQ92-G"
      },
      "source": [
        "# sorted(word_freq, key=word_freq.get, reverse=True)[:10]"
      ],
      "execution_count": null,
      "outputs": []
    },
    {
      "cell_type": "code",
      "metadata": {
        "id": "-1MZcAADedr4"
      },
      "source": [
        "# import multiprocessing\n",
        "\n",
        "# from gensim.models import Word2Vec\n",
        "\n",
        "# w2v_model = Word2Vec(min_count=20,\n",
        "#                      window=2,\n",
        "#                      size=300,\n",
        "#                      sample=6e-5, \n",
        "#                      alpha=0.03, \n",
        "#                      min_alpha=0.0007, \n",
        "#                      negative=20)"
      ],
      "execution_count": null,
      "outputs": []
    },
    {
      "cell_type": "code",
      "metadata": {
        "id": "h2sZf5yu-BZd"
      },
      "source": [
        "# w2v_model.build_vocab(sentences, progress_per=10000)"
      ],
      "execution_count": null,
      "outputs": []
    },
    {
      "cell_type": "code",
      "metadata": {
        "colab": {
          "base_uri": "https://localhost:8080/"
        },
        "id": "SX-6tGbu-Ejf",
        "outputId": "b0c59f55-a5f9-4e04-d160-c698839a3213"
      },
      "source": [
        "# w2v_model.train(sentences, total_examples=w2v_model.corpus_count, epochs=5, report_delay=1)"
      ],
      "execution_count": null,
      "outputs": [
        {
          "output_type": "execute_result",
          "data": {
            "text/plain": [
              "(15562229, 25854195)"
            ]
          },
          "metadata": {
            "tags": []
          },
          "execution_count": 47
        }
      ]
    },
    {
      "cell_type": "code",
      "metadata": {
        "id": "6RU0Y5c9DTkt"
      },
      "source": [
        "# w2v_model.save('/content/drive/MyDrive/SII/e.bin')"
      ],
      "execution_count": null,
      "outputs": []
    },
    {
      "cell_type": "code",
      "metadata": {
        "id": "MSeDxmsxQHfm"
      },
      "source": [
        "# w2v_model.wv.save_word2vec_format('/content/drive/MyDrive/SII/embedding2.bin', binary=True)"
      ],
      "execution_count": null,
      "outputs": []
    },
    {
      "cell_type": "code",
      "metadata": {
        "id": "ZZYtovol-JAh"
      },
      "source": [
        "# w2v_model.init_sims(replace=True)"
      ],
      "execution_count": null,
      "outputs": []
    },
    {
      "cell_type": "code",
      "metadata": {
        "colab": {
          "base_uri": "https://localhost:8080/"
        },
        "id": "d6jZj1U4-MJP",
        "outputId": "9b8c8a76-022a-4b35-d79e-747d6fc5924a"
      },
      "source": [
        "w2v_model.wv.most_similar(positive=[\"scrisoare\"])"
      ],
      "execution_count": null,
      "outputs": [
        {
          "output_type": "execute_result",
          "data": {
            "text/plain": [
              "[('scrisoare_pierduta', 0.4295188784599304),\n",
              " ('pierderea_scrisori', 0.4179714322090149),\n",
              " ('scrisoare.', 0.4065089821815491),\n",
              " ('pierduta”', 0.3701888918876648),\n",
              " ('poliţă', 0.35345524549484253),\n",
              " ('pierdută', 0.3490915596485138),\n",
              " ('telegrama', 0.3445854187011719),\n",
              " ('cerandu-i', 0.33844509720802307),\n",
              " ('d-ale', 0.33758920431137085),\n",
              " ('scrisori', 0.33727163076400757)]"
            ]
          },
          "metadata": {
            "tags": []
          },
          "execution_count": 54
        }
      ]
    },
    {
      "cell_type": "code",
      "metadata": {
        "id": "h8pBu_3fHIxQ"
      },
      "source": [
        "# max_features = 50000\r\n",
        "\r\n",
        "# tokenizer = Tokenizer(num_words=max_features)\r\n",
        "# tokenizer.fit_on_texts(list(train['processed_text']))\r\n",
        "\r\n",
        "# def make_embedding_matrix(embedding, tokenizer, len_voc):\r\n",
        "#     all_embs = np.stack(embedding.values())\r\n",
        "#     emb_mean,emb_std = all_embs.mean(), all_embs.std()\r\n",
        "#     embed_size = all_embs.shape[1]\r\n",
        "#     word_index = tokenizer.word_index\r\n",
        "#     embedding_matrix = np.random.normal(emb_mean, emb_std, (len_voc, embed_size))\r\n",
        "    \r\n",
        "#     for word, i in word_index.items():\r\n",
        "#         if i >= len_voc:\r\n",
        "#             continue\r\n",
        "#         embedding_vector = embedding.get(word)\r\n",
        "#         if embedding_vector is not None: \r\n",
        "#             embedding_matrix[i] = embedding_vector\r\n",
        "    \r\n",
        "#     return embedding_matrix\r\n"
      ],
      "execution_count": null,
      "outputs": []
    },
    {
      "cell_type": "code",
      "metadata": {
        "id": "npHZbs8kItLb"
      },
      "source": [
        "# from gensim.models import KeyedVectors\r\n",
        "\r\n",
        "# model = KeyedVectors.load('/content/drive/MyDrive/SII/e.bin')"
      ],
      "execution_count": null,
      "outputs": []
    },
    {
      "cell_type": "markdown",
      "metadata": {
        "id": "L0sPLLF0Om1I"
      },
      "source": [
        "**Models**"
      ]
    },
    {
      "cell_type": "code",
      "metadata": {
        "id": "45Qgt0QGgjOn",
        "colab": {
          "base_uri": "https://localhost:8080/",
          "height": 300
        },
        "outputId": "4fc27a32-6879-4c51-8047-69bafb72122d"
      },
      "source": [
        "lens = train.processed_text.str.len()\n",
        "print(lens.mean(), lens.std(), lens.max())\n",
        "lens.hist()"
      ],
      "execution_count": 19,
      "outputs": [
        {
          "output_type": "stream",
          "text": [
            "9223.244867724869 18263.820990675613 444535\n"
          ],
          "name": "stdout"
        },
        {
          "output_type": "execute_result",
          "data": {
            "text/plain": [
              "<matplotlib.axes._subplots.AxesSubplot at 0x7f00ae6c1e80>"
            ]
          },
          "metadata": {
            "tags": []
          },
          "execution_count": 19
        },
        {
          "output_type": "display_data",
          "data": {
            "image/png": "[encoded data removed]",
            "text/plain": [
              "<Figure size 432x288 with 1 Axes>"
            ]
          },
          "metadata": {
            "tags": [],
            "needs_background": "light"
          }
        }
      ]
    },
    {
      "cell_type": "code",
      "metadata": {
        "id": "UuasR1lOgQiV"
      },
      "source": [
        "\n",
        "# embed_size = 300 # how big is each word vector\n",
        "# max_features = 50000 # how many unique words to use (i.e num rows in embedding vector)\n",
        "# maxlen = 27000 # max number of words in a question to use\n",
        "\n",
        "\n",
        "# ## Tokenize the sentences\n",
        "# tokenizer = Tokenizer(num_words=max_features)\n",
        "# tokenizer.fit_on_texts(list(train['processed_text']))\n",
        "# train_X = tokenizer.texts_to_sequences(train['processed_text'])\n",
        "# val_X = tokenizer.texts_to_sequences(train['processed_text'])\n",
        "# test_X = tokenizer.texts_to_sequences(test['processed_text'])\n",
        "\n",
        "# ## Pad the sentences \n",
        "# train_X = pad_sequences(train_X, maxlen=maxlen)\n",
        "# val_X = pad_sequences(val_X, maxlen=maxlen)\n",
        "# test_X = pad_sequences(test_X, maxlen=maxlen)\n",
        "\n",
        "# ## Get the target values\n",
        "\n",
        "\n"
      ],
      "execution_count": null,
      "outputs": []
    },
    {
      "cell_type": "code",
      "metadata": {
        "id": "qqjVar0ejDNe"
      },
      "source": [
        "# Y_train = train['grade'].values\n",
        "# Y_val = dev['grade'].values"
      ],
      "execution_count": null,
      "outputs": []
    },
    {
      "cell_type": "code",
      "metadata": {
        "id": "NBFFQdJPPxFS"
      },
      "source": [
        "# # max_features = 50000\n",
        "# # max_len = 30000\n",
        "# def get_model_1():\n",
        "#     model = Sequential()\n",
        "#     model.add(Embedding(max_features, embed_size))\n",
        "#     model.add(LSTM(128, dropout=0.4, recurrent_dropout=0.4, input_shape=[1, 300], return_sequences=True))\n",
        "#     model.add(Dropout(0.5))\n",
        "#     model.add(Dense(1, activation='relu'))\n",
        "#     return model\n",
        "\n",
        "# def compile_model(model):\n",
        "#   model.compile(loss=tf.keras.losses.MeanSquaredError(name=\"loss_mse\")\n",
        "# , optimizer='rmsprop', metrics=tf.keras.losses.MeanSquaredError(name=\"mse\"))\n",
        "\n",
        "# print(get_model_1().summary())\n",
        "\n"
      ],
      "execution_count": null,
      "outputs": []
    },
    {
      "cell_type": "code",
      "metadata": {
        "id": "5aCFp_gkjQPZ"
      },
      "source": [
        "\n",
        "# model = get_model_1()\n",
        "# compile_model(model)\n",
        "# batch_size = 8\n",
        "# epochs = 2\n",
        "\n",
        "\n",
        "# early = EarlyStopping(monitor=\"val_loss_mse\", mode=\"min\", patience=5)\n",
        "\n",
        "\n",
        "# callbacks_list = [early]\n",
        "\n",
        "# with tf.device('/device:GPU:0'):\n",
        "#   history = model.fit(train_X, Y_train, validation_data=(val_X, Y_val), batch_size=batch_size, epochs=epochs, callbacks=callbacks_list)"
      ],
      "execution_count": null,
      "outputs": []
    },
    {
      "cell_type": "code",
      "metadata": {
        "id": "_XrLLATejhHf"
      },
      "source": [
        "# model.save(\"/content/drive/MyDrive/SII/v1-no-embeddings.h5\")\n"
      ],
      "execution_count": null,
      "outputs": []
    },
    {
      "cell_type": "code",
      "metadata": {
        "id": "9DB3pY-lPFZt"
      },
      "source": [
        "# def build_vocab(sentences, verbose =  True):\r\n",
        "#     \"\"\"\r\n",
        "#     :param sentences: list of list of words\r\n",
        "#     :return: dictionary of words and their count\r\n",
        "#     \"\"\"\r\n",
        "#     vocab = {}\r\n",
        "#     for sentence in tqdm(sentences, disable = (not verbose)):\r\n",
        "#         for word in sentence:\r\n",
        "#             try:\r\n",
        "#                 vocab[word] += 1\r\n",
        "#             except KeyError:\r\n",
        "#                 vocab[word] = 1\r\n",
        "#     return vocab"
      ],
      "execution_count": null,
      "outputs": []
    },
    {
      "cell_type": "code",
      "metadata": {
        "colab": {
          "base_uri": "https://localhost:8080/"
        },
        "id": "TCfLjBqkPJFV",
        "outputId": "38f02fc1-f8c5-48da-c4d0-99b39e304185"
      },
      "source": [
        "# sentences = train[\"processed_text\"].apply(lambda x: x.split()).values\r\n",
        "# vocab = build_vocab(sentences)\r\n",
        "# print({k: vocab[k] for k in list(vocab)[:5]})"
      ],
      "execution_count": null,
      "outputs": [
        {
          "output_type": "stream",
          "text": [
            "100%|██████████| 4725/4725 [00:01<00:00, 2778.06it/s]"
          ],
          "name": "stderr"
        },
        {
          "output_type": "stream",
          "text": [
            "{'piercing-ul': 3, 'tatuajele': 2, '-': 30657, 'vanitati': 2, 'adolescentine?': 1}\n"
          ],
          "name": "stdout"
        },
        {
          "output_type": "stream",
          "text": [
            "\n"
          ],
          "name": "stderr"
        }
      ]
    },
    {
      "cell_type": "code",
      "metadata": {
        "id": "7MdvG8WjPXN0"
      },
      "source": [
        "from gensim.models import KeyedVectors\n",
        "\n",
        "embeddings_index = KeyedVectors.load_word2vec_format('/content/drive/MyDrive/SII/SII-Challenge/model.bin', binary=True)"
      ],
      "execution_count": 13,
      "outputs": []
    },
    {
      "cell_type": "code",
      "metadata": {
        "id": "TdE2huERQgKk"
      },
      "source": [
        "embeddings_index_2 = KeyedVectors.load_word2vec_format('/content/drive/MyDrive/SII/SII-Challenge/embedding2.bin', binary=True)"
      ],
      "execution_count": 14,
      "outputs": []
    },
    {
      "cell_type": "code",
      "metadata": {
        "id": "T3jG31LOPjwH"
      },
      "source": [
        "import operator \r\n",
        "\r\n",
        "def check_coverage(vocab,embeddings_index):\r\n",
        "    a = {}\r\n",
        "    oov = {}\r\n",
        "    k = 0\r\n",
        "    i = 0\r\n",
        "    for word in tqdm(vocab):\r\n",
        "        try:\r\n",
        "            a[word] = embeddings_index[word]\r\n",
        "            k += vocab[word]\r\n",
        "        except:\r\n",
        "\r\n",
        "            oov[word] = vocab[word]\r\n",
        "            i += vocab[word]\r\n",
        "            pass\r\n",
        "\r\n",
        "    print('Found embeddings for {:.2%} of vocab'.format(len(a) / len(vocab)))\r\n",
        "    print('Found embeddings for  {:.2%} of all text'.format(k / (k + i)))\r\n",
        "    sorted_x = sorted(oov.items(), key=operator.itemgetter(1))[::-1]\r\n",
        "\r\n",
        "    return sorted_x"
      ],
      "execution_count": null,
      "outputs": []
    },
    {
      "cell_type": "code",
      "metadata": {
        "colab": {
          "base_uri": "https://localhost:8080/"
        },
        "id": "vkhnjNt3PnHl",
        "outputId": "c7775a22-b440-4b06-dd36-0f5debbe928d"
      },
      "source": [
        "oov = check_coverage(vocab,embeddings_index)"
      ],
      "execution_count": null,
      "outputs": [
        {
          "output_type": "stream",
          "text": [
            "100%|██████████| 555040/555040 [00:01<00:00, 399433.81it/s]"
          ],
          "name": "stderr"
        },
        {
          "output_type": "stream",
          "text": [
            "Found embeddings for 36.03% of vocab\n",
            "Found embeddings for  76.50% of all text\n"
          ],
          "name": "stdout"
        },
        {
          "output_type": "stream",
          "text": [
            "\n"
          ],
          "name": "stderr"
        }
      ]
    },
    {
      "cell_type": "code",
      "metadata": {
        "colab": {
          "base_uri": "https://localhost:8080/"
        },
        "id": "fJ7YHmJtPxhj",
        "outputId": "805b717d-18d4-42bc-f2b3-fcabbdc5758a"
      },
      "source": [
        "embeddings_index.similar_by_word(\"comentariu\")"
      ],
      "execution_count": null,
      "outputs": [
        {
          "output_type": "execute_result",
          "data": {
            "text/plain": [
              "[('veziadaugă', 0.751944363117218),\n",
              " ('votscrie', 0.7479938268661499),\n",
              " ('.sobru', 0.7449974417686462),\n",
              " ('momentanscrieti', 0.7340505123138428),\n",
              " ('filcu', 0.7320773601531982),\n",
              " ('vechilasă', 0.7216393351554871),\n",
              " ('0)hits', 0.7141861319541931),\n",
              " ('var3', 0.7130448818206787),\n",
              " ('startanterior12345678910următorend', 0.7109917402267456),\n",
              " ('0raspundeiulia', 0.7098747491836548)]"
            ]
          },
          "metadata": {
            "tags": []
          },
          "execution_count": 68
        }
      ]
    },
    {
      "cell_type": "code",
      "metadata": {
        "id": "gKYLKynRR0wC"
      },
      "source": [
        "# def get_coefs(word,*arr): \r\n",
        "#   return word, np.asarray(arr, dtype='float32')\r\n",
        "\r\n",
        "# embeddings_index = dict(get_coefs(*o.split(\" \")) for o in open('/content/drive/MyDrive/SII/model.txt') if len(o)>100)"
      ],
      "execution_count": null,
      "outputs": []
    },
    {
      "cell_type": "code",
      "metadata": {
        "id": "BjujZhpQZ-Wo"
      },
      "source": [
        "max_features = 30000\r\n",
        "\r\n",
        "tokenizer = Tokenizer(num_words=max_features)\r\n",
        "tokenizer.fit_on_texts(https://drive.google.com/drive/folders/1lbObbbycaIrnQ4gBJoqrhRd1j6F4SMe2?usp=sharinglist(train['processed_text']))\r\n"
      ],
      "execution_count": 15,
      "outputs": []
    },
    {
      "cell_type": "code",
      "metadata": {
        "colab": {
          "base_uri": "https://localhost:8080/"
        },
        "id": "z7aUiYSuS4mA",
        "outputId": "d2747f5e-9ecc-4c1c-d72a-e50d2c3a5a68"
      },
      "source": [
        "all_embs = np.stack(embeddings_index.vectors)\r\n",
        "\r\n",
        "emb_mean,emb_std = all_embs.mean(), all_embs.std()\r\n",
        "embed_size = all_embs.shape[1]\r\n",
        "\r\n",
        "word_index = tokenizer.word_index\r\n",
        "nb_words = min(max_features, len(word_index))\r\n",
        "embedding_matrix = np.random.normal(emb_mean, emb_std, (nb_words, embed_size))\r\n",
        "for word, i in word_index.items():\r\n",
        "    if i >= max_features: continue\r\n",
        "    try:\r\n",
        "      embedding_vector = embeddings_index[word]\r\n",
        "      if embedding_vector is not None: embedding_matrix[i] = embedding_vector\r\n",
        "    except:\r\n",
        "      pass\r\n",
        "\r\n",
        "print(embed_size)"
      ],
      "execution_count": 16,
      "outputs": [
        {
          "output_type": "stream",
          "text": [
            "100\n"
          ],
          "name": "stdout"
        }
      ]
    },
    {
      "cell_type": "code",
      "metadata": {
        "id": "NahOytZPXfJG"
      },
      "source": [
        "\r\n",
        "embed_size = 100 # how big is each word vector\r\n",
        "# max_features = 0000 # how many unique words to use (i.e num rows in embedding vector)\r\n",
        "maxlen = 18000 # max number of words in a question to use\r\n",
        "\r\n",
        "\r\n",
        "## Tokenize the sentences\r\n",
        "# tokenizer = Tokenizer(num_words=max_features)\r\n",
        "# tokenizer.fit_on_texts(list(train['processed_text']))\r\n",
        "train_X = tokenizer.texts_to_sequences(train['processed_text'])\r\n",
        "val_X = tokenizer.texts_to_sequences(dev['processed_text'])\r\n",
        "test_X = tokenizer.texts_to_sequences(test['processed_text'])\r\n",
        "\r\n",
        "## Pad the sentences \r\n",
        "train_X = pad_sequences(train_X, maxlen=maxlen)\r\n",
        "val_X = pad_sequences(val_X, maxlen=maxlen)\r\n",
        "test_X = pad_sequences(test_X, maxlen=maxlen)\r\n",
        "\r\n",
        "## Get the target values"
      ],
      "execution_count": 17,
      "outputs": []
    },
    {
      "cell_type": "code",
      "metadata": {
        "id": "GDo_VdtfYbtO"
      },
      "source": [
        "Y_train = train['grade'].values\r\n",
        "Y_val = dev['grade'].values"
      ],
      "execution_count": 18,
      "outputs": []
    },
    {
      "cell_type": "code",
      "metadata": {
        "colab": {
          "base_uri": "https://localhost:8080/"
        },
        "id": "vBR_uJhPX4o7",
        "outputId": "174dd455-fbcd-4d33-94e2-faa6f8bd6b08"
      },
      "source": [
        "def get_model_1():\r\n",
        "  model = Sequential()\r\n",
        "  # model.add(Embedding(max_features, embed_size))\r\n",
        "  model.add(Embedding(max_features, embed_size, weights=[embedding_matrix], trainable=False))\r\n",
        "  model.add(LSTM(units = 128, dropout = 0.2, recurrent_dropout = 0.2,return_sequences=True))\r\n",
        "  model.add(LSTM(units = 64, dropout = 0.2, recurrent_dropout = 0.2))\r\n",
        "  model.add(Dropout(0.1))\r\n",
        "  model.add(Dense(units = 1, activation = 'relu'))\r\n",
        "  \r\n",
        "  return model\r\n",
        "    \r\n",
        "\r\n",
        "def get_model_2():\r\n",
        "  inp = Input(shape=(maxlen, ))\r\n",
        "  #x = Embedding(max_features, embed_size)(inp)\r\n",
        "\r\n",
        "  x = Embedding(max_features, embed_size, weights=[embedding_matrix], trainable = False)(inp)\r\n",
        "  x = Bidirectional(LSTM(128, return_sequences=True))(x)\r\n",
        "  x = GlobalMaxPooling1D()(x)\r\n",
        "  x = Dropout(0.25)(x)\r\n",
        "  x = Dense(50, activation=\"relu\")(x)\r\n",
        "  x = Dropout(0.25)(x)\r\n",
        "  x = Dense(1, activation=\"relu\")(x)\r\n",
        "  model = Model(inp,x)\r\n",
        "  return model\r\n",
        "\r\n",
        "def compile_model(model):\r\n",
        "  model.compile(loss=tf.keras.losses.MeanSquaredError(name=\"loss_mse\")\r\n",
        ", optimizer='adam', metrics=tf.keras.losses.MeanSquaredError(name=\"mse\"))\r\n",
        "\r\n",
        "print(get_model_2().summary())"
      ],
      "execution_count": 24,
      "outputs": [
        {
          "output_type": "stream",
          "text": [
            "Model: \"model_5\"\n",
            "_________________________________________________________________\n",
            "Layer (type)                 Output Shape              Param #   \n",
            "=================================================================\n",
            "input_6 (InputLayer)         [(None, 18000)]           0         \n",
            "_________________________________________________________________\n",
            "embedding_10 (Embedding)     (None, 18000, 100)        3000000   \n",
            "_________________________________________________________________\n",
            "bidirectional_5 (Bidirection (None, 18000, 256)        234496    \n",
            "_________________________________________________________________\n",
            "global_max_pooling1d_5 (Glob (None, 256)               0         \n",
            "_________________________________________________________________\n",
            "dropout_10 (Dropout)         (None, 256)               0         \n",
            "_________________________________________________________________\n",
            "dense_10 (Dense)             (None, 50)                12850     \n",
            "_________________________________________________________________\n",
            "dropout_11 (Dropout)         (None, 50)                0         \n",
            "_________________________________________________________________\n",
            "dense_11 (Dense)             (None, 1)                 51        \n",
            "=================================================================\n",
            "Total params: 3,247,397\n",
            "Trainable params: 247,397\n",
            "Non-trainable params: 3,000,000\n",
            "_________________________________________________________________\n",
            "None\n"
          ],
          "name": "stdout"
        }
      ]
    },
    {
      "cell_type": "code",
      "metadata": {
        "colab": {
          "base_uri": "https://localhost:8080/"
        },
        "id": "YCmRSZ8WX7xv",
        "outputId": "514a9f35-c820-4e1e-f786-6ea4c874616f"
      },
      "source": [
        "model2 = get_model_2()\r\n",
        "compile_model(model2)\r\n",
        "batch_size = 32\r\n",
        "epochs = 12\r\n",
        "\r\n",
        "\r\n",
        "early = EarlyStopping(monitor=\"val_loss_mse\", mode=\"min\", patience=5)\r\n",
        "\r\n",
        "\r\n",
        "callbacks_list = [early]\r\n",
        "\r\n",
        "with tf.device('/device:GPU:0'):\r\n",
        "  history = model2.fit(train_X, Y_train, validation_data=(val_X, Y_val), batch_size=batch_size, epochs=epochs, callbacks=callbacks_list)"
      ],
      "execution_count": null,
      "outputs": [
        {
          "output_type": "stream",
          "text": [
            "Epoch 1/12\n",
            "148/148 [==============================] - 227s 2s/step - loss: 11.2566 - mse: 11.2565 - val_loss: 3.4621 - val_mse: 3.4721\n",
            "WARNING:tensorflow:Early stopping conditioned on metric `val_loss_mse` which is not available. Available metrics are: loss,mse,val_loss,val_mse\n",
            "Epoch 2/12\n",
            "137/148 [==========================>...] - ETA: 16s - loss: 4.3492 - mse: 4.3492"
          ],
          "name": "stdout"
        }
      ]
    },
    {
      "cell_type": "code",
      "metadata": {
        "id": "UEfjMMVvb9_M"
      },
      "source": [
        "y_test = model1.predict(test_X)"
      ],
      "execution_count": 38,
      "outputs": []
    },
    {
      "cell_type": "code",
      "metadata": {
        "colab": {
          "base_uri": "https://localhost:8080/"
        },
        "id": "NPXlq8kucF-N",
        "outputId": "1fa6474c-b5f9-40fa-e9f9-257621da3a1e"
      },
      "source": [
        "print(y_test.shape)\r\n",
        "print(y_test[y_test < 6])"
      ],
      "execution_count": 43,
      "outputs": [
        {
          "output_type": "stream",
          "text": [
            "(500, 1)\n",
            "[4.959097  5.990784  5.4131575 5.604431  5.1833606 5.3884454 5.1110215\n",
            " 5.3337708 5.668056  5.7971764 5.604555  4.442726  5.7296524 5.2951627\n",
            " 0.       ]\n"
          ],
          "name": "stdout"
        }
      ]
    },
    {
      "cell_type": "markdown",
      "metadata": {
        "id": "WNhpInZnOrE0"
      },
      "source": [
        "**Train**"
      ]
    },
    {
      "cell_type": "code",
      "metadata": {
        "id": "G1BseY-Wr_SC"
      },
      "source": [
        "\n",
        "test_copy = get_frame(TEST_DEV)\n",
        "test_copy.head()\n",
        "test_copy['grades'] = y_test\n",
        "test_copy.iloc[433]\n",
        "test_copy.to_json('/content/drive/MyDrive/SII/SII-Challenge/test_results3-embd.json')"
      ],
      "execution_count": 44,
      "outputs": []
    },
    {
      "cell_type": "code",
      "metadata": {
        "colab": {
          "base_uri": "https://localhost:8080/",
          "height": 206
        },
        "id": "7JymrCmIsI8g",
        "outputId": "6391f392-6ff4-4744-f0ba-a5fa8f6e1e47"
      },
      "source": [
        "trial = pd.read_json('/content/drive/MyDrive/SII/SII-Challenge/test_results3-embd.json')\n",
        "trial.tail()"
      ],
      "execution_count": 45,
      "outputs": [
        {
          "output_type": "execute_result",
          "data": {
            "text/html": [
              "<div>\n",
              "<style scoped>\n",
              "    .dataframe tbody tr th:only-of-type {\n",
              "        vertical-align: middle;\n",
              "    }\n",
              "\n",
              "    .dataframe tbody tr th {\n",
              "        vertical-align: top;\n",
              "    }\n",
              "\n",
              "    .dataframe thead th {\n",
              "        text-align: right;\n",
              "    }\n",
              "</style>\n",
              "<table border=\"1\" class=\"dataframe\">\n",
              "  <thead>\n",
              "    <tr style=\"text-align: right;\">\n",
              "      <th></th>\n",
              "      <th>index</th>\n",
              "      <th>filename</th>\n",
              "      <th>text</th>\n",
              "      <th>category</th>\n",
              "      <th>grades</th>\n",
              "    </tr>\n",
              "  </thead>\n",
              "  <tbody>\n",
              "    <tr>\n",
              "      <th>495</th>\n",
              "      <td>3591</td>\n",
              "      <td>Morometi</td>\n",
              "      <td>Morometii   \\n-Personaje principale \\n  -Parin...</td>\n",
              "      <td>romana</td>\n",
              "      <td>6.347172</td>\n",
              "    </tr>\n",
              "    <tr>\n",
              "      <th>496</th>\n",
              "      <td>5389</td>\n",
              "      <td>Padurea Spanzuratilor - Comentariu</td>\n",
              "      <td>Padurea spanzuratilor de Liviu Rebreanu \\nTema...</td>\n",
              "      <td>romana</td>\n",
              "      <td>7.315770</td>\n",
              "    </tr>\n",
              "    <tr>\n",
              "      <th>497</th>\n",
              "      <td>1496</td>\n",
              "      <td>Referat Marsul lui Radetzky</td>\n",
              "      <td>MARELE ZID CHINEZESC \\n         Constructie gi...</td>\n",
              "      <td>istorie</td>\n",
              "      <td>6.059397</td>\n",
              "    </tr>\n",
              "    <tr>\n",
              "      <th>498</th>\n",
              "      <td>911</td>\n",
              "      <td>Referat Ciresarii - Cavalerii florii de cires</td>\n",
              "      <td>A Z U G A                    Valea Prahovei a ...</td>\n",
              "      <td>romana</td>\n",
              "      <td>8.547588</td>\n",
              "    </tr>\n",
              "    <tr>\n",
              "      <th>499</th>\n",
              "      <td>5266</td>\n",
              "      <td>Constitutia</td>\n",
              "      <td>ISTORIA CONSTITUŢIONALĂ A ROMÂNIEI \\nParcurger...</td>\n",
              "      <td>istorie</td>\n",
              "      <td>8.459164</td>\n",
              "    </tr>\n",
              "  </tbody>\n",
              "</table>\n",
              "</div>"
            ],
            "text/plain": [
              "     index                                       filename  ... category    grades\n",
              "495   3591                                       Morometi  ...   romana  6.347172\n",
              "496   5389             Padurea Spanzuratilor - Comentariu  ...   romana  7.315770\n",
              "497   1496                    Referat Marsul lui Radetzky  ...  istorie  6.059397\n",
              "498    911  Referat Ciresarii - Cavalerii florii de cires  ...   romana  8.547588\n",
              "499   5266                                    Constitutia  ...  istorie  8.459164\n",
              "\n",
              "[5 rows x 5 columns]"
            ]
          },
          "metadata": {
            "tags": []
          },
          "execution_count": 45
        }
      ]
    },
    {
      "cell_type": "markdown",
      "metadata": {
        "id": "0s6hZH-kOt6v"
      },
      "source": [
        "**Results**"
      ]
    },
    {
      "cell_type": "markdown",
      "metadata": {
        "id": "hBGgDsVjOw5G"
      },
      "source": [
        "**Bert**"
      ]
    }
  ]
}