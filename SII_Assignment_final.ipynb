{
  "nbformat": 4,
  "nbformat_minor": 0,
  "metadata": {
    "colab": {
      "name": "SII_Assignment_final.ipynb",
      "provenance": [],
      "collapsed_sections": [],
      "include_colab_link": true
    },
    "kernelspec": {
      "name": "python3",
      "display_name": "Python 3"
    },
    "accelerator": "GPU"
  },
  "cells": [
    {
      "cell_type": "markdown",
      "metadata": {
        "id": "view-in-github",
        "colab_type": "text"
      },
      "source": [
        "<a href=\"https://colab.research.google.com/github/claudiaxpreda/SII/blob/main/SII_Assignment_final.ipynb\" target=\"_parent\"><img src=\"https://colab.research.google.com/assets/colab-badge.svg\" alt=\"Open In Colab\"/></a>"
      ]
    },
    {
      "cell_type": "code",
      "metadata": {
        "id": "0gm8mQLZL6wN"
      },
      "source": [
        "import os\n",
        "import pandas as pd\n",
        "import numpy as np\n",
        "import matplotlib.pyplot as plt\n",
        "\n",
        "import gensim \n",
        "from gensim.models import Word2Vec\n",
        "from tqdm import tqdm\n",
        "\n",
        "import tensorflow as tf\n",
        "from tensorflow.keras.models import Sequential, Model\n",
        "from tensorflow.keras.layers import LSTM\n",
        "from tensorflow.keras.preprocessing.text import Tokenizer\n",
        "from tensorflow.keras.preprocessing.sequence import pad_sequences\n",
        "from tensorflow.keras.layers import Dense, Embedding, Dropout, Activation, Input, SpatialDropout1D, concatenate\n",
        "from tensorflow.keras.layers import Bidirectional, GlobalMaxPool1D, AveragePooling1D, Conv1D, GlobalAveragePooling1D, GlobalMaxPooling1D\n",
        "from tensorflow.keras import initializers, regularizers, constraints, optimizers, layers\n",
        "from tensorflow.keras.callbacks import EarlyStopping, ModelCheckpoint\n",
        "from tensorflow.keras.preprocessing import text, sequence\n"
      ],
      "execution_count": null,
      "outputs": []
    },
    {
      "cell_type": "code",
      "metadata": {
        "id": "m1MM4hjaN5Ml"
      },
      "source": [
        "import nltk\n",
        "from nltk.tokenize import word_tokenize\n",
        "nltk.download(\"punkt\")"
      ],
      "execution_count": null,
      "outputs": []
    },
    {
      "cell_type": "code",
      "metadata": {
        "colab": {
          "base_uri": "https://localhost:8080/"
        },
        "id": "qvazgBAxxxy2",
        "outputId": "8a9150d5-df29-4dc0-da0d-ffd87af228eb"
      },
      "source": [
        "from google.colab import drive\n",
        "drive.mount('/content/drive')"
      ],
      "execution_count": null,
      "outputs": [
        {
          "output_type": "stream",
          "text": [
            "Mounted at /content/drive\n"
          ],
          "name": "stdout"
        }
      ]
    },
    {
      "cell_type": "code",
      "metadata": {
        "id": "WLuAi8ofK_wt"
      },
      "source": [
        "WORKDIR = os.getcwd()\n",
        "FILES_PATH = WORKDIR + '/drive/MyDrive/SII/SII-Challenge/'\n"
      ],
      "execution_count": null,
      "outputs": []
    },
    {
      "cell_type": "code",
      "metadata": {
        "id": "krgCj6nyMR7e"
      },
      "source": [
        "DEV_NAME = 'referate-dev.json'\n",
        "TRAIN_NAME = 'referate-train.json'\n",
        "TEST_DEV = 'referate-test.json'\n",
        "\n",
        "def get_frame(name):\n",
        "  return pd.read_json(FILES_PATH + name)\n"
      ],
      "execution_count": null,
      "outputs": []
    },
    {
      "cell_type": "code",
      "metadata": {
        "id": "LxHjWZn2YC8p"
      },
      "source": [
        "train = get_frame(TRAIN_NAME)\n",
        "dev = get_frame(DEV_NAME)\n",
        "test = get_frame(TEST_DEV)\n",
        "\n",
        "def print_size(name, frame):\n",
        "  format = 'The size of {} set is: {}'\n",
        "  print(format.format(name, len(frame)))"
      ],
      "execution_count": null,
      "outputs": []
    },
    {
      "cell_type": "markdown",
      "metadata": {
        "id": "s7PngBf8OdFX"
      },
      "source": [
        "**Data Analyze**"
      ]
    },
    {
      "cell_type": "code",
      "metadata": {
        "colab": {
          "base_uri": "https://localhost:8080/"
        },
        "id": "dWFdvtuGbbev",
        "outputId": "459d0036-c631-4636-8b06-3fd5e615f8d2"
      },
      "source": [
        "print_size('train', train)\n",
        "print_size('dev', dev)\n",
        "print_size('test', test)"
      ],
      "execution_count": null,
      "outputs": [
        {
          "output_type": "stream",
          "text": [
            "The size of train set is: 4725\n",
            "The size of dev set is: 500\n",
            "The size of test set is: 500\n"
          ],
          "name": "stdout"
        }
      ]
    },
    {
      "cell_type": "code",
      "metadata": {
        "id": "bnPqqpqpdpGW"
      },
      "source": [
        "train.info()"
      ],
      "execution_count": null,
      "outputs": []
    },
    {
      "cell_type": "code",
      "metadata": {
        "colab": {
          "base_uri": "https://localhost:8080/"
        },
        "id": "TleN3THxxpTg",
        "outputId": "db9b1b7d-957e-4e18-c01c-b2865161b9d0"
      },
      "source": [
        "stopwords = []\r\n",
        "\r\n",
        "with open('/content/drive/MyDrive/SII/SII-Challenge/romanian_stopwords.txt', 'r') as f: \r\n",
        "    for line in f:\r\n",
        "        stopwords.append(line.strip())\r\n",
        "\r\n",
        "print(stopwords)"
      ],
      "execution_count": null,
      "outputs": [
        {
          "output_type": "stream",
          "text": [
            "['vreo', 'acelea', 'cata', 'cita', 'degraba', 'lor', 'alta', 'tot', 'ai', 'dat', 'despre', 'peste', 'bine', 'dar', 'foarte', 'avea', 'multi', 'cit', 'cat', 'alt', 'mai', 'sa', 'fie', 'tu', 'intrucat', 'multe', 'orice', 'dintr', 'dintre', 'dintr-o', 'dintr-un', 'se', 'intr', 'intr-o', 'intr-un', 'niste', 'multa', 'insa', 'il', 'fost', 'a', 'abia', 'nimic', 'sub', 'acel', 'in', 'altceva', 'si', 'avem', 'altfel', 'c', 'ea', 'acest', 'li', 'parca', 'fi', 'dintre', 'unele', 'm', 'acestei', 'mare', 'cel', 'este', 'pe', 'atitia', 'atatia', 'uneori', 'acela', 'iti', 'astazi', 'acestui', 'o', 'imi', 'ele', 'ceilalti', 'pai', 'fata', 'noua', 'sa-ti', 'altul', 'au', 'i', 'prin', 'conform', 'aceste', 'anume', 'azi', 'k', 'unul', 'ala', 'unei', 'fara', 'ei', 'la', 'aceeasi', 'u', 'inapoi', 'acestea', 'acesta', 'aceasta', 'catre', 'sale', 'asupra', 'as', 'aceea', 'ba', 'ale', 'da', 'le', 'apoi', 'aia', 'suntem', 'cum', 'isi', 'inainte', 's', 'de', 'cind', 'cand', 'cumva', 'chiar', 'acestia', 'daca', 'sunt', 'care', 'al', 'numai', 'cui', 'sus', 'tocmai', 'prea', 'cu', 'mi', 'eu', 'doar', 'niciodata', 'nicidecum', 'exact', 'putini', 'aiurea', 'tuturor', 'celor', 'astfel', 'atunci', 'citeva', 'cateva', 'cat', 'ca', 'sau', 'fel', 'intre', 'acolo', 'nostri', 'ma', 'mult', 'una', 'ceea', 'iar', 'iara', 'sintem', 'suntem', 'ati', 'din', 'geaba', 'sai', 'caruia', 'adica', 'inca', 'are', 'aici', 'ca', 'ia', 'nici', 'd', 'oricum', 'asta', 'carora', 'face', 'citiva', 'cativa', 'voi', 'unor', 'f', 'atat', 'toata', 'alaturi', 'cea', 'nu', 'totusi', 'ce', 'altii', 'acum', 'sint', 'sunt', 'capat', 'mod', 'deasupra', 'cam', 'vom', 'b', 'toate', 'careia', 'aceasta', 'atit', 'atat', 'nimeni', 'ii', 'ci', 'unde', 'ul', 'plus', 'era', 'sa-mi', 'l', 'spre', 'dupa', 'nou', 'cele', 'acea', 'un', 'incit', 'incat', 'n', 'cei', 'or', 'va', 'deci', 'acelasi', 'atatea', 'h', 'vor', 'decit', 'decat', 'noi', 'cineva', 'desi', 'ceva', 'j', 'ului', 'atitea', 'atatea', 'avut', 'ar', 'pina', 'pana', 't', 'atata', 'unui', 'el', 'citi', 'asa', 'totul', 'pentru', 'atita', 'v', 'alti', 'asemenea', 'atatia', 'te', 'ne', 'deja', 'unii', 'p', 'atare', 'cite', 'cate', 'cine', 'cand', 'toti', 'vreun', 'ori', 'r', 'alte', 'lui', 'ti', 'ni', 'aceia', 'am', 'acea', 'aceasta', 'această', 'aceea', 'acei', 'aceia', 'acel', 'acela', 'acele', 'acelea', 'acest', 'acesta', 'aceste', 'acestea', 'aceşti', 'aceştia', 'acolo', 'acord', 'acum', 'ai', 'aia', 'aibă', 'aici', 'al', 'ăla', 'ale', 'alea', 'ălea', 'altceva', 'altcineva', 'am', 'ar', 'are', 'aş', 'aşadar', 'asemenea', 'asta', 'ăsta', 'astăzi', 'astea', 'ăstea', 'ăştia', 'asupra', 'aţi', 'au', 'avea', 'avem', 'aveţi', 'azi', 'bine', 'bucur', 'bună', 'ca', 'că', 'căci', 'când', 'care', 'cărei', 'căror', 'cărui', 'cât', 'câte', 'câţi', 'către', 'câtva', 'caut', 'ce', 'cel', 'ceva', 'chiar', 'cinci', 'cînd', 'cine', 'cineva', 'cît', 'cîte', 'cîţi', 'cîtva', 'contra', 'cu', 'cum', 'cumva', 'curând', 'curînd', 'da', 'dă', 'dacă', 'dar', 'dată', 'datorită', 'dau', 'de', 'deci', 'deja', 'deoarece', 'departe', 'deşi', 'din', 'dinaintea', 'dintr-', 'dintre', 'doi', 'doilea', 'două', 'drept', 'după', 'ea', 'ei', 'el', 'ele', 'eram', 'este', 'eşti', 'eu', 'face', 'fără', 'fata', 'fi', 'fie', 'fiecare', 'fii', 'fim', 'fiţi', 'fiu', 'frumos', 'graţie', 'halbă', 'iar', 'ieri', 'îi', 'îl', 'îmi', 'împotriva', 'în', 'înainte', 'înaintea', 'încât', 'încît', 'încotro', 'între', 'întrucât', 'întrucît', 'îţi', 'la', 'lângă', 'le', 'li', 'lîngă', 'lor', 'lui', 'mă', 'mai', 'mâine', 'mea', 'mei', 'mele', 'mereu', 'meu', 'mi', 'mie', 'mîine', 'mine', 'mult', 'multă', 'mulţi', 'mulţumesc', 'ne', 'nevoie', 'nicăieri', 'nici', 'nimeni', 'nimeri', 'nimic', 'nişte', 'noastră', 'noastre', 'noi', 'noroc', 'noştri', 'nostru', 'nouă', 'nu', 'opt', 'ori', 'oricând', 'oricare', 'oricât', 'orice', 'oricînd', 'oricine', 'oricît', 'oricum', 'oriunde', 'până', 'patra', 'patru', 'patrulea', 'pe', 'pentru', 'peste', 'pic', 'pînă', 'poate', 'pot', 'prea', 'prima', 'primul', 'prin', 'puţin', 'puţina', 'puţină', 'rog', 'sa', 'să', 'săi', 'sale', 'şapte', 'şase', 'sau', 'său', 'se', 'şi', 'sînt', 'sîntem', 'sînteţi', 'spate', 'spre', 'ştiu', 'sub', 'sunt', 'suntem', 'sunteţi', 'sută', 'ta', 'tăi', 'tale', 'tău', 'te', 'ţi', 'ţie', 'timp', 'tine', 'toată', 'toate', 'tot', 'toţi', 'totuşi', 'trei', 'treia', 'treilea', 'tu', 'un', 'una', 'unde', 'undeva', 'unei', 'uneia', 'unele', 'uneori', 'unii', 'unor', 'unora', 'unu', 'unui', 'unuia', 'unul', 'vă', 'vi', 'voastră', 'voastre', 'voi', 'voştri', 'vostru', 'vouă', 'vreme', 'vreo', 'vreun', 'zece', 'zero', 'zi', 'zice', 'ă', 'î', 'â', 'ț', 'ș']\n"
          ],
          "name": "stdout"
        }
      ]
    },
    {
      "cell_type": "code",
      "metadata": {
        "id": "IJp73YYjfL6U"
      },
      "source": [
        "train.isnull().sum()"
      ],
      "execution_count": null,
      "outputs": []
    },
    {
      "cell_type": "code",
      "metadata": {
        "id": "MyMP8jY4fX2l"
      },
      "source": [
        "train.head(5)"
      ],
      "execution_count": null,
      "outputs": []
    },
    {
      "cell_type": "code",
      "metadata": {
        "id": "l9nP4GkYkVlx"
      },
      "source": [
        "train_categories = train.category.unique()\n",
        "test_categories = test.category.unique()\n",
        "\n",
        "print(train_categories)"
      ],
      "execution_count": null,
      "outputs": []
    },
    {
      "cell_type": "code",
      "metadata": {
        "id": "9pG1soIuyBZU"
      },
      "source": [
        "no_text = train[train['text'].str.len() == 0]\n",
        "no_text"
      ],
      "execution_count": null,
      "outputs": []
    },
    {
      "cell_type": "markdown",
      "metadata": {
        "id": "7-5gINQKR3PF"
      },
      "source": [
        "**Data pre-processing**"
      ]
    },
    {
      "cell_type": "code",
      "metadata": {
        "colab": {
          "base_uri": "https://localhost:8080/",
          "height": 206
        },
        "id": "ClctP6_hRP0_",
        "outputId": "6bdec62c-2b3a-435c-a120-186c92200f59"
      },
      "source": [
        "train['processed_text'] = train['text'].apply(lambda x: x.lower())\n",
        "train.head(5)"
      ],
      "execution_count": null,
      "outputs": [
        {
          "output_type": "execute_result",
          "data": {
            "text/html": [
              "<div>\n",
              "<style scoped>\n",
              "    .dataframe tbody tr th:only-of-type {\n",
              "        vertical-align: middle;\n",
              "    }\n",
              "\n",
              "    .dataframe tbody tr th {\n",
              "        vertical-align: top;\n",
              "    }\n",
              "\n",
              "    .dataframe thead th {\n",
              "        text-align: right;\n",
              "    }\n",
              "</style>\n",
              "<table border=\"1\" class=\"dataframe\">\n",
              "  <thead>\n",
              "    <tr style=\"text-align: right;\">\n",
              "      <th></th>\n",
              "      <th>index</th>\n",
              "      <th>filename</th>\n",
              "      <th>text</th>\n",
              "      <th>category</th>\n",
              "      <th>grade</th>\n",
              "      <th>processed_text</th>\n",
              "    </tr>\n",
              "  </thead>\n",
              "  <tbody>\n",
              "    <tr>\n",
              "      <th>0</th>\n",
              "      <td>3685</td>\n",
              "      <td>Referat Piercing-ul si adolescentii</td>\n",
              "      <td>Piercing-ul si tatuajele - vanitati adolescent...</td>\n",
              "      <td>psihologie</td>\n",
              "      <td>5.65</td>\n",
              "      <td>piercing-ul si tatuajele - vanitati adolescent...</td>\n",
              "    </tr>\n",
              "    <tr>\n",
              "      <th>1</th>\n",
              "      <td>775</td>\n",
              "      <td>Gradinile Suspendate Ale Semiramidei</td>\n",
              "      <td>GRADINILE SUSPENDATE ALE SEMIRAMIDEI A doua mi...</td>\n",
              "      <td>istorie</td>\n",
              "      <td>9.00</td>\n",
              "      <td>gradinile suspendate ale semiramidei a doua mi...</td>\n",
              "    </tr>\n",
              "    <tr>\n",
              "      <th>2</th>\n",
              "      <td>1765</td>\n",
              "      <td>Referat Mihail Sadoveanu</td>\n",
              "      <td>MIHAIL SADOVEANU  (1880-1961) \\nMihail Sadovea...</td>\n",
              "      <td>romana</td>\n",
              "      <td>5.36</td>\n",
              "      <td>mihail sadoveanu  (1880-1961) \\nmihail sadovea...</td>\n",
              "    </tr>\n",
              "    <tr>\n",
              "      <th>3</th>\n",
              "      <td>3691</td>\n",
              "      <td>Referat Eminescu</td>\n",
              "      <td>EMINESCU \\nS-a  nascut pe 15 ianuarie 1850 la ...</td>\n",
              "      <td>romana</td>\n",
              "      <td>5.35</td>\n",
              "      <td>eminescu \\ns-a  nascut pe 15 ianuarie 1850 la ...</td>\n",
              "    </tr>\n",
              "    <tr>\n",
              "      <th>4</th>\n",
              "      <td>3402</td>\n",
              "      <td>Moara</td>\n",
              "      <td>Moara cu noroc Ioan Slavici \\nCaracterizarea l...</td>\n",
              "      <td>romana</td>\n",
              "      <td>10.00</td>\n",
              "      <td>moara cu noroc ioan slavici \\ncaracterizarea l...</td>\n",
              "    </tr>\n",
              "  </tbody>\n",
              "</table>\n",
              "</div>"
            ],
            "text/plain": [
              "   index  ...                                     processed_text\n",
              "0   3685  ...  piercing-ul si tatuajele - vanitati adolescent...\n",
              "1    775  ...  gradinile suspendate ale semiramidei a doua mi...\n",
              "2   1765  ...  mihail sadoveanu  (1880-1961) \\nmihail sadovea...\n",
              "3   3691  ...  eminescu \\ns-a  nascut pe 15 ianuarie 1850 la ...\n",
              "4   3402  ...  moara cu noroc ioan slavici \\ncaracterizarea l...\n",
              "\n",
              "[5 rows x 6 columns]"
            ]
          },
          "metadata": {
            "tags": []
          },
          "execution_count": 7
        }
      ]
    },
    {
      "cell_type": "code",
      "metadata": {
        "colab": {
          "base_uri": "https://localhost:8080/",
          "height": 206
        },
        "id": "5GAKmzvX1ra-",
        "outputId": "84aef4da-2aa2-4f5b-e78c-a23c73850fa6"
      },
      "source": [
        "def remove_stopwords(text):\r\n",
        "  return ' '.join([word for word in text.split() if word not in stopwords])\r\n",
        "\r\n",
        "train['processed_text'] = train['processed_text'].apply(lambda x: remove_stopwords(x))\r\n",
        "\r\n",
        "train.head(5)"
      ],
      "execution_count": null,
      "outputs": [
        {
          "output_type": "execute_result",
          "data": {
            "text/html": [
              "<div>\n",
              "<style scoped>\n",
              "    .dataframe tbody tr th:only-of-type {\n",
              "        vertical-align: middle;\n",
              "    }\n",
              "\n",
              "    .dataframe tbody tr th {\n",
              "        vertical-align: top;\n",
              "    }\n",
              "\n",
              "    .dataframe thead th {\n",
              "        text-align: right;\n",
              "    }\n",
              "</style>\n",
              "<table border=\"1\" class=\"dataframe\">\n",
              "  <thead>\n",
              "    <tr style=\"text-align: right;\">\n",
              "      <th></th>\n",
              "      <th>index</th>\n",
              "      <th>filename</th>\n",
              "      <th>text</th>\n",
              "      <th>category</th>\n",
              "      <th>grade</th>\n",
              "      <th>processed_text</th>\n",
              "    </tr>\n",
              "  </thead>\n",
              "  <tbody>\n",
              "    <tr>\n",
              "      <th>0</th>\n",
              "      <td>3685</td>\n",
              "      <td>Referat Piercing-ul si adolescentii</td>\n",
              "      <td>Piercing-ul si tatuajele - vanitati adolescent...</td>\n",
              "      <td>psihologie</td>\n",
              "      <td>5.65</td>\n",
              "      <td>piercing-ul tatuajele - vanitati adolescentine...</td>\n",
              "    </tr>\n",
              "    <tr>\n",
              "      <th>1</th>\n",
              "      <td>775</td>\n",
              "      <td>Gradinile Suspendate Ale Semiramidei</td>\n",
              "      <td>GRADINILE SUSPENDATE ALE SEMIRAMIDEI A doua mi...</td>\n",
              "      <td>istorie</td>\n",
              "      <td>9.00</td>\n",
              "      <td>gradinile suspendate semiramidei doua minune l...</td>\n",
              "    </tr>\n",
              "    <tr>\n",
              "      <th>2</th>\n",
              "      <td>1765</td>\n",
              "      <td>Referat Mihail Sadoveanu</td>\n",
              "      <td>MIHAIL SADOVEANU  (1880-1961) \\nMihail Sadovea...</td>\n",
              "      <td>romana</td>\n",
              "      <td>5.36</td>\n",
              "      <td>mihail sadoveanu (1880-1961) mihail sadoveanu ...</td>\n",
              "    </tr>\n",
              "    <tr>\n",
              "      <th>3</th>\n",
              "      <td>3691</td>\n",
              "      <td>Referat Eminescu</td>\n",
              "      <td>EMINESCU \\nS-a  nascut pe 15 ianuarie 1850 la ...</td>\n",
              "      <td>romana</td>\n",
              "      <td>5.35</td>\n",
              "      <td>eminescu s-a nascut 15 ianuarie 1850 botosani ...</td>\n",
              "    </tr>\n",
              "    <tr>\n",
              "      <th>4</th>\n",
              "      <td>3402</td>\n",
              "      <td>Moara</td>\n",
              "      <td>Moara cu noroc Ioan Slavici \\nCaracterizarea l...</td>\n",
              "      <td>romana</td>\n",
              "      <td>10.00</td>\n",
              "      <td>moara ioan slavici caracterizarea ghita ghita ...</td>\n",
              "    </tr>\n",
              "  </tbody>\n",
              "</table>\n",
              "</div>"
            ],
            "text/plain": [
              "   index  ...                                     processed_text\n",
              "0   3685  ...  piercing-ul tatuajele - vanitati adolescentine...\n",
              "1    775  ...  gradinile suspendate semiramidei doua minune l...\n",
              "2   1765  ...  mihail sadoveanu (1880-1961) mihail sadoveanu ...\n",
              "3   3691  ...  eminescu s-a nascut 15 ianuarie 1850 botosani ...\n",
              "4   3402  ...  moara ioan slavici caracterizarea ghita ghita ...\n",
              "\n",
              "[5 rows x 6 columns]"
            ]
          },
          "metadata": {
            "tags": []
          },
          "execution_count": 8
        }
      ]
    },
    {
      "cell_type": "code",
      "metadata": {
        "id": "ulFC1uFd4dE6"
      },
      "source": [
        "train.processed_text.iloc[2]"
      ],
      "execution_count": null,
      "outputs": []
    },
    {
      "cell_type": "code",
      "metadata": {
        "colab": {
          "base_uri": "https://localhost:8080/",
          "height": 206
        },
        "id": "m3byfyifYi_C",
        "outputId": "6ecd920b-6127-4865-ad5b-8bff8377324a"
      },
      "source": [
        "import re\n",
        "\n",
        "def clean_numbers(x):\n",
        "\n",
        "    x = re.sub('[0-9]{5,}', '#####', x)\n",
        "    x = re.sub('[0-9]{4}', '####', x)\n",
        "    x = re.sub('[0-9]{3}', '###', x)\n",
        "    x = re.sub('[0-9]{2}', '##', x)\n",
        "    x = re.sub('[0-9]', '#', x)\n",
        "\n",
        "    return x\n",
        "\n",
        "train['processed_text'] = train['processed_text'].apply(lambda x : clean_numbers(x))\n",
        "train.head(5)"
      ],
      "execution_count": null,
      "outputs": [
        {
          "output_type": "execute_result",
          "data": {
            "text/html": [
              "<div>\n",
              "<style scoped>\n",
              "    .dataframe tbody tr th:only-of-type {\n",
              "        vertical-align: middle;\n",
              "    }\n",
              "\n",
              "    .dataframe tbody tr th {\n",
              "        vertical-align: top;\n",
              "    }\n",
              "\n",
              "    .dataframe thead th {\n",
              "        text-align: right;\n",
              "    }\n",
              "</style>\n",
              "<table border=\"1\" class=\"dataframe\">\n",
              "  <thead>\n",
              "    <tr style=\"text-align: right;\">\n",
              "      <th></th>\n",
              "      <th>index</th>\n",
              "      <th>filename</th>\n",
              "      <th>text</th>\n",
              "      <th>category</th>\n",
              "      <th>grade</th>\n",
              "      <th>processed_text</th>\n",
              "    </tr>\n",
              "  </thead>\n",
              "  <tbody>\n",
              "    <tr>\n",
              "      <th>0</th>\n",
              "      <td>3685</td>\n",
              "      <td>Referat Piercing-ul si adolescentii</td>\n",
              "      <td>Piercing-ul si tatuajele - vanitati adolescent...</td>\n",
              "      <td>psihologie</td>\n",
              "      <td>5.65</td>\n",
              "      <td>piercing-ul tatuajele - vanitati adolescentine...</td>\n",
              "    </tr>\n",
              "    <tr>\n",
              "      <th>1</th>\n",
              "      <td>775</td>\n",
              "      <td>Gradinile Suspendate Ale Semiramidei</td>\n",
              "      <td>GRADINILE SUSPENDATE ALE SEMIRAMIDEI A doua mi...</td>\n",
              "      <td>istorie</td>\n",
              "      <td>9.00</td>\n",
              "      <td>gradinile suspendate semiramidei doua minune l...</td>\n",
              "    </tr>\n",
              "    <tr>\n",
              "      <th>2</th>\n",
              "      <td>1765</td>\n",
              "      <td>Referat Mihail Sadoveanu</td>\n",
              "      <td>MIHAIL SADOVEANU  (1880-1961) \\nMihail Sadovea...</td>\n",
              "      <td>romana</td>\n",
              "      <td>5.36</td>\n",
              "      <td>mihail sadoveanu (####-####) mihail sadoveanu ...</td>\n",
              "    </tr>\n",
              "    <tr>\n",
              "      <th>3</th>\n",
              "      <td>3691</td>\n",
              "      <td>Referat Eminescu</td>\n",
              "      <td>EMINESCU \\nS-a  nascut pe 15 ianuarie 1850 la ...</td>\n",
              "      <td>romana</td>\n",
              "      <td>5.35</td>\n",
              "      <td>eminescu s-a nascut ## ianuarie #### botosani ...</td>\n",
              "    </tr>\n",
              "    <tr>\n",
              "      <th>4</th>\n",
              "      <td>3402</td>\n",
              "      <td>Moara</td>\n",
              "      <td>Moara cu noroc Ioan Slavici \\nCaracterizarea l...</td>\n",
              "      <td>romana</td>\n",
              "      <td>10.00</td>\n",
              "      <td>moara ioan slavici caracterizarea ghita ghita ...</td>\n",
              "    </tr>\n",
              "  </tbody>\n",
              "</table>\n",
              "</div>"
            ],
            "text/plain": [
              "   index  ...                                     processed_text\n",
              "0   3685  ...  piercing-ul tatuajele - vanitati adolescentine...\n",
              "1    775  ...  gradinile suspendate semiramidei doua minune l...\n",
              "2   1765  ...  mihail sadoveanu (####-####) mihail sadoveanu ...\n",
              "3   3691  ...  eminescu s-a nascut ## ianuarie #### botosani ...\n",
              "4   3402  ...  moara ioan slavici caracterizarea ghita ghita ...\n",
              "\n",
              "[5 rows x 6 columns]"
            ]
          },
          "metadata": {
            "tags": []
          },
          "execution_count": 9
        }
      ]
    },
    {
      "cell_type": "code",
      "metadata": {
        "id": "r2HiZbxFZYe_"
      },
      "source": [
        "train.processed_text.iloc[100]"
      ],
      "execution_count": null,
      "outputs": []
    },
    {
      "cell_type": "code",
      "metadata": {
        "id": "o7OgtOCeVdqm"
      },
      "source": [
        "train['processed_text'] = train['processed_text'].apply(lambda x : re.sub(r'[^\\x00-\\x7F]+',' ', x))"
      ],
      "execution_count": null,
      "outputs": []
    },
    {
      "cell_type": "code",
      "metadata": {
        "id": "TU0nA8BLhalj"
      },
      "source": [
        "dev['processed_text'] = dev['text'].apply(lambda x: x.lower())\n",
        "dev['processed_text'] = dev['processed_text'].apply(lambda x : remove_stopwords(x))\n",
        "dev['processed_text'] = dev['processed_text'].apply(lambda x : re.sub(r'[^\\x00-\\x7F]+',' ', x))\n",
        "dev['processed_text'] = dev['processed_text'].apply(lambda x : clean_numbers(x))\n",
        "\n",
        "dev.processed_text.iloc[3]"
      ],
      "execution_count": null,
      "outputs": []
    },
    {
      "cell_type": "code",
      "metadata": {
        "id": "hwO-rAceh4Wh"
      },
      "source": [
        "test['processed_text'] = test['text'].apply(lambda x: x.lower())\n",
        "test['processed_text'] = test['processed_text'].apply(lambda x : remove_stopwords(x))\n",
        "test['processed_text'] = test['processed_text'].apply(lambda x : re.sub(r'[^\\x00-\\x7F]+',' ', x))\n",
        "test['processed_text'] = test['processed_text'].apply(lambda x : clean_numbers(x))"
      ],
      "execution_count": null,
      "outputs": []
    },
    {
      "cell_type": "markdown",
      "metadata": {
        "id": "xosyeOFGRvnV"
      },
      "source": [
        "**Embeddings**"
      ]
    },
    {
      "cell_type": "code",
      "metadata": {
        "id": "VriSzbTs9gHd"
      },
      "source": [
        "# from gensim.models.phrases import Phrases, Phraser\r\n",
        "# from collections import defaultdict\r\n",
        "\r\n",
        "# sent = [row.split() for row in train['processed_text']]\r\n",
        "\r\n",
        "# phrases = Phrases(sent, min_count=30, progress_per=10000)\r\n",
        "\r\n",
        "# bigram = Phraser(phrases)\r\n",
        "# sentences = bigram[sent]\r\n",
        "\r\n",
        "# word_freq = defaultdict(int)\r\n",
        "# for sent in sentences:\r\n",
        "#     for i in sent:\r\n",
        "#         word_freq[i] += 1\r\n",
        "# len(word_freq)"
      ],
      "execution_count": null,
      "outputs": []
    },
    {
      "cell_type": "code",
      "metadata": {
        "id": "4ARWjJPQ92-G"
      },
      "source": [
        "# sorted(word_freq, key=word_freq.get, reverse=True)[:10]"
      ],
      "execution_count": null,
      "outputs": []
    },
    {
      "cell_type": "code",
      "metadata": {
        "id": "-1MZcAADedr4"
      },
      "source": [
        "# import multiprocessing\n",
        "\n",
        "# from gensim.models import Word2Vec\n",
        "\n",
        "# w2v_model = Word2Vec(min_count=20,\n",
        "#                      window=2,\n",
        "#                      size=300,\n",
        "#                      sample=6e-5, \n",
        "#                      alpha=0.03, \n",
        "#                      min_alpha=0.0007, \n",
        "#                      negative=20)"
      ],
      "execution_count": null,
      "outputs": []
    },
    {
      "cell_type": "code",
      "metadata": {
        "id": "h2sZf5yu-BZd"
      },
      "source": [
        "# w2v_model.build_vocab(sentences, progress_per=10000)"
      ],
      "execution_count": null,
      "outputs": []
    },
    {
      "cell_type": "code",
      "metadata": {
        "colab": {
          "base_uri": "https://localhost:8080/"
        },
        "id": "SX-6tGbu-Ejf",
        "outputId": "b0c59f55-a5f9-4e04-d160-c698839a3213"
      },
      "source": [
        "# w2v_model.train(sentences, total_examples=w2v_model.corpus_count, epochs=5, report_delay=1)"
      ],
      "execution_count": null,
      "outputs": [
        {
          "output_type": "execute_result",
          "data": {
            "text/plain": [
              "(15562229, 25854195)"
            ]
          },
          "metadata": {
            "tags": []
          },
          "execution_count": 47
        }
      ]
    },
    {
      "cell_type": "code",
      "metadata": {
        "id": "MSeDxmsxQHfm"
      },
      "source": [
        "# w2v_model.wv.save_word2vec_format('/content/drive/MyDrive/SII/embedding2.bin', binary=True)"
      ],
      "execution_count": null,
      "outputs": []
    },
    {
      "cell_type": "code",
      "metadata": {
        "id": "ZZYtovol-JAh"
      },
      "source": [
        "# w2v_model.init_sims(replace=True)"
      ],
      "execution_count": null,
      "outputs": []
    },
    {
      "cell_type": "code",
      "metadata": {
        "colab": {
          "base_uri": "https://localhost:8080/"
        },
        "id": "d6jZj1U4-MJP",
        "outputId": "9b8c8a76-022a-4b35-d79e-747d6fc5924a"
      },
      "source": [
        "w2v_model.wv.most_similar(positive=[\"scrisoare\"])"
      ],
      "execution_count": null,
      "outputs": [
        {
          "output_type": "execute_result",
          "data": {
            "text/plain": [
              "[('scrisoare_pierduta', 0.4295188784599304),\n",
              " ('pierderea_scrisori', 0.4179714322090149),\n",
              " ('scrisoare.', 0.4065089821815491),\n",
              " ('pierduta”', 0.3701888918876648),\n",
              " ('poliţă', 0.35345524549484253),\n",
              " ('pierdută', 0.3490915596485138),\n",
              " ('telegrama', 0.3445854187011719),\n",
              " ('cerandu-i', 0.33844509720802307),\n",
              " ('d-ale', 0.33758920431137085),\n",
              " ('scrisori', 0.33727163076400757)]"
            ]
          },
          "metadata": {
            "tags": []
          },
          "execution_count": 54
        }
      ]
    },
    {
      "cell_type": "markdown",
      "metadata": {
        "id": "L0sPLLF0Om1I"
      },
      "source": [
        "**Models**"
      ]
    },
    {
      "cell_type": "code",
      "metadata": {
        "id": "45Qgt0QGgjOn",
        "colab": {
          "base_uri": "https://localhost:8080/",
          "height": 300
        },
        "outputId": "4fc27a32-6879-4c51-8047-69bafb72122d"
      },
      "source": [
        "lens = train.processed_text.str.len()\n",
        "print(lens.mean(), lens.std(), lens.max())\n",
        "lens.hist()"
      ],
      "execution_count": null,
      "outputs": [
        {
          "output_type": "stream",
          "text": [
            "9223.244867724869 18263.820990675613 444535\n"
          ],
          "name": "stdout"
        },
        {
          "output_type": "execute_result",
          "data": {
            "text/plain": [
              "<matplotlib.axes._subplots.AxesSubplot at 0x7f00ae6c1e80>"
            ]
          },
          "metadata": {
            "tags": []
          },
          "execution_count": 19
        },
        {
          "output_type": "display_data",
          "data": {
            "image/png": "[encoded data removed]",
            "text/plain": [
              "<Figure size 432x288 with 1 Axes>"
            ]
          },
          "metadata": {
            "tags": [],
            "needs_background": "light"
          }
        }
      ]
    },
    {
      "cell_type": "code",
      "metadata": {
        "id": "9DB3pY-lPFZt"
      },
      "source": [
        "def build_vocab(sentences, verbose =  True):\r\n",
        "    \"\"\"\r\n",
        "    :param sentences: list of list of words\r\n",
        "    :return: dictionary of words and their count\r\n",
        "    \"\"\"\r\n",
        "    vocab = {}\r\n",
        "    for sentence in tqdm(sentences, disable = (not verbose)):\r\n",
        "        for word in sentence:\r\n",
        "            try:\r\n",
        "                vocab[word] += 1\r\n",
        "            except KeyError:\r\n",
        "                vocab[word] = 1\r\n",
        "    return vocab"
      ],
      "execution_count": null,
      "outputs": []
    },
    {
      "cell_type": "code",
      "metadata": {
        "colab": {
          "base_uri": "https://localhost:8080/"
        },
        "id": "TCfLjBqkPJFV",
        "outputId": "38f02fc1-f8c5-48da-c4d0-99b39e304185"
      },
      "source": [
        "sentences = train[\"processed_text\"].apply(lambda x: x.split()).values\r\n",
        "vocab = build_vocab(sentences)\r\n",
        "print({k: vocab[k] for k in list(vocab)[:5]})"
      ],
      "execution_count": null,
      "outputs": [
        {
          "output_type": "stream",
          "text": [
            "100%|██████████| 4725/4725 [00:01<00:00, 2778.06it/s]"
          ],
          "name": "stderr"
        },
        {
          "output_type": "stream",
          "text": [
            "{'piercing-ul': 3, 'tatuajele': 2, '-': 30657, 'vanitati': 2, 'adolescentine?': 1}\n"
          ],
          "name": "stdout"
        },
        {
          "output_type": "stream",
          "text": [
            "\n"
          ],
          "name": "stderr"
        }
      ]
    },
    {
      "cell_type": "code",
      "metadata": {
        "id": "7MdvG8WjPXN0"
      },
      "source": [
        "from gensim.models import KeyedVectors\n",
        "embeddings_index = KeyedVectors.load_word2vec_format('/content/drive/MyDrive/SII/SII-Challenge/model.bin', binary=True)"
      ],
      "execution_count": null,
      "outputs": []
    },
    {
      "cell_type": "code",
      "metadata": {
        "id": "TdE2huERQgKk"
      },
      "source": [
        "embeddings_index_2 = KeyedVectors.load_word2vec_format('/content/drive/MyDrive/SII/SII-Challenge/embedding2.bin', binary=True)"
      ],
      "execution_count": null,
      "outputs": []
    },
    {
      "cell_type": "code",
      "metadata": {
        "id": "T3jG31LOPjwH"
      },
      "source": [
        "import operator \r\n",
        "\r\n",
        "def check_coverage(vocab,embeddings_index):\r\n",
        "    a = {}\r\n",
        "    oov = {}\r\n",
        "    k = 0\r\n",
        "    i = 0\r\n",
        "    for word in tqdm(vocab):\r\n",
        "        try:\r\n",
        "            a[word] = embeddings_index[word]\r\n",
        "            k += vocab[word]\r\n",
        "        except:\r\n",
        "\r\n",
        "            oov[word] = vocab[word]\r\n",
        "            i += vocab[word]\r\n",
        "            pass\r\n",
        "\r\n",
        "    print('Found embeddings for {:.2%} of vocab'.format(len(a) / len(vocab)))\r\n",
        "    print('Found embeddings for  {:.2%} of all text'.format(k / (k + i)))\r\n",
        "    sorted_x = sorted(oov.items(), key=operator.itemgetter(1))[::-1]\r\n",
        "\r\n",
        "    return sorted_x"
      ],
      "execution_count": null,
      "outputs": []
    },
    {
      "cell_type": "code",
      "metadata": {
        "colab": {
          "base_uri": "https://localhost:8080/"
        },
        "id": "vkhnjNt3PnHl",
        "outputId": "c7775a22-b440-4b06-dd36-0f5debbe928d"
      },
      "source": [
        "oov = check_coverage(vocab,embeddings_index)"
      ],
      "execution_count": null,
      "outputs": [
        {
          "output_type": "stream",
          "text": [
            "100%|██████████| 555040/555040 [00:01<00:00, 399433.81it/s]"
          ],
          "name": "stderr"
        },
        {
          "output_type": "stream",
          "text": [
            "Found embeddings for 36.03% of vocab\n",
            "Found embeddings for  76.50% of all text\n"
          ],
          "name": "stdout"
        },
        {
          "output_type": "stream",
          "text": [
            "\n"
          ],
          "name": "stderr"
        }
      ]
    },
    {
      "cell_type": "code",
      "metadata": {
        "colab": {
          "base_uri": "https://localhost:8080/"
        },
        "id": "fJ7YHmJtPxhj",
        "outputId": "805b717d-18d4-42bc-f2b3-fcabbdc5758a"
      },
      "source": [
        "embeddings_index.similar_by_word(\"comentariu\")"
      ],
      "execution_count": null,
      "outputs": [
        {
          "output_type": "execute_result",
          "data": {
            "text/plain": [
              "[('veziadaugă', 0.751944363117218),\n",
              " ('votscrie', 0.7479938268661499),\n",
              " ('.sobru', 0.7449974417686462),\n",
              " ('momentanscrieti', 0.7340505123138428),\n",
              " ('filcu', 0.7320773601531982),\n",
              " ('vechilasă', 0.7216393351554871),\n",
              " ('0)hits', 0.7141861319541931),\n",
              " ('var3', 0.7130448818206787),\n",
              " ('startanterior12345678910următorend', 0.7109917402267456),\n",
              " ('0raspundeiulia', 0.7098747491836548)]"
            ]
          },
          "metadata": {
            "tags": []
          },
          "execution_count": 68
        }
      ]
    },
    {
      "cell_type": "code",
      "metadata": {
        "colab": {
          "base_uri": "https://localhost:8080/"
        },
        "id": "z7aUiYSuS4mA",
        "outputId": "d2747f5e-9ecc-4c1c-d72a-e50d2c3a5a68"
      },
      "source": [
        "all_embs = np.stack(embeddings_index.vectors)\r\n",
        "\r\n",
        "emb_mean,emb_std = all_embs.mean(), all_embs.std()\r\n",
        "embed_size = all_embs.shape[1]\r\n",
        "\r\n",
        "word_index = tokenizer.word_index\r\n",
        "nb_words = min(max_features, len(word_index))\r\n",
        "embedding_matrix = np.random.normal(emb_mean, emb_std, (nb_words, embed_size))\r\n",
        "for word, i in word_index.items():\r\n",
        "    if i >= max_features: continue\r\n",
        "    try:\r\n",
        "      embedding_vector = embeddings_index[word]\r\n",
        "      if embedding_vector is not None: embedding_matrix[i] = embedding_vector\r\n",
        "    except:\r\n",
        "      pass\r\n",
        "\r\n",
        "print(embed_size)"
      ],
      "execution_count": null,
      "outputs": [
        {
          "output_type": "stream",
          "text": [
            "100\n"
          ],
          "name": "stdout"
        }
      ]
    },
    {
      "cell_type": "markdown",
      "metadata": {
        "id": "_ywHCCkdRiXh"
      },
      "source": [
        "**Prepare input**"
      ]
    },
    {
      "cell_type": "code",
      "metadata": {
        "id": "NahOytZPXfJG"
      },
      "source": [
        "embed_size = 100\r\n",
        "maxlen = 18000\r\n",
        "\r\n",
        "train_X = tokenizer.texts_to_sequences(train['processed_text'])\r\n",
        "val_X = tokenizer.texts_to_sequences(dev['processed_text'])\r\n",
        "test_X = tokenizer.texts_to_sequences(test['processed_text'])\r\n",
        "\r\n",
        "train_X = pad_sequences(train_X, maxlen=maxlen)\r\n",
        "val_X = pad_sequences(val_X, maxlen=maxlen)\r\n",
        "test_X = pad_sequences(test_X, maxlen=maxlen)"
      ],
      "execution_count": null,
      "outputs": []
    },
    {
      "cell_type": "code",
      "metadata": {
        "id": "GDo_VdtfYbtO"
      },
      "source": [
        "Y_train = train['grade'].values\r\n",
        "Y_val = dev['grade'].values"
      ],
      "execution_count": null,
      "outputs": []
    },
    {
      "cell_type": "markdown",
      "metadata": {
        "id": "TRAXO90iRY7F"
      },
      "source": [
        "**Define the models**"
      ]
    },
    {
      "cell_type": "code",
      "metadata": {
        "colab": {
          "base_uri": "https://localhost:8080/"
        },
        "id": "vBR_uJhPX4o7",
        "outputId": "ed9c0e00-2151-4187-9f82-1669bb27957c"
      },
      "source": [
        "def get_model_1():\r\n",
        "  model = Sequential()\r\n",
        "  # model.add(Embedding(max_features, embed_size))\r\n",
        "  model.add(Embedding(max_features, embed_size, weights=[embedding_matrix], trainable=False))\r\n",
        "  model.add(LSTM(units = 128, dropout = 0.2, recurrent_dropout = 0.2,return_sequences=True))\r\n",
        "  model.add(LSTM(units = 64, dropout = 0.2, recurrent_dropout = 0.2))\r\n",
        "  model.add(Dropout(0.1))\r\n",
        "  model.add(Dense(units = 1, activation = 'relu'))\r\n",
        "  \r\n",
        "  return model\r\n",
        "    \r\n",
        "\r\n",
        "def get_model_2():\r\n",
        "  inp = Input(shape=(maxlen, ))\r\n",
        "  x = Embedding(max_features, embed_size, weights=[embedding_matrix], trainable = False)(inp)\r\n",
        "  x = GlobalMaxPooling1D()(x)\r\n",
        "  x = Dropout(0.25)(x)\r\n",
        "  x = Dense(50, activation=\"relu\")(x)\r\n",
        "  x = Dropout(0.25)(x)\r\n",
        "  x = Dense(1, activation=\"relu\")(x)\r\n",
        "  model = Model(inp,x)\r\n",
        "  return model\r\n",
        "\r\n",
        "def compile_model(model):\r\n",
        "  model.compile(loss=tf.keras.losses.MeanSquaredError(name=\"loss_mse\")\r\n",
        ", optimizer='adam', metrics=tf.keras.losses.MeanSquaredError(name=\"mse\"))\r\n",
        "\r\n",
        "print(get_model_2().summary())"
      ],
      "execution_count": null,
      "outputs": [
        {
          "output_type": "stream",
          "text": [
            "Model: \"model_8\"\n",
            "_________________________________________________________________\n",
            "Layer (type)                 Output Shape              Param #   \n",
            "=================================================================\n",
            "input_9 (InputLayer)         [(None, 18000)]           0         \n",
            "_________________________________________________________________\n",
            "embedding_13 (Embedding)     (None, 18000, 100)        3000000   \n",
            "_________________________________________________________________\n",
            "global_max_pooling1d_8 (Glob (None, 100)               0         \n",
            "_________________________________________________________________\n",
            "dropout_16 (Dropout)         (None, 100)               0         \n",
            "_________________________________________________________________\n",
            "dense_16 (Dense)             (None, 50)                5050      \n",
            "_________________________________________________________________\n",
            "dropout_17 (Dropout)         (None, 50)                0         \n",
            "_________________________________________________________________\n",
            "dense_17 (Dense)             (None, 1)                 51        \n",
            "=================================================================\n",
            "Total params: 3,005,101\n",
            "Trainable params: 5,101\n",
            "Non-trainable params: 3,000,000\n",
            "_________________________________________________________________\n",
            "None\n"
          ],
          "name": "stdout"
        }
      ]
    },
    {
      "cell_type": "markdown",
      "metadata": {
        "id": "e7DfsxAJRRVV"
      },
      "source": [
        "**Train the second model**"
      ]
    },
    {
      "cell_type": "code",
      "metadata": {
        "id": "YCmRSZ8WX7xv"
      },
      "source": [
        "model3 = get_model_2()\r\n",
        "compile_model(model3)\r\n",
        "batch_size = 64\r\n",
        "epochs = 10\r\n",
        "\r\n",
        "\r\n",
        "early = EarlyStopping(monitor=\"val_loss_mse\", mode=\"min\", patience=5)\r\n",
        "callbacks_list = [early]\r\n",
        "\r\n",
        "with tf.device('/device:GPU:0'):\r\n",
        "  history = model3.fit(train_X, Y_train, validation_data=(val_X, Y_val), batch_size=batch_size, epochs=epochs, callbacks=callbacks_list)"
      ],
      "execution_count": null,
      "outputs": []
    },
    {
      "cell_type": "markdown",
      "metadata": {
        "id": "8lFz8j32RKFP"
      },
      "source": [
        "**Predict**"
      ]
    },
    {
      "cell_type": "code",
      "metadata": {
        "id": "UEfjMMVvb9_M"
      },
      "source": [
        "y_test = model1.predict(test_X)"
      ],
      "execution_count": null,
      "outputs": []
    },
    {
      "cell_type": "code",
      "metadata": {
        "id": "NPXlq8kucF-N"
      },
      "source": [
        "print(y_test.shape)"
      ],
      "execution_count": null,
      "outputs": []
    },
    {
      "cell_type": "markdown",
      "metadata": {
        "id": "WNhpInZnOrE0"
      },
      "source": [
        "**Check result file**"
      ]
    },
    {
      "cell_type": "code",
      "metadata": {
        "colab": {
          "base_uri": "https://localhost:8080/",
          "height": 206
        },
        "id": "7JymrCmIsI8g",
        "outputId": "ece878ba-14ae-49c5-8e61-4dab9ddaa4ec"
      },
      "source": [
        "trial = pd.read_json('/content/drive/MyDrive/SII/SII-Challenge/test_results-embd.json')\n",
        "trial.tail()"
      ],
      "execution_count": null,
      "outputs": [
        {
          "output_type": "execute_result",
          "data": {
            "text/html": [
              "<div>\n",
              "<style scoped>\n",
              "    .dataframe tbody tr th:only-of-type {\n",
              "        vertical-align: middle;\n",
              "    }\n",
              "\n",
              "    .dataframe tbody tr th {\n",
              "        vertical-align: top;\n",
              "    }\n",
              "\n",
              "    .dataframe thead th {\n",
              "        text-align: right;\n",
              "    }\n",
              "</style>\n",
              "<table border=\"1\" class=\"dataframe\">\n",
              "  <thead>\n",
              "    <tr style=\"text-align: right;\">\n",
              "      <th></th>\n",
              "      <th>index</th>\n",
              "      <th>filename</th>\n",
              "      <th>text</th>\n",
              "      <th>category</th>\n",
              "      <th>grades</th>\n",
              "    </tr>\n",
              "  </thead>\n",
              "  <tbody>\n",
              "    <tr>\n",
              "      <th>495</th>\n",
              "      <td>3591</td>\n",
              "      <td>Morometi</td>\n",
              "      <td>Morometii   \\n-Personaje principale \\n  -Parin...</td>\n",
              "      <td>romana</td>\n",
              "      <td>6.347172</td>\n",
              "    </tr>\n",
              "    <tr>\n",
              "      <th>496</th>\n",
              "      <td>5389</td>\n",
              "      <td>Padurea Spanzuratilor - Comentariu</td>\n",
              "      <td>Padurea spanzuratilor de Liviu Rebreanu \\nTema...</td>\n",
              "      <td>romana</td>\n",
              "      <td>7.315770</td>\n",
              "    </tr>\n",
              "    <tr>\n",
              "      <th>497</th>\n",
              "      <td>1496</td>\n",
              "      <td>Referat Marsul lui Radetzky</td>\n",
              "      <td>MARELE ZID CHINEZESC \\n         Constructie gi...</td>\n",
              "      <td>istorie</td>\n",
              "      <td>6.059397</td>\n",
              "    </tr>\n",
              "    <tr>\n",
              "      <th>498</th>\n",
              "      <td>911</td>\n",
              "      <td>Referat Ciresarii - Cavalerii florii de cires</td>\n",
              "      <td>A Z U G A                    Valea Prahovei a ...</td>\n",
              "      <td>romana</td>\n",
              "      <td>8.547588</td>\n",
              "    </tr>\n",
              "    <tr>\n",
              "      <th>499</th>\n",
              "      <td>5266</td>\n",
              "      <td>Constitutia</td>\n",
              "      <td>ISTORIA CONSTITUŢIONALĂ A ROMÂNIEI \\nParcurger...</td>\n",
              "      <td>istorie</td>\n",
              "      <td>8.459164</td>\n",
              "    </tr>\n",
              "  </tbody>\n",
              "</table>\n",
              "</div>"
            ],
            "text/plain": [
              "     index                                       filename  ... category    grades\n",
              "495   3591                                       Morometi  ...   romana  6.347172\n",
              "496   5389             Padurea Spanzuratilor - Comentariu  ...   romana  7.315770\n",
              "497   1496                    Referat Marsul lui Radetzky  ...  istorie  6.059397\n",
              "498    911  Referat Ciresarii - Cavalerii florii de cires  ...   romana  8.547588\n",
              "499   5266                                    Constitutia  ...  istorie  8.459164\n",
              "\n",
              "[5 rows x 5 columns]"
            ]
          },
          "metadata": {
            "tags": []
          },
          "execution_count": 37
        }
      ]
    }
  ]
}