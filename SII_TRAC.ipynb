{
  "nbformat": 4,
  "nbformat_minor": 0,
  "metadata": {
    "colab": {
      "name": "SII-TRAC.ipynb",
      "provenance": [],
      "collapsed_sections": [],
      "mount_file_id": "1v742ShdmdWSFWVTd9XNIdIAeFNOzvCep",
      "authorship_tag": "ABX9TyMGxjV+5io6Lvvl9hfP+fqv",
      "include_colab_link": true
    },
    "kernelspec": {
      "name": "python3",
      "display_name": "Python 3"
    },
    "accelerator": "GPU"
  },
  "cells": [
    {
      "cell_type": "markdown",
      "metadata": {
        "id": "view-in-github",
        "colab_type": "text"
      },
      "source": [
        "<a href=\"https://colab.research.google.com/github/claudiaxpreda/SII/blob/main/SII_TRAC.ipynb\" target=\"_parent\"><img src=\"https://colab.research.google.com/assets/colab-badge.svg\" alt=\"Open In Colab\"/></a>"
      ]
    },
    {
      "cell_type": "code",
      "metadata": {
        "id": "H1ldMktQXkQF"
      },
      "source": [
        "import os\n",
        "import re\n",
        "import pandas as pd\n",
        "import numpy as np\n",
        "import string\n",
        "import nltk\n",
        "\n",
        "\n",
        "from matplotlib import pyplot as plt\n",
        "%matplotlib inline\n",
        "import seaborn as sns"
      ],
      "execution_count": 1,
      "outputs": []
    },
    {
      "cell_type": "code",
      "metadata": {
        "colab": {
          "base_uri": "https://localhost:8080/"
        },
        "id": "kMYVO4QxVgIk",
        "outputId": "ec34126c-668e-4c3f-e54f-64259b75c0ac"
      },
      "source": [
        "nltk.download('punkt')\n",
        "nltk.download('wordnet')\n",
        "nltk.download('stopwords')"
      ],
      "execution_count": 2,
      "outputs": [
        {
          "output_type": "stream",
          "text": [
            "[nltk_data] Downloading package punkt to /root/nltk_data...\n",
            "[nltk_data]   Package punkt is already up-to-date!\n",
            "[nltk_data] Downloading package wordnet to /root/nltk_data...\n",
            "[nltk_data]   Package wordnet is already up-to-date!\n",
            "[nltk_data] Downloading package stopwords to /root/nltk_data...\n",
            "[nltk_data]   Package stopwords is already up-to-date!\n"
          ],
          "name": "stdout"
        },
        {
          "output_type": "execute_result",
          "data": {
            "text/plain": [
              "True"
            ]
          },
          "metadata": {
            "tags": []
          },
          "execution_count": 2
        }
      ]
    },
    {
      "cell_type": "code",
      "metadata": {
        "id": "uAzMTv9KW-Dk"
      },
      "source": [
        "from nltk.tokenize import word_tokenize\n",
        "from nltk.stem import WordNetLemmatizer\n",
        "from nltk.corpus import stopwords"
      ],
      "execution_count": 3,
      "outputs": []
    },
    {
      "cell_type": "code",
      "metadata": {
        "id": "cQc1sYLOTgg4"
      },
      "source": [
        "WORKDIR = os.getcwd()\n",
        "\n",
        "# DATASET_DIR = 'trac1-dataset/'\n",
        "# DATASET_DIR2 = 'trac2-shared-task-dataset/release_files'\n",
        "\n",
        "# TRAIN_FILE = 'agr_en_train.csv'\n",
        "# VAL_FILE = 'agr_en_dev.csv'\n",
        "# TEST_TW_FILE = 'agr_en_tw_gold.csv'\n",
        "# TEST_FB_FILE = 'agr_en_fb_gold.csv'\n",
        "# def get_train_files(name):\n",
        "#   return WORKDIR + '/drive/MyDrive/SII/' + DATASET_DIR + 'english/' + name\n",
        "\n",
        "# def get_test_files(name): \n",
        "#   return WORKDIR + '/drive/MyDrive/SII/' + DATASET_DIR + 'trac-gold-set/' + name\n",
        "\n",
        "\n",
        "TRAIN_FILE = 'train_pre.csv'\n",
        "VAL_FILE = 'val_pre.csv'\n",
        "TEST_TW_FILE = 'test_fb_pre.csv'\n",
        "TEST_FB_FILE = 'test_tw_pre.csv'\n",
        "\n",
        "def get_files(name): \n",
        "  return WORKDIR + '/drive/MyDrive/SII/' + name"
      ],
      "execution_count": 8,
      "outputs": []
    },
    {
      "cell_type": "code",
      "metadata": {
        "id": "bIGAOPphXnjw"
      },
      "source": [
        "\n",
        "# def get_data(name, type):\n",
        "#   if type == TRAIN:\n",
        "#     return pd.read_csv(get_train_files(name))\n",
        "#   else:\n",
        "#     return pd.read_csv(get_test_files(name))\n",
        "\n",
        "\n",
        "def get_data(name):\n",
        "    return pd.read_csv(get_files(name))"
      ],
      "execution_count": 9,
      "outputs": []
    },
    {
      "cell_type": "code",
      "metadata": {
        "colab": {
          "base_uri": "https://localhost:8080/"
        },
        "id": "D0RpQQibXngn",
        "outputId": "15f99dbe-0f44-4bd9-d9e9-1b71342ac673"
      },
      "source": [
        "# train_frame = get_data(TRAIN_FILE, TRAIN)\n",
        "# val_frame = get_data(VAL_FILE, TRAIN)\n",
        "# test_fb_frame = get_data(TEST_FB_FILE, TEST)\n",
        "# test_tw_frame = get_data(TEST_TW_FILE, TEST)\n",
        "\n",
        "train_frame = get_data(TRAIN_FILE)\n",
        "val_frame = get_data(VAL_FILE)\n",
        "test_fb_frame = get_data(TEST_FB_FILE)\n",
        "test_tw_frame = get_data(TEST_TW_FILE)\n",
        "\n",
        "print(\"Train set size: \" + str(len(train_frame)))\n",
        "print(\"Val set size: \" + str(len(val_frame)))\n",
        "print(\"Test facebook set size: \" + str(len(test_fb_frame)))\n",
        "print(\"Test twitter set size: \" + str(len(test_tw_frame)))"
      ],
      "execution_count": 10,
      "outputs": [
        {
          "output_type": "stream",
          "text": [
            "Train set size: 11998\n",
            "Val set size: 3000\n",
            "Test facebook set size: 1256\n",
            "Test twitter set size: 915\n"
          ],
          "name": "stdout"
        }
      ]
    },
    {
      "cell_type": "code",
      "metadata": {
        "id": "w4cgoXunbDOt"
      },
      "source": [
        "# def add_columns_name(data):\n",
        "#   data.columns = ['unique_id', 'text', 'agression_level']\n",
        "\n",
        "# add_columns_name(train_frame)\n",
        "# add_columns_name(val_frame)\n",
        "# add_columns_name(test_fb_frame)\n",
        "# add_columns_name(test_tw_frame)"
      ],
      "execution_count": 7,
      "outputs": []
    },
    {
      "cell_type": "code",
      "metadata": {
        "colab": {
          "base_uri": "https://localhost:8080/"
        },
        "id": "deGdC5Sba5rE",
        "outputId": "e3d1833c-ecf4-4d5b-f9ef-03a31ee9c6c6"
      },
      "source": [
        "print(\"--- TRAIN, VAL\")\n",
        "print(\"NAG  {}, {}\".format(\n",
        "    np.sum(train_frame.agression_level == 'NAG'),\n",
        "    np.sum(val_frame.agression_level == 'NAG')))\n",
        "\n",
        "\n",
        "print(\"OAG  {}, {}\".format(\n",
        "    np.sum(train_frame.agression_level == 'OAG'),\n",
        "    np.sum(val_frame.agression_level == 'OAG')))\n",
        "\n",
        "\n",
        "print(\"CAG  {}, {}\".format(\n",
        "    np.sum(train_frame.agression_level == 'CAG'),\n",
        "    np.sum(val_frame.agression_level == 'CAG')))"
      ],
      "execution_count": 11,
      "outputs": [
        {
          "output_type": "stream",
          "text": [
            "--- TRAIN, VAL\n",
            "NAG  5051, 1233\n",
            "OAG  2707, 711\n",
            "CAG  4240, 1056\n"
          ],
          "name": "stdout"
        }
      ]
    },
    {
      "cell_type": "code",
      "metadata": {
        "id": "cDu9YRGhihYG"
      },
      "source": [
        "data = pd.concat([train_frame, val_frame])"
      ],
      "execution_count": 14,
      "outputs": []
    },
    {
      "cell_type": "code",
      "metadata": {
        "colab": {
          "base_uri": "https://localhost:8080/",
          "height": 300
        },
        "id": "fU9zheuEa5n7",
        "outputId": "ab6580e5-1d2a-4283-ec08-20a7c70032fc"
      },
      "source": [
        "# Words length\n",
        "lens = data.text.str.len()\n",
        "print(lens.mean(), lens.std(), lens.max())\n",
        "lens.hist()"
      ],
      "execution_count": 15,
      "outputs": [
        {
          "output_type": "stream",
          "text": [
            "139.57687691692226 215.0253154894112 6978\n"
          ],
          "name": "stdout"
        },
        {
          "output_type": "execute_result",
          "data": {
            "text/plain": [
              "<matplotlib.axes._subplots.AxesSubplot at 0x7fd3bfedb710>"
            ]
          },
          "metadata": {
            "tags": []
          },
          "execution_count": 15
        },
        {
          "output_type": "display_data",
          "data": {
            "image/png": "[encoded data removed]",
            "text/plain": [
              "<Figure size 432x288 with 1 Axes>"
            ]
          },
          "metadata": {
            "tags": [],
            "needs_background": "light"
          }
        }
      ]
    },
    {
      "cell_type": "code",
      "metadata": {
        "colab": {
          "base_uri": "https://localhost:8080/",
          "height": 426
        },
        "id": "AoQGOF2FDmyP",
        "outputId": "a639eeaa-5f97-4fa7-92af-fb87eb22bf5c"
      },
      "source": [
        "data_analyze = data.drop([\"unique_id\"], axis=1)\n",
        "data_analyze.iloc[1000:1012]"
      ],
      "execution_count": 16,
      "outputs": [
        {
          "output_type": "execute_result",
          "data": {
            "text/html": [
              "<div>\n",
              "<style scoped>\n",
              "    .dataframe tbody tr th:only-of-type {\n",
              "        vertical-align: middle;\n",
              "    }\n",
              "\n",
              "    .dataframe tbody tr th {\n",
              "        vertical-align: top;\n",
              "    }\n",
              "\n",
              "    .dataframe thead th {\n",
              "        text-align: right;\n",
              "    }\n",
              "</style>\n",
              "<table border=\"1\" class=\"dataframe\">\n",
              "  <thead>\n",
              "    <tr style=\"text-align: right;\">\n",
              "      <th></th>\n",
              "      <th>text</th>\n",
              "      <th>agression_level</th>\n",
              "      <th>clean_text</th>\n",
              "      <th>tag</th>\n",
              "    </tr>\n",
              "  </thead>\n",
              "  <tbody>\n",
              "    <tr>\n",
              "      <th>1000</th>\n",
              "      <td>..but govt want to take control over supreme c...</td>\n",
              "      <td>CAG</td>\n",
              "      <td>govt control supreme court lokpal effective ha...</td>\n",
              "      <td>1</td>\n",
              "    </tr>\n",
              "    <tr>\n",
              "      <th>1001</th>\n",
              "      <td>http://indianexpress.com/article/india/fatwa-i...</td>\n",
              "      <td>CAG</td>\n",
              "      <td>dear indian express feel sorry write journalis...</td>\n",
              "      <td>1</td>\n",
              "    </tr>\n",
              "    <tr>\n",
              "      <th>1002</th>\n",
              "      <td>... Why would this Muslim country ban people f...</td>\n",
              "      <td>CAG</td>\n",
              "      <td>would muslim country ban people muslim country...</td>\n",
              "      <td>1</td>\n",
              "    </tr>\n",
              "    <tr>\n",
              "      <th>1003</th>\n",
              "      <td>Nbcc best Infra company will declare rs 5 per ...</td>\n",
              "      <td>NAG</td>\n",
              "      <td>nbcc best infra company declare r share divide...</td>\n",
              "      <td>0</td>\n",
              "    </tr>\n",
              "    <tr>\n",
              "      <th>1004</th>\n",
              "      <td>INDIAN express is now BELOW STANDARD</td>\n",
              "      <td>CAG</td>\n",
              "      <td>indian express standard</td>\n",
              "      <td>1</td>\n",
              "    </tr>\n",
              "    <tr>\n",
              "      <th>1005</th>\n",
              "      <td>Indeed they are genuine and true Freedom Fight...</td>\n",
              "      <td>NAG</td>\n",
              "      <td>indeed genuine true freedom fighter</td>\n",
              "      <td>0</td>\n",
              "    </tr>\n",
              "    <tr>\n",
              "      <th>1006</th>\n",
              "      <td>but then we know where america stands today. w...</td>\n",
              "      <td>CAG</td>\n",
              "      <td>know america stand today whistle blower</td>\n",
              "      <td>1</td>\n",
              "    </tr>\n",
              "    <tr>\n",
              "      <th>1007</th>\n",
              "      <td>Maulana is right,,,,,, it seems he understands...</td>\n",
              "      <td>CAG</td>\n",
              "      <td>maulana right seems understands muslim well be...</td>\n",
              "      <td>1</td>\n",
              "    </tr>\n",
              "    <tr>\n",
              "      <th>1008</th>\n",
              "      <td>Jude we elect our representative. Average turn...</td>\n",
              "      <td>OAG</td>\n",
              "      <td>jude elect representative average turnout voti...</td>\n",
              "      <td>2</td>\n",
              "    </tr>\n",
              "    <tr>\n",
              "      <th>1009</th>\n",
              "      <td>Please somebody tell her that CLEAN INDIA Miss...</td>\n",
              "      <td>NAG</td>\n",
              "      <td>please somebody tell clean india mission india...</td>\n",
              "      <td>0</td>\n",
              "    </tr>\n",
              "    <tr>\n",
              "      <th>1010</th>\n",
              "      <td>While most of the Indians blv tht India is a h...</td>\n",
              "      <td>NAG</td>\n",
              "      <td>indian blv tht india highly taxed country acco...</td>\n",
              "      <td>0</td>\n",
              "    </tr>\n",
              "    <tr>\n",
              "      <th>1011</th>\n",
              "      <td>WHEN YOUR TIME IS OVER I MEAN DEATH,WHEN ANGEL...</td>\n",
              "      <td>CAG</td>\n",
              "      <td>time mean death angel ask</td>\n",
              "      <td>1</td>\n",
              "    </tr>\n",
              "  </tbody>\n",
              "</table>\n",
              "</div>"
            ],
            "text/plain": [
              "                                                   text  ... tag\n",
              "1000  ..but govt want to take control over supreme c...  ...   1\n",
              "1001  http://indianexpress.com/article/india/fatwa-i...  ...   1\n",
              "1002  ... Why would this Muslim country ban people f...  ...   1\n",
              "1003  Nbcc best Infra company will declare rs 5 per ...  ...   0\n",
              "1004               INDIAN express is now BELOW STANDARD  ...   1\n",
              "1005  Indeed they are genuine and true Freedom Fight...  ...   0\n",
              "1006  but then we know where america stands today. w...  ...   1\n",
              "1007  Maulana is right,,,,,, it seems he understands...  ...   1\n",
              "1008  Jude we elect our representative. Average turn...  ...   2\n",
              "1009  Please somebody tell her that CLEAN INDIA Miss...  ...   0\n",
              "1010  While most of the Indians blv tht India is a h...  ...   0\n",
              "1011  WHEN YOUR TIME IS OVER I MEAN DEATH,WHEN ANGEL...  ...   1\n",
              "\n",
              "[12 rows x 4 columns]"
            ]
          },
          "metadata": {
            "tags": []
          },
          "execution_count": 16
        }
      ]
    },
    {
      "cell_type": "code",
      "metadata": {
        "colab": {
          "base_uri": "https://localhost:8080/",
          "height": 300
        },
        "id": "1NJsjI3JFbaT",
        "outputId": "3c419cbd-36fb-4aa8-e078-4e91ad4eae9a"
      },
      "source": [
        "# Words length\n",
        "lens = data.clean_text.str.len()\n",
        "print(lens.mean(), lens.std(), lens.max())\n",
        "lens.hist()"
      ],
      "execution_count": 17,
      "outputs": [
        {
          "output_type": "stream",
          "text": [
            "87.0390870758316 136.1073281051844 4233.0\n"
          ],
          "name": "stdout"
        },
        {
          "output_type": "execute_result",
          "data": {
            "text/plain": [
              "<matplotlib.axes._subplots.AxesSubplot at 0x7fd3bfe3c0b8>"
            ]
          },
          "metadata": {
            "tags": []
          },
          "execution_count": 17
        },
        {
          "output_type": "display_data",
          "data": {
            "image/png": "[encoded data removed]",
            "text/plain": [
              "<Figure size 432x288 with 1 Axes>"
            ]
          },
          "metadata": {
            "tags": [],
            "needs_background": "light"
          }
        }
      ]
    },
    {
      "cell_type": "code",
      "metadata": {
        "id": "YDrlXBzRNMU7"
      },
      "source": [
        "# def clean_text(text):\n",
        "#   text = re.sub(\"@\\S+\", \" \", text)\n",
        "#   text = re.sub(\"https*\\S+\", \" \", text)\n",
        "#   text = re.sub(\"#\\S+\", \" \", text)\n",
        "#   text = re.sub(\"\\'\\w+\", '', text)\n",
        "#   text = re.sub('[%s]' % re.escape(string.punctuation), ' ', text)\n",
        "#   text = re.sub(r'\\w*\\d+\\w*', '', text)\n",
        "#   text = re.sub('\\s{2,}', \" \", text)\n",
        "#   emoji_clean = re.compile(\"[\"\n",
        "#                     u\"\\U0001F600-\\U0001F64F\"  # emoticons\n",
        "#                     u\"\\U0001F300-\\U0001F5FF\"  # symbols & pictographs\n",
        "#                     u\"\\U0001F680-\\U0001F6FF\"  # transport & map symbols\n",
        "#                     u\"\\U0001F1E0-\\U0001F1FF\"  # flags (iOS)\n",
        "#                     u\"\\U00002702-\\U000027B0\"\n",
        "#                     u\"\\U000024C2-\\U0001F251\"\n",
        "#                     \"]+\", flags=re.UNICODE)\n",
        "#   text = emoji_clean.sub(r'', text)\n",
        "\n",
        "#   return text\n",
        "\n",
        "# def lemm_data(comment):\n",
        "#   lemm = WordNetLemmatizer()\n",
        "#   lemm_words = [lemm.lemmatize(word.lower()) for word in comment] \n",
        "#   return lemm_words\n",
        "\n",
        "# def remove_stopwords(text):\n",
        "#   words = [word for word in text if not word in stopwords.words()]\n",
        "#   return words \n",
        "\n",
        "# def apply_clean_data(data, tag, new_tag):\n",
        "#   data[new_tag] = data[tag].apply(lambda z: clean_text(z))\n",
        "\n",
        "# def apply_tokenization(data, tag):\n",
        "#   data[tag] = data[tag].apply(lambda z: word_tokenize(z))\n",
        "\n",
        "# def apply_lemm_data(data, tag):\n",
        "#   data[tag]=data[tag].apply(lambda z: lemm_data(z))\n",
        "\n",
        "# def apply_remove_stopwords(data, tag):\n",
        "#   data[tag]=data[tag].apply(lambda z: remove_stopwords(z))\n",
        "\n",
        "# def apply_join(data, tag):\n",
        "#   data[tag]=data[tag].apply(lambda z: \" \".join(z))\n",
        "\n",
        "\n",
        "# def apply_text_processing(data):\n",
        "#   apply_clean_data(data, 'text', 'clean_text')\n",
        "#   apply_tokenization(data, 'clean_text')\n",
        "#   apply_lemm_data(data, 'clean_text')\n",
        "#   apply_remove_stopwords(data, 'clean_text')\n",
        "#   apply_join(data, 'clean_text')"
      ],
      "execution_count": 13,
      "outputs": []
    },
    {
      "cell_type": "code",
      "metadata": {
        "id": "fT4nXGPaRflN",
        "colab": {
          "base_uri": "https://localhost:8080/"
        },
        "outputId": "de1da04b-2636-48f3-f66e-430e569bae53"
      },
      "source": [
        "import tensorflow as tf\n",
        "import tensorflow_addons as tfa\n",
        "\n",
        "gpus = tf.config.experimental.list_physical_devices('GPU')\n",
        "if gpus:\n",
        "  try:\n",
        "    for gpu in gpus:\n",
        "      tf.config.experimental.set_memory_growth(gpu, True)\n",
        "  except RuntimeError as e:\n",
        "    print(e)\n",
        "\n",
        "print(gpus)\n",
        "\n",
        "\n",
        "\n",
        "# with tf.device('/device:GPU:0'):\n",
        "#   apply_text_processing(train_frame)\n"
      ],
      "execution_count": 18,
      "outputs": [
        {
          "output_type": "stream",
          "text": [
            "[PhysicalDevice(name='/physical_device:GPU:0', device_type='GPU')]\n"
          ],
          "name": "stdout"
        }
      ]
    },
    {
      "cell_type": "code",
      "metadata": {
        "colab": {
          "base_uri": "https://localhost:8080/",
          "height": 206
        },
        "id": "jblgmsYKvGdg",
        "outputId": "34d2872b-8752-4152-800f-864637a8b6fc"
      },
      "source": [
        "test_tw_frame.head()"
      ],
      "execution_count": 43,
      "outputs": [
        {
          "output_type": "execute_result",
          "data": {
            "text/html": [
              "<div>\n",
              "<style scoped>\n",
              "    .dataframe tbody tr th:only-of-type {\n",
              "        vertical-align: middle;\n",
              "    }\n",
              "\n",
              "    .dataframe tbody tr th {\n",
              "        vertical-align: top;\n",
              "    }\n",
              "\n",
              "    .dataframe thead th {\n",
              "        text-align: right;\n",
              "    }\n",
              "</style>\n",
              "<table border=\"1\" class=\"dataframe\">\n",
              "  <thead>\n",
              "    <tr style=\"text-align: right;\">\n",
              "      <th></th>\n",
              "      <th>unique_id</th>\n",
              "      <th>text</th>\n",
              "      <th>agression_level</th>\n",
              "      <th>clean_text</th>\n",
              "      <th>tag</th>\n",
              "    </tr>\n",
              "  </thead>\n",
              "  <tbody>\n",
              "    <tr>\n",
              "      <th>0</th>\n",
              "      <td>facebook_corpus_msr_422473</td>\n",
              "      <td>So now we know. The women should be under the ...</td>\n",
              "      <td>NAG</td>\n",
              "      <td>know woman veil dumb country made think cool</td>\n",
              "      <td>0</td>\n",
              "    </tr>\n",
              "    <tr>\n",
              "      <th>1</th>\n",
              "      <td>facebook_corpus_msr_341422</td>\n",
              "      <td>गद्दारो तुमसे ही तो खतरा है अबकी बार साफ हो जाओगे</td>\n",
              "      <td>NAG</td>\n",
              "      <td>गद्दारो तुमसे ही तो खतरा है अबकी बार साफ जाओगे</td>\n",
              "      <td>0</td>\n",
              "    </tr>\n",
              "    <tr>\n",
              "      <th>2</th>\n",
              "      <td>facebook_corpus_msr_481654</td>\n",
              "      <td>Do you think markets are gonna be sideways til...</td>\n",
              "      <td>NAG</td>\n",
              "      <td>think market gon sideways result</td>\n",
              "      <td>0</td>\n",
              "    </tr>\n",
              "    <tr>\n",
              "      <th>3</th>\n",
              "      <td>facebook_corpus_msr_427757</td>\n",
              "      <td>Jago Urjut Jago....\\nSave common people from\\n...</td>\n",
              "      <td>NAG</td>\n",
              "      <td>jago urjut jago save common people reducing re...</td>\n",
              "      <td>0</td>\n",
              "    </tr>\n",
              "    <tr>\n",
              "      <th>4</th>\n",
              "      <td>facebook_corpus_msr_469689</td>\n",
              "      <td>The point of demonetization is to stop use of ...</td>\n",
              "      <td>NAG</td>\n",
              "      <td>point demonetization stop use cash way india i...</td>\n",
              "      <td>0</td>\n",
              "    </tr>\n",
              "  </tbody>\n",
              "</table>\n",
              "</div>"
            ],
            "text/plain": [
              "                    unique_id  ... tag\n",
              "0  facebook_corpus_msr_422473  ...   0\n",
              "1  facebook_corpus_msr_341422  ...   0\n",
              "2  facebook_corpus_msr_481654  ...   0\n",
              "3  facebook_corpus_msr_427757  ...   0\n",
              "4  facebook_corpus_msr_469689  ...   0\n",
              "\n",
              "[5 rows x 5 columns]"
            ]
          },
          "metadata": {
            "tags": []
          },
          "execution_count": 43
        }
      ]
    },
    {
      "cell_type": "code",
      "metadata": {
        "colab": {
          "base_uri": "https://localhost:8080/",
          "height": 37
        },
        "id": "RytgRgaKg1tg",
        "outputId": "708b44db-119e-4afc-b836-4d23501a9546"
      },
      "source": [
        "val_frame.text.iloc[3]"
      ],
      "execution_count": 41,
      "outputs": [
        {
          "output_type": "execute_result",
          "data": {
            "application/vnd.google.colaboratory.intrinsic+json": {
              "type": "string"
            },
            "text/plain": [
              "'Modi ho ya Manmohan singh saala yeh log kuch ny karta hai sirf vote ka lia 56 ka seena dikahata hai'"
            ]
          },
          "metadata": {
            "tags": []
          },
          "execution_count": 41
        }
      ]
    },
    {
      "cell_type": "code",
      "metadata": {
        "id": "Y85J7zy7zdxv"
      },
      "source": [
        "# apply_text_processing(val_frame)\n",
        "# val_frame.clean_text.iloc[5]"
      ],
      "execution_count": 16,
      "outputs": []
    },
    {
      "cell_type": "code",
      "metadata": {
        "id": "0ICjEliYD0fL"
      },
      "source": [
        "# add_columns_name(test_fb_frame)\n",
        "# add_columns_name(test_tw_frame)\n",
        "# #apply_text_processing(test_fb_frame)\n",
        "# test_fb_frame"
      ],
      "execution_count": 17,
      "outputs": []
    },
    {
      "cell_type": "code",
      "metadata": {
        "id": "GR1MeW5AESIv"
      },
      "source": [
        "# apply_text_processing(test_tw_frame)\n",
        "# test_tw_frame"
      ],
      "execution_count": 18,
      "outputs": []
    },
    {
      "cell_type": "code",
      "metadata": {
        "id": "rhP5SnbbzoHM"
      },
      "source": [
        "# def create_tag(data):\n",
        "#     data['tag'] = np.where(data['agression_level'] == 'NAG', 0, 2)\n",
        "#     data['tag'] = np.where(data['agression_level'] == 'CAG', 1, data.tag)"
      ],
      "execution_count": 19,
      "outputs": []
    },
    {
      "cell_type": "code",
      "metadata": {
        "id": "8LwixzjyAdgs"
      },
      "source": [
        "# create_tag(train_frame)\n",
        "# create_tag(val_frame)\n",
        "# create_tag(test_fb_frame)\n",
        "# create_tag(test_tw_frame)\n",
        "# val_frame.head(5)"
      ],
      "execution_count": 20,
      "outputs": []
    },
    {
      "cell_type": "code",
      "metadata": {
        "id": "wJuisevUoEJt"
      },
      "source": [
        "val_frame.head()"
      ],
      "execution_count": null,
      "outputs": []
    },
    {
      "cell_type": "code",
      "metadata": {
        "id": "5IAA000dBdLi"
      },
      "source": [
        "from tensorflow.keras.models import Sequential, Model\n",
        "from tensorflow.keras.layers import LSTM\n",
        "from tensorflow.keras.preprocessing.text import Tokenizer\n",
        "from tensorflow.keras.preprocessing.sequence import pad_sequences\n",
        "from tensorflow.keras.layers import Dense, Embedding, Dropout, Activation, Input, SpatialDropout1D, concatenate\n",
        "from tensorflow.keras.layers import Bidirectional, GlobalMaxPool1D, AveragePooling1D, Conv1D, GlobalAveragePooling1D, GlobalMaxPooling1D\n",
        "from tensorflow.keras import initializers, regularizers, constraints, optimizers, layers\n",
        "from tensorflow.keras.callbacks import EarlyStopping, ModelCheckpoint\n",
        "from tensorflow.keras.preprocessing import text, sequence\n",
        "\n",
        "\n",
        "\n",
        "max_features = 20000\n",
        "maxlen = 250\n",
        "\n",
        "data = pd.concat([train_frame, val_frame])\n",
        "data_train = pd.concat([train_frame, test_fb_frame])\n",
        "data_test = pd.concat([test_tw_frame, val_frame])\n",
        "\n",
        "fit_list = train_frame.text.fillna('other').values\n",
        "list_sentences_train = train_frame.clean_text.fillna('other').values\n",
        "list_sentences_val = val_frame.clean_text.fillna('other').values\n",
        "list_sentences_test_fb = test_fb_frame.clean_text.fillna('other').values\n",
        "lis_sentences_test_tw = test_tw_frame.clean_text.fillna('other').values\n",
        "\n"
      ],
      "execution_count": 22,
      "outputs": []
    },
    {
      "cell_type": "code",
      "metadata": {
        "colab": {
          "base_uri": "https://localhost:8080/"
        },
        "id": "VKTfMLKiFHNa",
        "outputId": "bb7668b1-e836-4e01-c171-6888f1a85860"
      },
      "source": [
        "from tensorflow.keras.utils import to_categorical\n",
        "\n",
        "Y_train = to_categorical(train_frame.tag.values, num_classes=3)\n",
        "Y_val = to_categorical(val_frame.tag.values)\n",
        "Y_test_fb = to_categorical(test_fb_frame.tag.values, num_classes=3)\n",
        "Y_test_tw = to_categorical(test_tw_frame.tag.values, num_classes=3)\n",
        "\n",
        "print(Y_train.shape)"
      ],
      "execution_count": 23,
      "outputs": [
        {
          "output_type": "stream",
          "text": [
            "(11998, 3)\n"
          ],
          "name": "stdout"
        }
      ]
    },
    {
      "cell_type": "code",
      "metadata": {
        "id": "iE0h5buuGQiu"
      },
      "source": [
        "tokenizer = text.Tokenizer(num_words=max_features)\n",
        "tokenizer.fit_on_texts(list(fit_list))\n",
        "\n",
        "list_tokenized_train = tokenizer.texts_to_sequences(list_sentences_train)\n",
        "list_tokenized_val = tokenizer.texts_to_sequences(list_sentences_val)\n",
        "\n",
        "list_tokenized_test_fb = tokenizer.texts_to_sequences(list_sentences_test_fb)\n",
        "list_tokenized_test_tw = tokenizer.texts_to_sequences(lis_sentences_test_tw)\n",
        "\n",
        "X_train = sequence.pad_sequences(list_tokenized_train, maxlen=maxlen)\n",
        "X_val = sequence.pad_sequences(list_tokenized_val, maxlen=maxlen)\n",
        "X_te_fb = sequence.pad_sequences(list_tokenized_test_fb, maxlen=maxlen)\n",
        "X_te_tw = sequence.pad_sequences(list_tokenized_test_tw, maxlen=maxlen)"
      ],
      "execution_count": 24,
      "outputs": []
    },
    {
      "cell_type": "code",
      "metadata": {
        "id": "TLV-PSX2KyCR"
      },
      "source": [
        "!wget http://nlp.stanford.edu/data/glove.6B.zip"
      ],
      "execution_count": null,
      "outputs": []
    },
    {
      "cell_type": "code",
      "metadata": {
        "id": "tfcA40P7_L7F"
      },
      "source": [
        "!unzip glove*.zip"
      ],
      "execution_count": null,
      "outputs": []
    },
    {
      "cell_type": "code",
      "metadata": {
        "id": "tDHL1fK7_hB3"
      },
      "source": [
        "!ls\n",
        "!pwd"
      ],
      "execution_count": null,
      "outputs": []
    },
    {
      "cell_type": "code",
      "metadata": {
        "id": "uhqTUArA_iEG"
      },
      "source": [
        "print('Indexing word vectors.')\n",
        "\n",
        "embeddings_index = {}\n",
        "f = open('/content/glove.6B.50d.txt', encoding='utf-8')\n",
        "for line in f:\n",
        "    values = line.split()\n",
        "    word = values[0]\n",
        "    coefs = np.asarray(values[1:], dtype='float32')\n",
        "    embeddings_index[word] = coefs\n",
        "f.close()\n",
        "\n",
        "print('Found %s word vectors.' % len(embeddings_index))\n"
      ],
      "execution_count": null,
      "outputs": []
    },
    {
      "cell_type": "code",
      "metadata": {
        "id": "YQxkDod0_twH"
      },
      "source": [
        "import pickle\n",
        "pickle.dump({'embeddings_index' : embeddings_index } , open('/content/drive/MyDrive/SII/embeddings', 'wb'))"
      ],
      "execution_count": 28,
      "outputs": []
    },
    {
      "cell_type": "code",
      "metadata": {
        "colab": {
          "base_uri": "https://localhost:8080/"
        },
        "id": "flhGscb_FlOX",
        "outputId": "8a4a130c-3ceb-4e3e-b459-c856a6a506df"
      },
      "source": [
        "embed_size = 50\n",
        "\n",
        "\n",
        "def get_coefs(word,*arr): return word, np.asarray(arr, dtype='float32')\n",
        "embeddings_index = dict(get_coefs(*o.strip().split()) for o in open('/content/glove.6B.50d.txt'))\n",
        "\n",
        "\n",
        "all_embs = np.stack(embeddings_index.values())\n",
        "emb_mean,emb_std = all_embs.mean(), all_embs.std()\n",
        "emb_mean,emb_std\n",
        "\n",
        "\n",
        "\n",
        "word_index = tokenizer.word_index\n",
        "nb_words = min(max_features, len(word_index))\n",
        "embedding_matrix = np.random.normal(emb_mean, emb_std, (nb_words, embed_size))\n",
        "for word, i in word_index.items():\n",
        "    if i >= max_features: continue\n",
        "    embedding_vector = embeddings_index.get(word)\n",
        "    if embedding_vector is not None: embedding_matrix[i] = embedding_vector\n",
        "\n",
        "\n",
        "\n"
      ],
      "execution_count": 48,
      "outputs": [
        {
          "output_type": "stream",
          "text": [
            "/usr/local/lib/python3.6/dist-packages/IPython/core/interactiveshell.py:2822: FutureWarning: arrays to stack must be passed as a \"sequence\" type such as list or tuple. Support for non-sequence iterables such as generators is deprecated as of NumPy 1.16 and will raise an error in the future.\n",
            "  if self.run_code(code, result):\n"
          ],
          "name": "stderr"
        }
      ]
    },
    {
      "cell_type": "code",
      "metadata": {
        "colab": {
          "base_uri": "https://localhost:8080/"
        },
        "id": "6nJPNPjRBFL7",
        "outputId": "6b92b1b7-b6cd-4c0d-d1cc-b12189835d0c"
      },
      "source": [
        "def get_model_1():\n",
        "    inp = Input(shape=(maxlen, ))\n",
        "    x = Embedding(max_features, embed_size, weights=[embedding_matrix], trainable = False)(inp)\n",
        "    x = Bidirectional(LSTM(50, return_sequences=True))(x)\n",
        "    x = GlobalMaxPool1D()(x)\n",
        "    x = Dropout(0.25)(x)\n",
        "    x = Dense(50, activation=\"relu\")(x)\n",
        "    x = Dropout(0.1)(x)\n",
        "    x = Dense(3, activation=\"softmax\")(x)\n",
        "    model = Model(inputs=inp, outputs=x)\n",
        "    model.compile(loss='binary_crossentropy',\n",
        "                  optimizer=tf.keras.optimizers.Adam(learning_rate=1e-3),\n",
        "                  metrics=['accuracy', tf.keras.metrics.Recall(), tf.keras.metrics.Precision(), tfa.metrics.F1Score(num_classes=3, average='macro')])\n",
        "\n",
        "\n",
        "    return model\n",
        "\n",
        "def get_model_2():\n",
        "  embed_size = 50\n",
        "  model = Sequential()\n",
        "  model.add(Embedding(max_features, embed_size, weights=[embedding_matrix], trainable=False))\n",
        "  model.add(LSTM(units = 64, dropout = 0.2, recurrent_dropout = 0.2,return_sequences=True))\n",
        "  model.add(LSTM(units = 64, dropout = 0.2, recurrent_dropout = 0.2))\n",
        "  model.add(Dropout(0.1))\n",
        "\n",
        "  model.add(Dense(units = 3, activation = 'softmax'))\n",
        "  \n",
        "  model.compile(loss='binary_crossentropy',\n",
        "                  optimizer=tf.keras.optimizers.Adam(learning_rate=1e-3),\n",
        "                  metrics=['accuracy', tf.keras.metrics.Recall(), tf.keras.metrics.Precision(), tfa.metrics.F1Score(num_classes=3, average='macro')])\n",
        "  \n",
        "  return model\n",
        "\n",
        "\n",
        "def get_model_3():\n",
        "\n",
        "  inp = Input(shape=(maxlen,))\n",
        "\n",
        "  x = Embedding(max_features, embed_size, weights=[embedding_matrix], trainable=False)(inp)\n",
        "  x = SpatialDropout1D(0.35)(x)\n",
        "\n",
        "  x = Bidirectional(LSTM(128, return_sequences=True, dropout=0.15, recurrent_dropout=0.15))(x)\n",
        "  x = Conv1D(64, kernel_size=3, padding='valid', kernel_initializer='glorot_uniform')(x)\n",
        "\n",
        "  avg_pool = GlobalAveragePooling1D()(x)\n",
        "  max_pool = GlobalMaxPooling1D()(x)\n",
        "  x = concatenate([avg_pool, max_pool])\n",
        "\n",
        "  out = Dense(3, activation='softmax')(x)\n",
        "\n",
        "  model = Model(inp, out)\n",
        "\n",
        "\n",
        "  model.compile(loss='binary_crossentropy',\n",
        "                  optimizer=tf.keras.optimizers.Adam(learning_rate=1e-3),\n",
        "                  metrics=['accuracy', tf.keras.metrics.Recall(), tf.keras.metrics.Precision(), tfa.metrics.F1Score(num_classes=3, average='macro')])\n",
        "\n",
        "  return model\n",
        "\n",
        "get_model_2().summary()"
      ],
      "execution_count": 50,
      "outputs": [
        {
          "output_type": "stream",
          "text": [
            "WARNING:tensorflow:Layer lstm_13 will not use cuDNN kernel since it doesn't meet the cuDNN kernel criteria. It will use generic GPU kernel as fallback when running on GPU\n",
            "WARNING:tensorflow:Layer lstm_14 will not use cuDNN kernel since it doesn't meet the cuDNN kernel criteria. It will use generic GPU kernel as fallback when running on GPU\n",
            "Model: \"sequential_5\"\n",
            "_________________________________________________________________\n",
            "Layer (type)                 Output Shape              Param #   \n",
            "=================================================================\n",
            "embedding_10 (Embedding)     (None, None, 50)          1000000   \n",
            "_________________________________________________________________\n",
            "lstm_13 (LSTM)               (None, None, 64)          29440     \n",
            "_________________________________________________________________\n",
            "lstm_14 (LSTM)               (None, 64)                33024     \n",
            "_________________________________________________________________\n",
            "dropout_10 (Dropout)         (None, 64)                0         \n",
            "_________________________________________________________________\n",
            "dense_14 (Dense)             (None, 3)                 195       \n",
            "=================================================================\n",
            "Total params: 1,062,659\n",
            "Trainable params: 62,659\n",
            "Non-trainable params: 1,000,000\n",
            "_________________________________________________________________\n"
          ],
          "name": "stdout"
        }
      ]
    },
    {
      "cell_type": "code",
      "metadata": {
        "id": "7_MUVpVeI4uT"
      },
      "source": [
        "import sklearn\n",
        "from sklearn.model_selection import train_test_split\n",
        "\n",
        "model_1 = get_model_2()\n",
        "batch_size = 128\n",
        "epochs = 10\n",
        "\n",
        "# X_t, X_v,Y_t, Y_v = train_test_split(X_train, Y_train, test_size=0.33)\n",
        "# file_path=\"weights_base.best.hdf5\"\n",
        "# checkpoint = ModelCheckpoint(file_path, monitor='val_loss', verbose=1, save_best_only=True, mode='min')\n",
        "\n",
        "\n",
        "early = EarlyStopping(monitor=\"val_loss\", mode=\"min\", patience=10)\n",
        "\n",
        "\n",
        "callbacks_list = [early] #early\n",
        "\n",
        "with tf.device('/device:GPU:0'):\n",
        "  history = model_1.fit(X_train, Y_train, validation_data=(X_val, Y_val), batch_size=batch_size, epochs=epochs, callbacks=callbacks_list)\n"
      ],
      "execution_count": null,
      "outputs": []
    },
    {
      "cell_type": "code",
      "metadata": {
        "id": "voCVYLHSJxR7"
      },
      "source": [
        "import pickle\n",
        "with open(WORKDIR + \"/drive/MyDrive/SII/train_lstm_v5\", 'wb') as file_pi:\n",
        "  pickle.dump(history.history, file_pi)"
      ],
      "execution_count": 32,
      "outputs": []
    },
    {
      "cell_type": "code",
      "metadata": {
        "id": "T6-rXRsBKGK1"
      },
      "source": [
        "y_test = model.evaluate(X_te_fb, Y_test_fb, batch_size=64)\n"
      ],
      "execution_count": null,
      "outputs": []
    },
    {
      "cell_type": "code",
      "metadata": {
        "id": "dzaPqZxP6xd0"
      },
      "source": [
        "model.save(\"/content/drive/MyDrive/SII/LSTM_model_glove_final.h5\")\n"
      ],
      "execution_count": 34,
      "outputs": []
    },
    {
      "cell_type": "code",
      "metadata": {
        "id": "pKmoqKX3Kij9"
      },
      "source": [
        "y_test = model.evaluate(X_te_fb, Y_test_fb, batch_size=64)"
      ],
      "execution_count": null,
      "outputs": []
    },
    {
      "cell_type": "code",
      "metadata": {
        "colab": {
          "base_uri": "https://localhost:8080/"
        },
        "id": "XECS6Jvjj8JJ",
        "outputId": "525cebef-0ca1-46c1-9a9c-dc664e6b7f74"
      },
      "source": [
        "get_model_2().summary()"
      ],
      "execution_count": 45,
      "outputs": [
        {
          "output_type": "stream",
          "text": [
            "WARNING:tensorflow:Layer lstm_9 will not use cuDNN kernel since it doesn't meet the cuDNN kernel criteria. It will use generic GPU kernel as fallback when running on GPU\n",
            "WARNING:tensorflow:Layer lstm_10 will not use cuDNN kernel since it doesn't meet the cuDNN kernel criteria. It will use generic GPU kernel as fallback when running on GPU\n",
            "Model: \"sequential_2\"\n",
            "_________________________________________________________________\n",
            "Layer (type)                 Output Shape              Param #   \n",
            "=================================================================\n",
            "embedding_7 (Embedding)      (None, None, 100)         2000000   \n",
            "_________________________________________________________________\n",
            "lstm_9 (LSTM)                (None, None, 128)         117248    \n",
            "_________________________________________________________________\n",
            "lstm_10 (LSTM)               (None, 128)               131584    \n",
            "_________________________________________________________________\n",
            "dense_12 (Dense)             (None, 3)                 387       \n",
            "=================================================================\n",
            "Total params: 2,249,219\n",
            "Trainable params: 249,219\n",
            "Non-trainable params: 2,000,000\n",
            "_________________________________________________________________\n"
          ],
          "name": "stdout"
        }
      ]
    }
  ]
}