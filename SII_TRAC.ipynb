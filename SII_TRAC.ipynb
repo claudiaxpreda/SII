{
  "nbformat": 4,
  "nbformat_minor": 0,
  "metadata": {
    "colab": {
      "name": "SII-TRAC.ipynb",
      "provenance": [],
      "collapsed_sections": [],
      "mount_file_id": "1v742ShdmdWSFWVTd9XNIdIAeFNOzvCep",
      "authorship_tag": "ABX9TyMGlPHYF7wiky11Ay08p+o5",
      "include_colab_link": true
    },
    "kernelspec": {
      "name": "python3",
      "display_name": "Python 3"
    },
    "accelerator": "GPU"
  },
  "cells": [
    {
      "cell_type": "markdown",
      "metadata": {
        "id": "view-in-github",
        "colab_type": "text"
      },
      "source": [
        "<a href=\"https://colab.research.google.com/github/claudiaxpreda/SII/blob/main/SII_TRAC.ipynb\" target=\"_parent\"><img src=\"https://colab.research.google.com/assets/colab-badge.svg\" alt=\"Open In Colab\"/></a>"
      ]
    },
    {
      "cell_type": "code",
      "metadata": {
        "id": "H1ldMktQXkQF"
      },
      "source": [
        "import os\n",
        "import re\n",
        "import pandas as pd\n",
        "import numpy as np\n",
        "import string\n",
        "import nltk\n",
        "\n",
        "\n",
        "from matplotlib import pyplot as plt\n",
        "%matplotlib inline\n",
        "import seaborn as sns"
      ],
      "execution_count": null,
      "outputs": []
    },
    {
      "cell_type": "code",
      "metadata": {
        "colab": {
          "base_uri": "https://localhost:8080/"
        },
        "id": "kMYVO4QxVgIk",
        "outputId": "9bb9a345-a821-4b54-c95f-d2090b42d289"
      },
      "source": [
        "nltk.download('punkt')\n",
        "nltk.download('wordnet')\n",
        "nltk.download('stopwords')"
      ],
      "execution_count": null,
      "outputs": [
        {
          "output_type": "stream",
          "text": [
            "[nltk_data] Downloading package punkt to /root/nltk_data...\n",
            "[nltk_data]   Unzipping tokenizers/punkt.zip.\n",
            "[nltk_data] Downloading package wordnet to /root/nltk_data...\n",
            "[nltk_data]   Unzipping corpora/wordnet.zip.\n",
            "[nltk_data] Downloading package stopwords to /root/nltk_data...\n",
            "[nltk_data]   Unzipping corpora/stopwords.zip.\n"
          ],
          "name": "stdout"
        },
        {
          "output_type": "execute_result",
          "data": {
            "text/plain": [
              "True"
            ]
          },
          "metadata": {
            "tags": []
          },
          "execution_count": 2
        }
      ]
    },
    {
      "cell_type": "code",
      "metadata": {
        "id": "uAzMTv9KW-Dk"
      },
      "source": [
        "from nltk.tokenize import word_tokenize\n",
        "from nltk.stem import WordNetLemmatizer\n",
        "from nltk.corpus import stopwords"
      ],
      "execution_count": null,
      "outputs": []
    },
    {
      "cell_type": "code",
      "metadata": {
        "id": "cQc1sYLOTgg4"
      },
      "source": [
        "WORKDIR = os.getcwd()\n",
        "\n",
        "DATASET_DIR = 'trac1-dataset/'\n",
        "DATASET_DIR2 = 'trac2-shared-task-dataset/release_files'\n",
        "\n",
        "TRAIN_FILE = 'agr_en_train.csv'\n",
        "VAL_FILE = 'agr_en_dev.csv'\n",
        "TEST_TW_FILE = 'agr_en_tw_gold.csv'\n",
        "TEST_FB_FILE = 'agr_en_fb_gold.csv'\n",
        "def get_train_files(name):\n",
        "  return WORKDIR + '/drive/MyDrive/SII/' + DATASET_DIR + 'english/' + name\n",
        "\n",
        "def get_test_files(name): \n",
        "  return WORKDIR + '/drive/MyDrive/SII/' + DATASET_DIR + 'trac-gold-set/' + name"
      ],
      "execution_count": null,
      "outputs": []
    },
    {
      "cell_type": "code",
      "metadata": {
        "id": "bIGAOPphXnjw"
      },
      "source": [
        "TRAIN = 1\n",
        "TEST = 2\n",
        "\n",
        "def get_data(name, type):\n",
        "  if type == TRAIN:\n",
        "    return pd.read_csv(get_train_files(name))\n",
        "  else:\n",
        "    return pd.read_csv(get_test_files(name))"
      ],
      "execution_count": null,
      "outputs": []
    },
    {
      "cell_type": "code",
      "metadata": {
        "colab": {
          "base_uri": "https://localhost:8080/"
        },
        "id": "D0RpQQibXngn",
        "outputId": "bfe30a1a-12df-432e-f61e-eb2552653853"
      },
      "source": [
        "train_frame = get_data(TRAIN_FILE, TRAIN)\n",
        "val_frame = get_data(VAL_FILE, TRAIN)\n",
        "test_fb_frame = get_data(TEST_FB_FILE, TEST)\n",
        "test_tw_frame = get_data(TEST_TW_FILE, TEST)\n",
        "\n",
        "print(\"Train set size: \" + str(len(train_frame)))\n",
        "print(\"Val set size: \" + str(len(val_frame)))\n",
        "print(\"Test facebook set size: \" + str(len(test_fb_frame)))\n",
        "print(\"Test twitter set size: \" + str(len(test_tw_frame)))"
      ],
      "execution_count": null,
      "outputs": [
        {
          "output_type": "stream",
          "text": [
            "Train set size: 11998\n",
            "Val set size: 3000\n",
            "Test facebook set size: 915\n",
            "Test twitter set size: 1256\n"
          ],
          "name": "stdout"
        }
      ]
    },
    {
      "cell_type": "code",
      "metadata": {
        "colab": {
          "base_uri": "https://localhost:8080/",
          "height": 37
        },
        "id": "nUwirMH7fGJF",
        "outputId": "0be243e4-7c11-472c-d7f3-4fa0bea64ec4"
      },
      "source": [
        "get_train_files(TRAIN_FILE)"
      ],
      "execution_count": null,
      "outputs": [
        {
          "output_type": "execute_result",
          "data": {
            "application/vnd.google.colaboratory.intrinsic+json": {
              "type": "string"
            },
            "text/plain": [
              "'/content/drive/MyDrive/SII/trac1-dataset/english/agr_en_train.csv'"
            ]
          },
          "metadata": {
            "tags": []
          },
          "execution_count": 49
        }
      ]
    },
    {
      "cell_type": "code",
      "metadata": {
        "id": "w4cgoXunbDOt"
      },
      "source": [
        "def add_columns_name(data):\n",
        "  data.columns = ['unique_id', 'text', 'agression_level']\n",
        "\n",
        "add_columns_name(train_frame)\n",
        "add_columns_name(val_frame)\n",
        "add_columns_name(test_fb_frame)\n",
        "add_columns_name(test_tw_frame)"
      ],
      "execution_count": null,
      "outputs": []
    },
    {
      "cell_type": "code",
      "metadata": {
        "colab": {
          "base_uri": "https://localhost:8080/"
        },
        "id": "deGdC5Sba5rE",
        "outputId": "2ad4bd41-beb9-4500-9091-cee9013a9651"
      },
      "source": [
        "print(\"--- TRAIN, VAL\")\n",
        "print(\"NAG  {}, {}\".format(\n",
        "    np.sum(train_frame.agression_level == 'NAG'),\n",
        "    np.sum(val_frame.agression_level == 'NAG')))\n",
        "\n",
        "\n",
        "print(\"OAG  {}, {}\".format(\n",
        "    np.sum(train_frame.agression_level == 'OAG'),\n",
        "    np.sum(val_frame.agression_level == 'OAG')))\n",
        "\n",
        "\n",
        "print(\"CAG  {}, {}\".format(\n",
        "    np.sum(train_frame.agression_level == 'CAG'),\n",
        "    np.sum(val_frame.agression_level == 'CAG')))"
      ],
      "execution_count": null,
      "outputs": [
        {
          "output_type": "stream",
          "text": [
            "--- TRAIN, VAL\n",
            "NAG  5051, 1233\n",
            "OAG  2707, 711\n",
            "CAG  4240, 1056\n"
          ],
          "name": "stdout"
        }
      ]
    },
    {
      "cell_type": "code",
      "metadata": {
        "id": "cDu9YRGhihYG"
      },
      "source": [
        "data = pd.concat([train_frame, val_frame])"
      ],
      "execution_count": null,
      "outputs": []
    },
    {
      "cell_type": "code",
      "metadata": {
        "colab": {
          "base_uri": "https://localhost:8080/",
          "height": 282
        },
        "id": "fU9zheuEa5n7",
        "outputId": "4f39af2c-0ef5-417a-c5a3-d1ecccbcf4c8"
      },
      "source": [
        "# Words length\n",
        "lens = data.text.str.len()\n",
        "lens.mean(), lens.std(), lens.max()\n",
        "lens.hist()"
      ],
      "execution_count": null,
      "outputs": [
        {
          "output_type": "execute_result",
          "data": {
            "text/plain": [
              "<matplotlib.axes._subplots.AxesSubplot at 0x7f3251b97828>"
            ]
          },
          "metadata": {
            "tags": []
          },
          "execution_count": 11
        },
        {
          "output_type": "display_data",
          "data": {
            "image/png": "[encoded data removed]",
            "text/plain": [
              "<Figure size 432x288 with 1 Axes>"
            ]
          },
          "metadata": {
            "tags": [],
            "needs_background": "light"
          }
        }
      ]
    },
    {
      "cell_type": "code",
      "metadata": {
        "colab": {
          "base_uri": "https://localhost:8080/",
          "height": 426
        },
        "id": "AoQGOF2FDmyP",
        "outputId": "d11b7dbe-8f38-492d-9ac9-0be6f7f5359b"
      },
      "source": [
        "data_analyze = data.drop([\"unique_id\"], axis=1)\n",
        "data_analyze.iloc[1000:1012]\n"
      ],
      "execution_count": null,
      "outputs": [
        {
          "output_type": "execute_result",
          "data": {
            "text/html": [
              "<div>\n",
              "<style scoped>\n",
              "    .dataframe tbody tr th:only-of-type {\n",
              "        vertical-align: middle;\n",
              "    }\n",
              "\n",
              "    .dataframe tbody tr th {\n",
              "        vertical-align: top;\n",
              "    }\n",
              "\n",
              "    .dataframe thead th {\n",
              "        text-align: right;\n",
              "    }\n",
              "</style>\n",
              "<table border=\"1\" class=\"dataframe\">\n",
              "  <thead>\n",
              "    <tr style=\"text-align: right;\">\n",
              "      <th></th>\n",
              "      <th>text</th>\n",
              "      <th>agression_level</th>\n",
              "    </tr>\n",
              "  </thead>\n",
              "  <tbody>\n",
              "    <tr>\n",
              "      <th>1000</th>\n",
              "      <td>..but govt want to take control over supreme c...</td>\n",
              "      <td>CAG</td>\n",
              "    </tr>\n",
              "    <tr>\n",
              "      <th>1001</th>\n",
              "      <td>http://indianexpress.com/article/india/fatwa-i...</td>\n",
              "      <td>CAG</td>\n",
              "    </tr>\n",
              "    <tr>\n",
              "      <th>1002</th>\n",
              "      <td>... Why would this Muslim country ban people f...</td>\n",
              "      <td>CAG</td>\n",
              "    </tr>\n",
              "    <tr>\n",
              "      <th>1003</th>\n",
              "      <td>Nbcc best Infra company will declare rs 5 per ...</td>\n",
              "      <td>NAG</td>\n",
              "    </tr>\n",
              "    <tr>\n",
              "      <th>1004</th>\n",
              "      <td>INDIAN express is now BELOW STANDARD</td>\n",
              "      <td>CAG</td>\n",
              "    </tr>\n",
              "    <tr>\n",
              "      <th>1005</th>\n",
              "      <td>Indeed they are genuine and true Freedom Fight...</td>\n",
              "      <td>NAG</td>\n",
              "    </tr>\n",
              "    <tr>\n",
              "      <th>1006</th>\n",
              "      <td>but then we know where america stands today. w...</td>\n",
              "      <td>CAG</td>\n",
              "    </tr>\n",
              "    <tr>\n",
              "      <th>1007</th>\n",
              "      <td>Maulana is right,,,,,, it seems he understands...</td>\n",
              "      <td>CAG</td>\n",
              "    </tr>\n",
              "    <tr>\n",
              "      <th>1008</th>\n",
              "      <td>Jude we elect our representative. Average turn...</td>\n",
              "      <td>OAG</td>\n",
              "    </tr>\n",
              "    <tr>\n",
              "      <th>1009</th>\n",
              "      <td>Please somebody tell her that CLEAN INDIA Miss...</td>\n",
              "      <td>NAG</td>\n",
              "    </tr>\n",
              "    <tr>\n",
              "      <th>1010</th>\n",
              "      <td>While most of the Indians blv tht India is a h...</td>\n",
              "      <td>NAG</td>\n",
              "    </tr>\n",
              "    <tr>\n",
              "      <th>1011</th>\n",
              "      <td>WHEN YOUR TIME IS OVER I MEAN DEATH,WHEN ANGEL...</td>\n",
              "      <td>CAG</td>\n",
              "    </tr>\n",
              "  </tbody>\n",
              "</table>\n",
              "</div>"
            ],
            "text/plain": [
              "                                                   text agression_level\n",
              "1000  ..but govt want to take control over supreme c...             CAG\n",
              "1001  http://indianexpress.com/article/india/fatwa-i...             CAG\n",
              "1002  ... Why would this Muslim country ban people f...             CAG\n",
              "1003  Nbcc best Infra company will declare rs 5 per ...             NAG\n",
              "1004               INDIAN express is now BELOW STANDARD             CAG\n",
              "1005  Indeed they are genuine and true Freedom Fight...             NAG\n",
              "1006  but then we know where america stands today. w...             CAG\n",
              "1007  Maulana is right,,,,,, it seems he understands...             CAG\n",
              "1008  Jude we elect our representative. Average turn...             OAG\n",
              "1009  Please somebody tell her that CLEAN INDIA Miss...             NAG\n",
              "1010  While most of the Indians blv tht India is a h...             NAG\n",
              "1011  WHEN YOUR TIME IS OVER I MEAN DEATH,WHEN ANGEL...             CAG"
            ]
          },
          "metadata": {
            "tags": []
          },
          "execution_count": 12
        }
      ]
    },
    {
      "cell_type": "code",
      "metadata": {
        "colab": {
          "base_uri": "https://localhost:8080/"
        },
        "id": "1NJsjI3JFbaT",
        "outputId": "24d031ba-04eb-465f-f93c-b4b3a38ac9c2"
      },
      "source": [
        "print(data_analyze.text.iloc[100])"
      ],
      "execution_count": null,
      "outputs": [
        {
          "output_type": "stream",
          "text": [
            "r u guys from dis university? Gaurav Seth PJ Anshu Mishra Shubham Singh\n"
          ],
          "name": "stdout"
        }
      ]
    },
    {
      "cell_type": "code",
      "metadata": {
        "id": "YDrlXBzRNMU7"
      },
      "source": [
        "def clean_text(text):\n",
        "  text = re.sub(\"@\\S+\", \" \", text)\n",
        "  text = re.sub(\"https*\\S+\", \" \", text)\n",
        "  text = re.sub(\"#\\S+\", \" \", text)\n",
        "  text = re.sub(\"\\'\\w+\", '', text)\n",
        "  text = re.sub('[%s]' % re.escape(string.punctuation), ' ', text)\n",
        "  text = re.sub(r'\\w*\\d+\\w*', '', text)\n",
        "  text = re.sub('\\s{2,}', \" \", text)\n",
        "  emoji_clean = re.compile(\"[\"\n",
        "                    u\"\\U0001F600-\\U0001F64F\"  # emoticons\n",
        "                    u\"\\U0001F300-\\U0001F5FF\"  # symbols & pictographs\n",
        "                    u\"\\U0001F680-\\U0001F6FF\"  # transport & map symbols\n",
        "                    u\"\\U0001F1E0-\\U0001F1FF\"  # flags (iOS)\n",
        "                    u\"\\U00002702-\\U000027B0\"\n",
        "                    u\"\\U000024C2-\\U0001F251\"\n",
        "                    \"]+\", flags=re.UNICODE)\n",
        "  text = emoji_clean.sub(r'', text)\n",
        "\n",
        "  return text\n",
        "\n",
        "def lemm_data(comment):\n",
        "  lemm = WordNetLemmatizer()\n",
        "  lemm_words = [lemm.lemmatize(word.lower()) for word in comment] \n",
        "  return lemm_words\n",
        "\n",
        "def remove_stopwords(text):\n",
        "  words = [word for word in text if not word in stopwords.words()]\n",
        "  return words \n",
        "\n",
        "def apply_clean_data(data, tag, new_tag):\n",
        "  data[new_tag] = data[tag].apply(lambda z: clean_text(z))\n",
        "\n",
        "def apply_tokenization(data, tag):\n",
        "  data[tag] = data[tag].apply(lambda z: word_tokenize(z))\n",
        "\n",
        "def apply_lemm_data(data, tag):\n",
        "  data[tag]=data[tag].apply(lambda z: lemm_data(z))\n",
        "\n",
        "def apply_remove_stopwords(data, tag):\n",
        "  data[tag]=data[tag].apply(lambda z: remove_stopwords(z))\n",
        "\n",
        "def apply_join(data, tag):\n",
        "  data[tag]=data[tag].apply(lambda z: \" \".join(z))\n",
        "\n",
        "\n",
        "def apply_text_processing(data):\n",
        "  apply_clean_data(data, 'text', 'clean_text')\n",
        "  apply_tokenization(data, 'clean_text')\n",
        "  apply_lemm_data(data, 'clean_text')\n",
        "  apply_remove_stopwords(data, 'clean_text')\n",
        "  apply_join(data, 'clean_text')"
      ],
      "execution_count": null,
      "outputs": []
    },
    {
      "cell_type": "code",
      "metadata": {
        "id": "fT4nXGPaRflN",
        "colab": {
          "base_uri": "https://localhost:8080/"
        },
        "outputId": "188543e6-7214-451d-b038-df8db60e327e"
      },
      "source": [
        "import tensorflow as tf\n",
        "import tensorflow_addons as tfa\n",
        "\n",
        "gpus = tf.config.experimental.list_physical_devices('GPU')\n",
        "if gpus:\n",
        "  try:\n",
        "    for gpu in gpus:\n",
        "      tf.config.experimental.set_memory_growth(gpu, True)\n",
        "  except RuntimeError as e:\n",
        "    print(e)\n",
        "\n",
        "print(gpus)\n",
        "\n",
        "\n",
        "\n",
        "with tf.device('/device:GPU:0'):\n",
        "  apply_text_processing(train_frame)\n"
      ],
      "execution_count": null,
      "outputs": [
        {
          "output_type": "stream",
          "text": [
            "[PhysicalDevice(name='/physical_device:GPU:0', device_type='GPU')]\n"
          ],
          "name": "stdout"
        }
      ]
    },
    {
      "cell_type": "code",
      "metadata": {
        "colab": {
          "base_uri": "https://localhost:8080/",
          "height": 37
        },
        "id": "jblgmsYKvGdg",
        "outputId": "2957b4eb-973f-4bfa-fd12-17c0e4e871c9"
      },
      "source": [
        "train_frame.clean_text.iloc[4]"
      ],
      "execution_count": null,
      "outputs": [
        {
          "output_type": "execute_result",
          "data": {
            "application/vnd.google.colaboratory.intrinsic+json": {
              "type": "string"
            },
            "text/plain": [
              "'wondering educated ambassador struggling pay credit debit decent restaurant cant imagine diplomat developed nation card need cash dinner'"
            ]
          },
          "metadata": {
            "tags": []
          },
          "execution_count": 17
        }
      ]
    },
    {
      "cell_type": "code",
      "metadata": {
        "colab": {
          "base_uri": "https://localhost:8080/",
          "height": 37
        },
        "id": "Y85J7zy7zdxv",
        "outputId": "a791b35c-4d68-48fb-ada3-361a28fe7356"
      },
      "source": [
        "apply_text_processing(val_frame)\n",
        "val_frame.clean_text.iloc[5]"
      ],
      "execution_count": null,
      "outputs": [
        {
          "output_type": "execute_result",
          "data": {
            "application/vnd.google.colaboratory.intrinsic+json": {
              "type": "string"
            },
            "text/plain": [
              "'mr ashwini gujral said nifty touch likely nifty test'"
            ]
          },
          "metadata": {
            "tags": []
          },
          "execution_count": 18
        }
      ]
    },
    {
      "cell_type": "code",
      "metadata": {
        "colab": {
          "base_uri": "https://localhost:8080/",
          "height": 424
        },
        "id": "0ICjEliYD0fL",
        "outputId": "b18ce079-37b6-46d0-88c9-6b77bb1a9ec1"
      },
      "source": [
        "add_columns_name(test_fb_frame)\n",
        "add_columns_name(test_tw_frame)\n",
        "apply_text_processing(test_fb_frame)\n",
        "test_fb_frame"
      ],
      "execution_count": null,
      "outputs": [
        {
          "output_type": "execute_result",
          "data": {
            "text/html": [
              "<div>\n",
              "<style scoped>\n",
              "    .dataframe tbody tr th:only-of-type {\n",
              "        vertical-align: middle;\n",
              "    }\n",
              "\n",
              "    .dataframe tbody tr th {\n",
              "        vertical-align: top;\n",
              "    }\n",
              "\n",
              "    .dataframe thead th {\n",
              "        text-align: right;\n",
              "    }\n",
              "</style>\n",
              "<table border=\"1\" class=\"dataframe\">\n",
              "  <thead>\n",
              "    <tr style=\"text-align: right;\">\n",
              "      <th></th>\n",
              "      <th>unique_id</th>\n",
              "      <th>text</th>\n",
              "      <th>agression_level</th>\n",
              "      <th>clean_text</th>\n",
              "    </tr>\n",
              "  </thead>\n",
              "  <tbody>\n",
              "    <tr>\n",
              "      <th>0</th>\n",
              "      <td>facebook_corpus_msr_422473</td>\n",
              "      <td>So now we know. The women should be under the ...</td>\n",
              "      <td>NAG</td>\n",
              "      <td>know woman veil dumb country made think cool</td>\n",
              "    </tr>\n",
              "    <tr>\n",
              "      <th>1</th>\n",
              "      <td>facebook_corpus_msr_341422</td>\n",
              "      <td>गद्दारो तुमसे ही तो खतरा है अबकी बार साफ हो जाओगे</td>\n",
              "      <td>NAG</td>\n",
              "      <td>गद्दारो तुमसे ही तो खतरा है अबकी बार साफ जाओगे</td>\n",
              "    </tr>\n",
              "    <tr>\n",
              "      <th>2</th>\n",
              "      <td>facebook_corpus_msr_481654</td>\n",
              "      <td>Do you think markets are gonna be sideways til...</td>\n",
              "      <td>NAG</td>\n",
              "      <td>think market gon sideways result</td>\n",
              "    </tr>\n",
              "    <tr>\n",
              "      <th>3</th>\n",
              "      <td>facebook_corpus_msr_427757</td>\n",
              "      <td>Jago Urjut Jago....\\nSave common people from\\n...</td>\n",
              "      <td>NAG</td>\n",
              "      <td>jago urjut jago save common people reducing re...</td>\n",
              "    </tr>\n",
              "    <tr>\n",
              "      <th>4</th>\n",
              "      <td>facebook_corpus_msr_469689</td>\n",
              "      <td>The point of demonetization is to stop use of ...</td>\n",
              "      <td>NAG</td>\n",
              "      <td>point demonetization stop use cash way india i...</td>\n",
              "    </tr>\n",
              "    <tr>\n",
              "      <th>...</th>\n",
              "      <td>...</td>\n",
              "      <td>...</td>\n",
              "      <td>...</td>\n",
              "      <td>...</td>\n",
              "    </tr>\n",
              "    <tr>\n",
              "      <th>910</th>\n",
              "      <td>facebook_corpus_msr_322509</td>\n",
              "      <td>Where is that illegitimate kid o communists, c...</td>\n",
              "      <td>CAG</td>\n",
              "      <td>illegitimate kid communist congressis presstit...</td>\n",
              "    </tr>\n",
              "    <tr>\n",
              "      <th>911</th>\n",
              "      <td>facebook_corpus_msr_397216</td>\n",
              "      <td>Anil Chaurasia galian men bhi de sakta hon kyu...</td>\n",
              "      <td>OAG</td>\n",
              "      <td>anil chaurasia galian bhi sakta kyun apni maa ...</td>\n",
              "    </tr>\n",
              "    <tr>\n",
              "      <th>912</th>\n",
              "      <td>facebook_corpus_msr_466506</td>\n",
              "      <td>Never opened his mouth when PM..now he speaks....</td>\n",
              "      <td>OAG</td>\n",
              "      <td>never opened mouth pm speaks better shut mouth...</td>\n",
              "    </tr>\n",
              "    <tr>\n",
              "      <th>913</th>\n",
              "      <td>facebook_corpus_msr_441285</td>\n",
              "      <td>Chit fund operators  n loan sharks r more honest</td>\n",
              "      <td>CAG</td>\n",
              "      <td>chit fund operator loan shark r honest</td>\n",
              "    </tr>\n",
              "    <tr>\n",
              "      <th>914</th>\n",
              "      <td>facebook_corpus_msr_466859</td>\n",
              "      <td>Bloody chela of Sonia. If he would have spoken...</td>\n",
              "      <td>OAG</td>\n",
              "      <td>bloody chela sonia would spoken much yr two go...</td>\n",
              "    </tr>\n",
              "  </tbody>\n",
              "</table>\n",
              "<p>915 rows × 4 columns</p>\n",
              "</div>"
            ],
            "text/plain": [
              "                      unique_id  ...                                         clean_text\n",
              "0    facebook_corpus_msr_422473  ...       know woman veil dumb country made think cool\n",
              "1    facebook_corpus_msr_341422  ...     गद्दारो तुमसे ही तो खतरा है अबकी बार साफ जाओगे\n",
              "2    facebook_corpus_msr_481654  ...                   think market gon sideways result\n",
              "3    facebook_corpus_msr_427757  ...  jago urjut jago save common people reducing re...\n",
              "4    facebook_corpus_msr_469689  ...  point demonetization stop use cash way india i...\n",
              "..                          ...  ...                                                ...\n",
              "910  facebook_corpus_msr_322509  ...  illegitimate kid communist congressis presstit...\n",
              "911  facebook_corpus_msr_397216  ...  anil chaurasia galian bhi sakta kyun apni maa ...\n",
              "912  facebook_corpus_msr_466506  ...  never opened mouth pm speaks better shut mouth...\n",
              "913  facebook_corpus_msr_441285  ...             chit fund operator loan shark r honest\n",
              "914  facebook_corpus_msr_466859  ...  bloody chela sonia would spoken much yr two go...\n",
              "\n",
              "[915 rows x 4 columns]"
            ]
          },
          "metadata": {
            "tags": []
          },
          "execution_count": 19
        }
      ]
    },
    {
      "cell_type": "code",
      "metadata": {
        "colab": {
          "base_uri": "https://localhost:8080/",
          "height": 424
        },
        "id": "GR1MeW5AESIv",
        "outputId": "b272d7b6-e1fe-4909-f790-a7322d03b290"
      },
      "source": [
        "apply_text_processing(test_tw_frame)\n",
        "test_tw_frame"
      ],
      "execution_count": null,
      "outputs": [
        {
          "output_type": "execute_result",
          "data": {
            "text/html": [
              "<div>\n",
              "<style scoped>\n",
              "    .dataframe tbody tr th:only-of-type {\n",
              "        vertical-align: middle;\n",
              "    }\n",
              "\n",
              "    .dataframe tbody tr th {\n",
              "        vertical-align: top;\n",
              "    }\n",
              "\n",
              "    .dataframe thead th {\n",
              "        text-align: right;\n",
              "    }\n",
              "</style>\n",
              "<table border=\"1\" class=\"dataframe\">\n",
              "  <thead>\n",
              "    <tr style=\"text-align: right;\">\n",
              "      <th></th>\n",
              "      <th>unique_id</th>\n",
              "      <th>text</th>\n",
              "      <th>agression_level</th>\n",
              "      <th>clean_text</th>\n",
              "    </tr>\n",
              "  </thead>\n",
              "  <tbody>\n",
              "    <tr>\n",
              "      <th>0</th>\n",
              "      <td>sme_2</td>\n",
              "      <td>@sardanarohit :While entire nation is praying ...</td>\n",
              "      <td>OAG</td>\n",
              "      <td>entire nation praying siachin brave heart pay ...</td>\n",
              "    </tr>\n",
              "    <tr>\n",
              "      <th>1</th>\n",
              "      <td>sme_3</td>\n",
              "      <td>shoaib: wahab riaz looks like johnson. kapil d...</td>\n",
              "      <td>NAG</td>\n",
              "      <td>shoaib wahab riaz look like johnson kapil dev ...</td>\n",
              "    </tr>\n",
              "    <tr>\n",
              "      <th>2</th>\n",
              "      <td>sme_4</td>\n",
              "      <td>ramraj cottons r. ashwin southindian , chennai...</td>\n",
              "      <td>NAG</td>\n",
              "      <td>ramraj cotton r ashwin southindian chennai ian...</td>\n",
              "    </tr>\n",
              "    <tr>\n",
              "      <th>3</th>\n",
              "      <td>sme_5</td>\n",
              "      <td>#indvsuae jeet gaye... :) :) cmon starsports n...</td>\n",
              "      <td>NAG</td>\n",
              "      <td>jeet gaye cmon starsports naya dikhayo ab</td>\n",
              "    </tr>\n",
              "    <tr>\n",
              "      <th>4</th>\n",
              "      <td>sme_6</td>\n",
              "      <td>tt india 08:24 1.#indvspak 2.#mustwatchmsg 3.#...</td>\n",
              "      <td>NAG</td>\n",
              "      <td>tt india rega jha congrats team india giroud</td>\n",
              "    </tr>\n",
              "    <tr>\n",
              "      <th>...</th>\n",
              "      <td>...</td>\n",
              "      <td>...</td>\n",
              "      <td>...</td>\n",
              "      <td>...</td>\n",
              "    </tr>\n",
              "    <tr>\n",
              "      <th>1251</th>\n",
              "      <td>sme_1253</td>\n",
              "      <td>#ShutdownJNU Pls dnt take police actn ths tym....</td>\n",
              "      <td>OAG</td>\n",
              "      <td>pls dnt police actn th tym send paramilitary h...</td>\n",
              "    </tr>\n",
              "    <tr>\n",
              "      <th>1252</th>\n",
              "      <td>sme_1254</td>\n",
              "      <td>@IchbinUjjaini what the hell? Do you even know...</td>\n",
              "      <td>OAG</td>\n",
              "      <td>hell even know difference anti national opposi...</td>\n",
              "    </tr>\n",
              "    <tr>\n",
              "      <th>1253</th>\n",
              "      <td>sme_1255</td>\n",
              "      <td>#standwithJNU one of the worst authorities, sa...</td>\n",
              "      <td>OAG</td>\n",
              "      <td>worst authority sadist authority deriving plea...</td>\n",
              "    </tr>\n",
              "    <tr>\n",
              "      <th>1254</th>\n",
              "      <td>sme_1256</td>\n",
              "      <td>#ShutDownJNU where r so called secular ppl.. #...</td>\n",
              "      <td>OAG</td>\n",
              "      <td>r called secular ppl amir srk rahul comment si...</td>\n",
              "    </tr>\n",
              "    <tr>\n",
              "      <th>1255</th>\n",
              "      <td>sme_1257</td>\n",
              "      <td>My blood boils at the well wishers of terroris...</td>\n",
              "      <td>OAG</td>\n",
              "      <td>blood boil well wishers terrorist afzal guru p...</td>\n",
              "    </tr>\n",
              "  </tbody>\n",
              "</table>\n",
              "<p>1256 rows × 4 columns</p>\n",
              "</div>"
            ],
            "text/plain": [
              "     unique_id  ...                                         clean_text\n",
              "0        sme_2  ...  entire nation praying siachin brave heart pay ...\n",
              "1        sme_3  ...  shoaib wahab riaz look like johnson kapil dev ...\n",
              "2        sme_4  ...  ramraj cotton r ashwin southindian chennai ian...\n",
              "3        sme_5  ...          jeet gaye cmon starsports naya dikhayo ab\n",
              "4        sme_6  ...       tt india rega jha congrats team india giroud\n",
              "...        ...  ...                                                ...\n",
              "1251  sme_1253  ...  pls dnt police actn th tym send paramilitary h...\n",
              "1252  sme_1254  ...  hell even know difference anti national opposi...\n",
              "1253  sme_1255  ...  worst authority sadist authority deriving plea...\n",
              "1254  sme_1256  ...  r called secular ppl amir srk rahul comment si...\n",
              "1255  sme_1257  ...  blood boil well wishers terrorist afzal guru p...\n",
              "\n",
              "[1256 rows x 4 columns]"
            ]
          },
          "metadata": {
            "tags": []
          },
          "execution_count": 20
        }
      ]
    },
    {
      "cell_type": "code",
      "metadata": {
        "id": "rhP5SnbbzoHM"
      },
      "source": [
        "def create_tag(data):\n",
        "    data['tag'] = np.where(data['agression_level'] == 'NAG', 0, 2)\n",
        "    data['tag'] = np.where(data['agression_level'] == 'CAG', 1, data.tag)"
      ],
      "execution_count": null,
      "outputs": []
    },
    {
      "cell_type": "code",
      "metadata": {
        "colab": {
          "base_uri": "https://localhost:8080/",
          "height": 206
        },
        "id": "8LwixzjyAdgs",
        "outputId": "ebc4146c-be5a-44bd-8df2-c760742d42f9"
      },
      "source": [
        "create_tag(train_frame)\n",
        "create_tag(val_frame)\n",
        "create_tag(test_fb_frame)\n",
        "create_tag(test_tw_frame)\n",
        "val_frame.head(5)"
      ],
      "execution_count": null,
      "outputs": [
        {
          "output_type": "execute_result",
          "data": {
            "text/html": [
              "<div>\n",
              "<style scoped>\n",
              "    .dataframe tbody tr th:only-of-type {\n",
              "        vertical-align: middle;\n",
              "    }\n",
              "\n",
              "    .dataframe tbody tr th {\n",
              "        vertical-align: top;\n",
              "    }\n",
              "\n",
              "    .dataframe thead th {\n",
              "        text-align: right;\n",
              "    }\n",
              "</style>\n",
              "<table border=\"1\" class=\"dataframe\">\n",
              "  <thead>\n",
              "    <tr style=\"text-align: right;\">\n",
              "      <th></th>\n",
              "      <th>unique_id</th>\n",
              "      <th>text</th>\n",
              "      <th>agression_level</th>\n",
              "      <th>clean_text</th>\n",
              "      <th>tag</th>\n",
              "    </tr>\n",
              "  </thead>\n",
              "  <tbody>\n",
              "    <tr>\n",
              "      <th>0</th>\n",
              "      <td>facebook_corpus_msr_334368</td>\n",
              "      <td>@siva \\nHow is ur mother???\\nHow is ur wife???...</td>\n",
              "      <td>NAG</td>\n",
              "      <td>ur mother ur wife ur sister hope everyone fine</td>\n",
              "      <td>0</td>\n",
              "    </tr>\n",
              "    <tr>\n",
              "      <th>1</th>\n",
              "      <td>facebook_corpus_msr_331195</td>\n",
              "      <td>Also see ....hw ur RSS activist caught in Burk...</td>\n",
              "      <td>NAG</td>\n",
              "      <td>see hw ur r activist caught burkha throwing be...</td>\n",
              "      <td>0</td>\n",
              "    </tr>\n",
              "    <tr>\n",
              "      <th>2</th>\n",
              "      <td>facebook_corpus_msr_403402</td>\n",
              "      <td>On the death of 2 jawans in LOC CROSS FIRING\\n...</td>\n",
              "      <td>NAG</td>\n",
              "      <td>death jawan loc cross firing home minister mus...</td>\n",
              "      <td>0</td>\n",
              "    </tr>\n",
              "    <tr>\n",
              "      <th>3</th>\n",
              "      <td>facebook_corpus_msr_379239</td>\n",
              "      <td>Modi ho ya Manmohan singh saala yeh log kuch n...</td>\n",
              "      <td>OAG</td>\n",
              "      <td>modi manmohan singh saala yeh log kuch ny kart...</td>\n",
              "      <td>2</td>\n",
              "    </tr>\n",
              "    <tr>\n",
              "      <th>4</th>\n",
              "      <td>facebook_corpus_msr_2111264</td>\n",
              "      <td>No discrimination in policies and NON protecti...</td>\n",
              "      <td>CAG</td>\n",
              "      <td>discrimination policy protectionism perhaps fu...</td>\n",
              "      <td>1</td>\n",
              "    </tr>\n",
              "  </tbody>\n",
              "</table>\n",
              "</div>"
            ],
            "text/plain": [
              "                     unique_id  ... tag\n",
              "0   facebook_corpus_msr_334368  ...   0\n",
              "1   facebook_corpus_msr_331195  ...   0\n",
              "2   facebook_corpus_msr_403402  ...   0\n",
              "3   facebook_corpus_msr_379239  ...   2\n",
              "4  facebook_corpus_msr_2111264  ...   1\n",
              "\n",
              "[5 rows x 5 columns]"
            ]
          },
          "metadata": {
            "tags": []
          },
          "execution_count": 22
        }
      ]
    },
    {
      "cell_type": "code",
      "metadata": {
        "id": "wJuisevUoEJt"
      },
      "source": [
        ""
      ],
      "execution_count": null,
      "outputs": []
    },
    {
      "cell_type": "code",
      "metadata": {
        "id": "5IAA000dBdLi"
      },
      "source": [
        "from tensorflow.keras.models import Sequential, Model\n",
        "from tensorflow.keras.layers import LSTM\n",
        "from tensorflow.keras.preprocessing.text import Tokenizer\n",
        "from tensorflow.keras.preprocessing.sequence import pad_sequences\n",
        "from tensorflow.keras.layers import Dense, Embedding, Dropout, Activation, Input\n",
        "from tensorflow.keras.layers import Bidirectional, GlobalMaxPool1D\n",
        "from tensorflow.keras import initializers, regularizers, constraints, optimizers, layers\n",
        "from tensorflow.keras.callbacks import EarlyStopping, ModelCheckpoint\n",
        "from tensorflow.keras.preprocessing import text, sequence\n",
        "\n",
        "\n",
        "\n",
        "max_features = 30000\n",
        "maxlen = 600\n",
        "\n",
        "data = pd.concat([train_frame, val_frame])\n",
        "fit_list = data.clean_text.fillna('other').values\n",
        "list_sentences_train = data.clean_text.fillna('other').values\n",
        "list_sentences_val = val_frame.clean_text.fillna('other').values\n",
        "list_sentences_test_fb = test_fb_frame.clean_text.fillna('other').values\n",
        "lis_sentences_test_tw = test_tw_frame.clean_text.fillna('other').values\n",
        "\n"
      ],
      "execution_count": null,
      "outputs": []
    },
    {
      "cell_type": "code",
      "metadata": {
        "colab": {
          "base_uri": "https://localhost:8080/"
        },
        "id": "VKTfMLKiFHNa",
        "outputId": "7647887c-adc3-4959-bd61-46a2048e37dd"
      },
      "source": [
        "from tensorflow.keras.utils import to_categorical\n",
        "\n",
        "Y_train = to_categorical(data.tag.values, num_classes=3)\n",
        "Y_val = to_categorical(val_frame.tag.values)\n",
        "Y_test_fb = to_categorical(test_fb_frame.tag.values, num_classes=3)\n",
        "Y_test_tw = to_categorical(test_tw_frame.tag.values, num_classes=3)\n",
        "\n",
        "print(Y_train.shape)"
      ],
      "execution_count": null,
      "outputs": [
        {
          "output_type": "stream",
          "text": [
            "(14998, 3)\n"
          ],
          "name": "stdout"
        }
      ]
    },
    {
      "cell_type": "code",
      "metadata": {
        "id": "iE0h5buuGQiu"
      },
      "source": [
        "tokenizer = text.Tokenizer(num_words=max_features)\n",
        "tokenizer.fit_on_texts(list(fit_list))\n",
        "\n",
        "list_tokenized_train = tokenizer.texts_to_sequences(list_sentences_train)\n",
        "list_tokenized_val = tokenizer.texts_to_sequences(list_sentences_val)\n",
        "\n",
        "list_tokenized_test_fb = tokenizer.texts_to_sequences(list_sentences_test_fb)\n",
        "list_tokenized_test_tw = tokenizer.texts_to_sequences(lis_sentences_test_tw)\n",
        "\n",
        "X_train = sequence.pad_sequences(list_tokenized_train, maxlen=maxlen)\n",
        "X_val = sequence.pad_sequences(list_tokenized_val, maxlen=maxlen)\n",
        "X_te_fb = sequence.pad_sequences(list_tokenized_test_fb, maxlen=maxlen)\n",
        "X_te_tw = sequence.pad_sequences(list_tokenized_test_tw, maxlen=maxlen)"
      ],
      "execution_count": null,
      "outputs": []
    },
    {
      "cell_type": "code",
      "metadata": {
        "id": "TLV-PSX2KyCR"
      },
      "source": [
        ""
      ],
      "execution_count": null,
      "outputs": []
    },
    {
      "cell_type": "code",
      "metadata": {
        "colab": {
          "base_uri": "https://localhost:8080/"
        },
        "id": "6nJPNPjRBFL7",
        "outputId": "d1862624-8904-4a93-82c2-4b043df5ead7"
      },
      "source": [
        "def get_model():\n",
        "    embed_size = 64\n",
        "    inp = Input(shape=(maxlen, ))\n",
        "    x = Embedding(max_features, embed_size)(inp)\n",
        "    x = Bidirectional(LSTM(50, return_sequences=True))(x)\n",
        "    x = GlobalMaxPool1D()(x)\n",
        "    x = Dropout(0.25)(x)\n",
        "    x = Dense(50, activation=\"relu\")(x)\n",
        "    x = Dropout(0.1)(x)\n",
        "    x = Dense(3, activation=\"softmax\")(x)\n",
        "    model = Model(inputs=inp, outputs=x)\n",
        "    model.compile(loss='categorical_crossentropy',\n",
        "                  optimizer=tf.keras.optimizers.Adam(learning_rate=1e-3),\n",
        "                  metrics=['accuracy', tf.keras.metrics.Recall(), tf.keras.metrics.Precision(), tfa.metrics.F1Score(num_classes=3, average='macro')])\n",
        "\n",
        "\n",
        "    return model\n",
        "\n",
        "get_model().summary()"
      ],
      "execution_count": null,
      "outputs": [
        {
          "output_type": "stream",
          "text": [
            "Model: \"model\"\n",
            "_________________________________________________________________\n",
            "Layer (type)                 Output Shape              Param #   \n",
            "=================================================================\n",
            "input_1 (InputLayer)         [(None, 600)]             0         \n",
            "_________________________________________________________________\n",
            "embedding (Embedding)        (None, 600, 64)           1920000   \n",
            "_________________________________________________________________\n",
            "bidirectional (Bidirectional (None, 600, 100)          46000     \n",
            "_________________________________________________________________\n",
            "global_max_pooling1d (Global (None, 100)               0         \n",
            "_________________________________________________________________\n",
            "dropout (Dropout)            (None, 100)               0         \n",
            "_________________________________________________________________\n",
            "dense (Dense)                (None, 50)                5050      \n",
            "_________________________________________________________________\n",
            "dropout_1 (Dropout)          (None, 50)                0         \n",
            "_________________________________________________________________\n",
            "dense_1 (Dense)              (None, 3)                 153       \n",
            "=================================================================\n",
            "Total params: 1,971,203\n",
            "Trainable params: 1,971,203\n",
            "Non-trainable params: 0\n",
            "_________________________________________________________________\n"
          ],
          "name": "stdout"
        }
      ]
    },
    {
      "cell_type": "code",
      "metadata": {
        "colab": {
          "base_uri": "https://localhost:8080/"
        },
        "id": "7_MUVpVeI4uT",
        "outputId": "05e2d9c4-13eb-4b97-a918-37e1bfc8087a"
      },
      "source": [
        "import sklearn\n",
        "from sklearn.model_selection import train_test_split\n",
        "\n",
        "model = get_model()\n",
        "batch_size = 128\n",
        "epochs = 15\n",
        "\n",
        "# X_t, X_v,Y_t, Y_v = train_test_split(X_train, Y_train, test_size=0.33)\n",
        "# file_path=\"weights_base.best.hdf5\"\n",
        "# checkpoint = ModelCheckpoint(file_path, monitor='val_loss', verbose=1, save_best_only=True, mode='min')\n",
        "\n",
        "\n",
        "early = EarlyStopping(monitor=\"val_loss\", mode=\"min\", patience=20)\n",
        "\n",
        "\n",
        "\n",
        "model2 = Sequential()\n",
        "model2.add(Embedding(30000, 128))\n",
        "model2.add(LSTM(units = 64, dropout = 0.2, recurrent_dropout = 0.2,return_sequences=True))\n",
        "model2.add(LSTM(units = 64, dropout = 0.2, recurrent_dropout = 0.2))\n",
        "model2.add(Dense(units = 3, activation = 'softmax'))\n",
        "\n",
        "callbacks_list = [early] #early\n",
        "\n",
        "\n",
        "model2.compile(loss='categorical_crossentropy',\n",
        "                  optimizer=tf.keras.optimizers.Adam(learning_rate=1e-3),\n",
        "                  metrics=['accuracy', tf.keras.metrics.Recall(), tf.keras.metrics.Precision(), tfa.metrics.F1Score(num_classes=3, average='macro')])\n",
        "\n",
        "with tf.device('/device:GPU:0'):\n",
        "  history = model2.fit(X_train, Y_train, validation_data=(X_val, Y_val), batch_size=batch_size, epochs=epochs, callbacks=callbacks_list)\n",
        "\n",
        "# print(X_t.shape)\n",
        "# print(Y_v.shape)"
      ],
      "execution_count": null,
      "outputs": [
        {
          "output_type": "stream",
          "text": [
            "WARNING:tensorflow:Layer lstm_5 will not use cuDNN kernel since it doesn't meet the cuDNN kernel criteria. It will use generic GPU kernel as fallback when running on GPU\n",
            "WARNING:tensorflow:Layer lstm_6 will not use cuDNN kernel since it doesn't meet the cuDNN kernel criteria. It will use generic GPU kernel as fallback when running on GPU\n",
            "Epoch 1/15\n",
            "118/118 [==============================] - 535s 4s/step - loss: 1.0395 - accuracy: 0.4420 - recall_4: 0.0815 - precision_4: 0.5138 - f1_score: 0.3016 - val_loss: 0.8023 - val_accuracy: 0.6470 - val_recall_4: 0.3490 - val_precision_4: 0.8072 - val_f1_score: 0.6052\n",
            "Epoch 2/15\n",
            "118/118 [==============================] - 525s 4s/step - loss: 0.7752 - accuracy: 0.6478 - recall_4: 0.5018 - precision_4: 0.7276 - f1_score: 0.6205 - val_loss: 0.5694 - val_accuracy: 0.7873 - val_recall_4: 0.7000 - val_precision_4: 0.8582 - val_f1_score: 0.7769\n",
            "Epoch 3/15\n",
            "118/118 [==============================] - 524s 4s/step - loss: 0.5420 - accuracy: 0.7831 - recall_4: 0.7241 - precision_4: 0.8252 - f1_score: 0.7723 - val_loss: 0.3830 - val_accuracy: 0.8697 - val_recall_4: 0.8097 - val_precision_4: 0.9149 - val_f1_score: 0.8672\n",
            "Epoch 4/15\n",
            "118/118 [==============================] - 526s 4s/step - loss: 0.3835 - accuracy: 0.8551 - recall_4: 0.8231 - precision_4: 0.8808 - f1_score: 0.8499 - val_loss: 0.2814 - val_accuracy: 0.9040 - val_recall_4: 0.8670 - val_precision_4: 0.9373 - val_f1_score: 0.9007\n",
            "Epoch 5/15\n",
            "118/118 [==============================] - 523s 4s/step - loss: 0.3033 - accuracy: 0.8850 - recall_4: 0.8647 - precision_4: 0.9075 - f1_score: 0.8807 - val_loss: 0.2091 - val_accuracy: 0.9283 - val_recall_4: 0.9110 - val_precision_4: 0.9437 - val_f1_score: 0.9274\n",
            "Epoch 6/15\n",
            "118/118 [==============================] - 527s 4s/step - loss: 0.2294 - accuracy: 0.9169 - recall_4: 0.9032 - precision_4: 0.9290 - f1_score: 0.9132 - val_loss: 0.1639 - val_accuracy: 0.9410 - val_recall_4: 0.9300 - val_precision_4: 0.9522 - val_f1_score: 0.9395\n",
            "Epoch 7/15\n",
            "118/118 [==============================] - 527s 4s/step - loss: 0.1991 - accuracy: 0.9292 - recall_4: 0.9184 - precision_4: 0.9416 - f1_score: 0.9261 - val_loss: 0.1318 - val_accuracy: 0.9523 - val_recall_4: 0.9483 - val_precision_4: 0.9586 - val_f1_score: 0.9513\n",
            "Epoch 8/15\n",
            "118/118 [==============================] - 533s 5s/step - loss: 0.1521 - accuracy: 0.9474 - recall_4: 0.9391 - precision_4: 0.9550 - f1_score: 0.9460 - val_loss: 0.1202 - val_accuracy: 0.9577 - val_recall_4: 0.9510 - val_precision_4: 0.9655 - val_f1_score: 0.9571\n",
            "Epoch 9/15\n",
            "118/118 [==============================] - 526s 4s/step - loss: 0.1352 - accuracy: 0.9534 - recall_4: 0.9463 - precision_4: 0.9601 - f1_score: 0.9524 - val_loss: 0.1000 - val_accuracy: 0.9640 - val_recall_4: 0.9610 - val_precision_4: 0.9707 - val_f1_score: 0.9633\n",
            "Epoch 10/15\n",
            "118/118 [==============================] - 521s 4s/step - loss: 0.1169 - accuracy: 0.9571 - recall_4: 0.9525 - precision_4: 0.9622 - f1_score: 0.9557 - val_loss: 0.0989 - val_accuracy: 0.9623 - val_recall_4: 0.9543 - val_precision_4: 0.9699 - val_f1_score: 0.9616\n",
            "Epoch 11/15\n",
            "118/118 [==============================] - 522s 4s/step - loss: 0.1092 - accuracy: 0.9598 - recall_4: 0.9565 - precision_4: 0.9650 - f1_score: 0.9584 - val_loss: 0.0817 - val_accuracy: 0.9687 - val_recall_4: 0.9617 - val_precision_4: 0.9780 - val_f1_score: 0.9686\n",
            "Epoch 12/15\n",
            "118/118 [==============================] - 523s 4s/step - loss: 0.0956 - accuracy: 0.9630 - recall_4: 0.9596 - precision_4: 0.9683 - f1_score: 0.9620 - val_loss: 0.0751 - val_accuracy: 0.9710 - val_recall_4: 0.9657 - val_precision_4: 0.9754 - val_f1_score: 0.9705\n",
            "Epoch 13/15\n",
            "118/118 [==============================] - 522s 4s/step - loss: 0.0828 - accuracy: 0.9684 - recall_4: 0.9647 - precision_4: 0.9726 - f1_score: 0.9673 - val_loss: 0.0695 - val_accuracy: 0.9723 - val_recall_4: 0.9683 - val_precision_4: 0.9768 - val_f1_score: 0.9714\n",
            "Epoch 14/15\n",
            "118/118 [==============================] - 523s 4s/step - loss: 0.0821 - accuracy: 0.9684 - recall_4: 0.9656 - precision_4: 0.9724 - f1_score: 0.9676 - val_loss: 0.0648 - val_accuracy: 0.9747 - val_recall_4: 0.9693 - val_precision_4: 0.9798 - val_f1_score: 0.9742\n",
            "Epoch 15/15\n",
            "118/118 [==============================] - 525s 4s/step - loss: 0.0842 - accuracy: 0.9655 - recall_4: 0.9632 - precision_4: 0.9695 - f1_score: 0.9641 - val_loss: 0.0687 - val_accuracy: 0.9730 - val_recall_4: 0.9653 - val_precision_4: 0.9790 - val_f1_score: 0.9727\n"
          ],
          "name": "stdout"
        }
      ]
    },
    {
      "cell_type": "code",
      "metadata": {
        "id": "voCVYLHSJxR7"
      },
      "source": [
        "import pickle\n",
        "with open(WORKDIR + \"/drive/MyDrive/SII/train_lstm_v2\", 'wb') as file_pi:\n",
        "  pickle.dump(history.history, file_pi)\n",
        "\n",
        "\n"
      ],
      "execution_count": null,
      "outputs": []
    },
    {
      "cell_type": "code",
      "metadata": {
        "id": "c4y_WxaFdNBo"
      },
      "source": [
        "model2.save_weights(\"/content/drive/MyDrive/SII/LSTM_model.h5\")\n"
      ],
      "execution_count": null,
      "outputs": []
    },
    {
      "cell_type": "code",
      "metadata": {
        "id": "T6-rXRsBKGK1"
      },
      "source": [
        "y_test = model2.evaluate(X_te_fb, Y_test_fb, batch_size=128)\n"
      ],
      "execution_count": null,
      "outputs": []
    },
    {
      "cell_type": "code",
      "metadata": {
        "id": "pKmoqKX3Kij9"
      },
      "source": [
        "y_test = model2.evaluate(X_te_tw, Y_test_tw, batch_size=128)\n"
      ],
      "execution_count": null,
      "outputs": []
    },
    {
      "cell_type": "code",
      "metadata": {
        "id": "G1hFKZ66U7bC"
      },
      "source": [
        "y_test = model.predict(X_te_fb, batch_size=128)\n"
      ],
      "execution_count": null,
      "outputs": []
    },
    {
      "cell_type": "code",
      "metadata": {
        "id": "37g73_UYeoKY"
      },
      "source": [
        "train_frame.to_csv(path_or_buf=\"/content/drive/MyDrive/SII/train_pre.csv\", index=False)"
      ],
      "execution_count": null,
      "outputs": []
    },
    {
      "cell_type": "code",
      "metadata": {
        "id": "Aft-EPhcfNvS"
      },
      "source": [
        "val_frame.to_csv(path_or_buf=\"/content/drive/MyDrive/SII/val_pre.csv\", index=False)"
      ],
      "execution_count": null,
      "outputs": []
    },
    {
      "cell_type": "code",
      "metadata": {
        "id": "v9704tVVfUEK"
      },
      "source": [
        "test_fb_frame.to_csv(path_or_buf=\"/content/drive/MyDrive/SII/test_fb_pre.csv\", index=False)"
      ],
      "execution_count": null,
      "outputs": []
    },
    {
      "cell_type": "code",
      "metadata": {
        "id": "DgsOcAkrfa9a"
      },
      "source": [
        "test_tw_frame.to_csv(path_or_buf=\"/content/drive/MyDrive/SII/test_tw_pre.csv\", index=False)"
      ],
      "execution_count": null,
      "outputs": []
    },
    {
      "cell_type": "code",
      "metadata": {
        "colab": {
          "base_uri": "https://localhost:8080/",
          "height": 206
        },
        "id": "rSm6sZBzfDx3",
        "outputId": "35eb653c-4933-4dd4-e36e-bb1a813a358e"
      },
      "source": [
        "pd.read_csv(\"/drive/MyDrive/SII/test_tw_pre.csv\").head()"
      ],
      "execution_count": null,
      "outputs": [
        {
          "output_type": "execute_result",
          "data": {
            "text/html": [
              "<div>\n",
              "<style scoped>\n",
              "    .dataframe tbody tr th:only-of-type {\n",
              "        vertical-align: middle;\n",
              "    }\n",
              "\n",
              "    .dataframe tbody tr th {\n",
              "        vertical-align: top;\n",
              "    }\n",
              "\n",
              "    .dataframe thead th {\n",
              "        text-align: right;\n",
              "    }\n",
              "</style>\n",
              "<table border=\"1\" class=\"dataframe\">\n",
              "  <thead>\n",
              "    <tr style=\"text-align: right;\">\n",
              "      <th></th>\n",
              "      <th>unique_id</th>\n",
              "      <th>text</th>\n",
              "      <th>agression_level</th>\n",
              "      <th>clean_text</th>\n",
              "      <th>tag</th>\n",
              "    </tr>\n",
              "  </thead>\n",
              "  <tbody>\n",
              "    <tr>\n",
              "      <th>0</th>\n",
              "      <td>sme_2</td>\n",
              "      <td>@sardanarohit :While entire nation is praying ...</td>\n",
              "      <td>OAG</td>\n",
              "      <td>entire nation praying siachin brave heart pay ...</td>\n",
              "      <td>2</td>\n",
              "    </tr>\n",
              "    <tr>\n",
              "      <th>1</th>\n",
              "      <td>sme_3</td>\n",
              "      <td>shoaib: wahab riaz looks like johnson. kapil d...</td>\n",
              "      <td>NAG</td>\n",
              "      <td>shoaib wahab riaz look like johnson kapil dev ...</td>\n",
              "      <td>0</td>\n",
              "    </tr>\n",
              "    <tr>\n",
              "      <th>2</th>\n",
              "      <td>sme_4</td>\n",
              "      <td>ramraj cottons r. ashwin southindian , chennai...</td>\n",
              "      <td>NAG</td>\n",
              "      <td>ramraj cotton r ashwin southindian chennai ian...</td>\n",
              "      <td>0</td>\n",
              "    </tr>\n",
              "    <tr>\n",
              "      <th>3</th>\n",
              "      <td>sme_5</td>\n",
              "      <td>#indvsuae jeet gaye... :) :) cmon starsports n...</td>\n",
              "      <td>NAG</td>\n",
              "      <td>jeet gaye cmon starsports naya dikhayo ab</td>\n",
              "      <td>0</td>\n",
              "    </tr>\n",
              "    <tr>\n",
              "      <th>4</th>\n",
              "      <td>sme_6</td>\n",
              "      <td>tt india 08:24 1.#indvspak 2.#mustwatchmsg 3.#...</td>\n",
              "      <td>NAG</td>\n",
              "      <td>tt india rega jha congrats team india giroud</td>\n",
              "      <td>0</td>\n",
              "    </tr>\n",
              "  </tbody>\n",
              "</table>\n",
              "</div>"
            ],
            "text/plain": [
              "  unique_id  ... tag\n",
              "0     sme_2  ...   2\n",
              "1     sme_3  ...   0\n",
              "2     sme_4  ...   0\n",
              "3     sme_5  ...   0\n",
              "4     sme_6  ...   0\n",
              "\n",
              "[5 rows x 5 columns]"
            ]
          },
          "metadata": {
            "tags": []
          },
          "execution_count": 45
        }
      ]
    }
  ]
}