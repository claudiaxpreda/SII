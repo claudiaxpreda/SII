{
  "nbformat": 4,
  "nbformat_minor": 0,
  "metadata": {
    "colab": {
      "name": "SII-v1",
      "provenance": [],
      "collapsed_sections": [],
      "include_colab_link": true
    },
    "kernelspec": {
      "display_name": "Python 3",
      "name": "python3"
    },
    "accelerator": "GPU"
  },
  "cells": [
    {
      "cell_type": "markdown",
      "metadata": {
        "id": "view-in-github",
        "colab_type": "text"
      },
      "source": [
        "<a href=\"https://colab.research.google.com/github/claudiaxpreda/SII/blob/main/SII_v1.ipynb\" target=\"_parent\"><img src=\"https://colab.research.google.com/assets/colab-badge.svg\" alt=\"Open In Colab\"/></a>"
      ]
    },
    {
      "cell_type": "code",
      "metadata": {
        "id": "A5HIB6XGaiQ3"
      },
      "source": [
        "import os\r\n",
        "import pandas as pd\r\n",
        "import numpy as np\r\n",
        "import tensorflow as tf\r\n",
        "\r\n",
        "from __future__ import print_function\r\n"
      ],
      "execution_count": null,
      "outputs": []
    },
    {
      "cell_type": "code",
      "metadata": {
        "colab": {
          "base_uri": "https://localhost:8080/"
        },
        "id": "TDvxHTvLQuTK",
        "outputId": "da22cf8f-fc53-49c4-c181-fa736d326b3a"
      },
      "source": [
        "from google.colab import drive\n",
        "drive.mount('/content/drive')"
      ],
      "execution_count": null,
      "outputs": [
        {
          "output_type": "stream",
          "text": [
            "Drive already mounted at /content/drive; to attempt to forcibly remount, call drive.mount(\"/content/drive\", force_remount=True).\n"
          ],
          "name": "stdout"
        }
      ]
    },
    {
      "cell_type": "code",
      "metadata": {
        "id": "05gRt2ZqN_RD",
        "colab": {
          "base_uri": "https://localhost:8080/"
        },
        "outputId": "56e60208-0e58-4b89-e88c-5c032c246122"
      },
      "source": [
        "WORKDIR = os.getcwd()\r\n",
        "PATH_TRAIN_DATA_K = WORKDIR + '/drive/MyDrive/SII/toxic_comment_dataset/train/train.csv'\r\n",
        "PATH_TEST_DATA_K = WORKDIR + '/drive/MyDrive/SII/toxic_comment_dataset/test/test.csv'\r\n",
        "\r\n",
        "PATH_TRAIN_DATA_TRAC = WORKDIR + '/drive/MyDrive/SII/trac1-dataset/english/agr_en_train.csv'\r\n",
        "PATH_TEST_DATA_TRAC = WORKDIR + '/drive/MyDrive/SII/trac1-dataset/english/agr_en_dev.csv'\r\n",
        "\r\n",
        "\r\n",
        "def get_train_data(path):\r\n",
        "  return pd.read_csv(path)\r\n",
        "\r\n",
        "def get_test_data(path):\r\n",
        "  return pd.read_csv(path)\r\n",
        "\r\n",
        "print('Nope')"
      ],
      "execution_count": null,
      "outputs": [
        {
          "output_type": "stream",
          "text": [
            "Nope\n"
          ],
          "name": "stdout"
        }
      ]
    },
    {
      "cell_type": "markdown",
      "metadata": {
        "id": "jYAiepXRepyf"
      },
      "source": [
        "Analyze the Kaggle competition dataset.\r\n",
        "\r\n",
        "As seen below, the dataset is unbalanced, most of the comments are non-toxic and\r\n",
        "many Kaggle users suspects that this can be a factor for the good results obtained while training using simple methods.\r\n"
      ]
    },
    {
      "cell_type": "code",
      "metadata": {
        "colab": {
          "base_uri": "https://localhost:8080/",
          "height": 209
        },
        "id": "S36ll0mUAtox",
        "outputId": "21d5654b-f7e1-4e0e-f2f2-e923632791c1"
      },
      "source": [
        "''' \r\n",
        "  Visualize the train data\r\n",
        "'''\r\n",
        "\r\n",
        "get_train_data(PATH_TRAIN_DATA_K).head()"
      ],
      "execution_count": null,
      "outputs": [
        {
          "output_type": "execute_result",
          "data": {
            "text/html": [
              "<div>\n",
              "<style scoped>\n",
              "    .dataframe tbody tr th:only-of-type {\n",
              "        vertical-align: middle;\n",
              "    }\n",
              "\n",
              "    .dataframe tbody tr th {\n",
              "        vertical-align: top;\n",
              "    }\n",
              "\n",
              "    .dataframe thead th {\n",
              "        text-align: right;\n",
              "    }\n",
              "</style>\n",
              "<table border=\"1\" class=\"dataframe\">\n",
              "  <thead>\n",
              "    <tr style=\"text-align: right;\">\n",
              "      <th></th>\n",
              "      <th>id</th>\n",
              "      <th>comment_text</th>\n",
              "      <th>toxic</th>\n",
              "      <th>severe_toxic</th>\n",
              "      <th>obscene</th>\n",
              "      <th>threat</th>\n",
              "      <th>insult</th>\n",
              "      <th>identity_hate</th>\n",
              "    </tr>\n",
              "  </thead>\n",
              "  <tbody>\n",
              "    <tr>\n",
              "      <th>0</th>\n",
              "      <td>0000997932d777bf</td>\n",
              "      <td>Explanation\\nWhy the edits made under my usern...</td>\n",
              "      <td>0</td>\n",
              "      <td>0</td>\n",
              "      <td>0</td>\n",
              "      <td>0</td>\n",
              "      <td>0</td>\n",
              "      <td>0</td>\n",
              "    </tr>\n",
              "    <tr>\n",
              "      <th>1</th>\n",
              "      <td>000103f0d9cfb60f</td>\n",
              "      <td>D'aww! He matches this background colour I'm s...</td>\n",
              "      <td>0</td>\n",
              "      <td>0</td>\n",
              "      <td>0</td>\n",
              "      <td>0</td>\n",
              "      <td>0</td>\n",
              "      <td>0</td>\n",
              "    </tr>\n",
              "    <tr>\n",
              "      <th>2</th>\n",
              "      <td>000113f07ec002fd</td>\n",
              "      <td>Hey man, I'm really not trying to edit war. It...</td>\n",
              "      <td>0</td>\n",
              "      <td>0</td>\n",
              "      <td>0</td>\n",
              "      <td>0</td>\n",
              "      <td>0</td>\n",
              "      <td>0</td>\n",
              "    </tr>\n",
              "    <tr>\n",
              "      <th>3</th>\n",
              "      <td>0001b41b1c6bb37e</td>\n",
              "      <td>\"\\nMore\\nI can't make any real suggestions on ...</td>\n",
              "      <td>0</td>\n",
              "      <td>0</td>\n",
              "      <td>0</td>\n",
              "      <td>0</td>\n",
              "      <td>0</td>\n",
              "      <td>0</td>\n",
              "    </tr>\n",
              "    <tr>\n",
              "      <th>4</th>\n",
              "      <td>0001d958c54c6e35</td>\n",
              "      <td>You, sir, are my hero. Any chance you remember...</td>\n",
              "      <td>0</td>\n",
              "      <td>0</td>\n",
              "      <td>0</td>\n",
              "      <td>0</td>\n",
              "      <td>0</td>\n",
              "      <td>0</td>\n",
              "    </tr>\n",
              "  </tbody>\n",
              "</table>\n",
              "</div>"
            ],
            "text/plain": [
              "                 id  ... identity_hate\n",
              "0  0000997932d777bf  ...             0\n",
              "1  000103f0d9cfb60f  ...             0\n",
              "2  000113f07ec002fd  ...             0\n",
              "3  0001b41b1c6bb37e  ...             0\n",
              "4  0001d958c54c6e35  ...             0\n",
              "\n",
              "[5 rows x 8 columns]"
            ]
          },
          "metadata": {
            "tags": []
          },
          "execution_count": 7
        }
      ]
    },
    {
      "cell_type": "code",
      "metadata": {
        "colab": {
          "base_uri": "https://localhost:8080/"
        },
        "id": "oi0aYL17BMCF",
        "outputId": "13f88037-bf2c-435f-dda8-afd6e5ce2c27"
      },
      "source": [
        "''' \r\n",
        "  Analyzing the data set\r\n",
        "'''\r\n",
        "\r\n",
        "train_data = get_train_data(PATH_TRAIN_DATA_K)\r\n",
        "print ('The data contains {} comments'.format(train_data.shape[0]))\r\n",
        "print ('Number of collumns: {}'.format(train_data.shape[1]))\r\n",
        "print ('Name of the columns in the dataset')\r\n",
        "print(train_data.columns.to_list())\r\n",
        "\r\n"
      ],
      "execution_count": null,
      "outputs": [
        {
          "output_type": "stream",
          "text": [
            "The data contains 159571 comments\n",
            "Number of collumns: 8\n",
            "Name of the columns in the dataset\n",
            "['id', 'comment_text', 'toxic', 'severe_toxic', 'obscene', 'threat', 'insult', 'identity_hate']\n"
          ],
          "name": "stdout"
        }
      ]
    },
    {
      "cell_type": "code",
      "metadata": {
        "colab": {
          "base_uri": "https://localhost:8080/"
        },
        "id": "i_85Njgvcr_B",
        "outputId": "5c4fcfeb-b34d-4dd6-9e1b-770fc6b226b6"
      },
      "source": [
        "data_numeric = ['toxic', 'severe_toxic', 'obscene', 'threat','insult', 'identity_hate']\r\n",
        "for i in data_numeric:\r\n",
        "    print(f\"Percentage of 1 and 0 in {i.upper()}\")\r\n",
        "    print(round(train_data[i].value_counts(1)*100,2))"
      ],
      "execution_count": null,
      "outputs": [
        {
          "output_type": "stream",
          "text": [
            "Percentage of 1 and 0 in TOXIC\n",
            "0    90.42\n",
            "1     9.58\n",
            "Name: toxic, dtype: float64\n",
            "Percentage of 1 and 0 in SEVERE_TOXIC\n",
            "0    99.0\n",
            "1     1.0\n",
            "Name: severe_toxic, dtype: float64\n",
            "Percentage of 1 and 0 in OBSCENE\n",
            "0    94.71\n",
            "1     5.29\n",
            "Name: obscene, dtype: float64\n",
            "Percentage of 1 and 0 in THREAT\n",
            "0    99.7\n",
            "1     0.3\n",
            "Name: threat, dtype: float64\n",
            "Percentage of 1 and 0 in INSULT\n",
            "0    95.06\n",
            "1     4.94\n",
            "Name: insult, dtype: float64\n",
            "Percentage of 1 and 0 in IDENTITY_HATE\n",
            "0    99.12\n",
            "1     0.88\n",
            "Name: identity_hate, dtype: float64\n"
          ],
          "name": "stdout"
        }
      ]
    },
    {
      "cell_type": "code",
      "metadata": {
        "colab": {
          "base_uri": "https://localhost:8080/",
          "height": 545
        },
        "id": "gUzS58EeBnkC",
        "outputId": "2db41f65-449b-4847-edb2-44ad546af607"
      },
      "source": [
        "import seaborn as sns\r\n",
        "%matplotlib inline\r\n",
        "import matplotlib.pyplot as plt\r\n",
        "\r\n",
        "plt.figure(figsize = (12,9))\r\n",
        "sns.heatmap(train_data.corr(),cmap='YlGnBu',annot=True)\r\n",
        "plt.show()"
      ],
      "execution_count": null,
      "outputs": [
        {
          "output_type": "display_data",
          "data": {
            "image/png": "[encoded data removed]",
            "text/plain": [
              "<Figure size 864x648 with 2 Axes>"
            ]
          },
          "metadata": {
            "tags": [],
            "needs_background": "light"
          }
        }
      ]
    },
    {
      "cell_type": "markdown",
      "metadata": {
        "id": "drqZjaOpmKy7"
      },
      "source": [
        "Analyzing the TRAC dataset, which has the following aggretion labels:\r\n",
        "NAG = Not-Agrresiv\r\n",
        "OAG = Overly-Agressive\r\n",
        "CAG = Covertly-Aggresive\r\n",
        "\r\n",
        "It seems more suitable for our task:\r\n"
      ]
    },
    {
      "cell_type": "code",
      "metadata": {
        "colab": {
          "base_uri": "https://localhost:8080/",
          "height": 209
        },
        "id": "ISifu4SraK4U",
        "outputId": "3ca52a00-24b2-4b99-ff9e-85206b65f799"
      },
      "source": [
        "''' \r\n",
        "  Visualize the train data from TRAC\r\n",
        "'''\r\n",
        "\r\n",
        "train_data_trac = get_train_data(PATH_TRAIN_DATA_TRAC)\r\n",
        "train_data_trac.columns = ['unique_id', 'text', 'agression_level']\r\n",
        "train_data_trac.head()"
      ],
      "execution_count": null,
      "outputs": [
        {
          "output_type": "execute_result",
          "data": {
            "text/html": [
              "<div>\n",
              "<style scoped>\n",
              "    .dataframe tbody tr th:only-of-type {\n",
              "        vertical-align: middle;\n",
              "    }\n",
              "\n",
              "    .dataframe tbody tr th {\n",
              "        vertical-align: top;\n",
              "    }\n",
              "\n",
              "    .dataframe thead th {\n",
              "        text-align: right;\n",
              "    }\n",
              "</style>\n",
              "<table border=\"1\" class=\"dataframe\">\n",
              "  <thead>\n",
              "    <tr style=\"text-align: right;\">\n",
              "      <th></th>\n",
              "      <th>unique_id</th>\n",
              "      <th>text</th>\n",
              "      <th>agression_level</th>\n",
              "    </tr>\n",
              "  </thead>\n",
              "  <tbody>\n",
              "    <tr>\n",
              "      <th>0</th>\n",
              "      <td>facebook_corpus_msr_466073</td>\n",
              "      <td>Most of Private Banks ATM's Like HDFC, ICICI e...</td>\n",
              "      <td>NAG</td>\n",
              "    </tr>\n",
              "    <tr>\n",
              "      <th>1</th>\n",
              "      <td>facebook_corpus_msr_1493901</td>\n",
              "      <td>Now question is, Pakistan will adhere to this?</td>\n",
              "      <td>OAG</td>\n",
              "    </tr>\n",
              "    <tr>\n",
              "      <th>2</th>\n",
              "      <td>facebook_corpus_msr_405512</td>\n",
              "      <td>Pakistan is comprised of fake muslims who does...</td>\n",
              "      <td>OAG</td>\n",
              "    </tr>\n",
              "    <tr>\n",
              "      <th>3</th>\n",
              "      <td>facebook_corpus_msr_1521685</td>\n",
              "      <td>??we r against cow slaughter,so of course it w...</td>\n",
              "      <td>NAG</td>\n",
              "    </tr>\n",
              "    <tr>\n",
              "      <th>4</th>\n",
              "      <td>facebook_corpus_msr_462570</td>\n",
              "      <td>Wondering why Educated Ambassador is strugglin...</td>\n",
              "      <td>CAG</td>\n",
              "    </tr>\n",
              "  </tbody>\n",
              "</table>\n",
              "</div>"
            ],
            "text/plain": [
              "                     unique_id  ... agression_level\n",
              "0   facebook_corpus_msr_466073  ...             NAG\n",
              "1  facebook_corpus_msr_1493901  ...             OAG\n",
              "2   facebook_corpus_msr_405512  ...             OAG\n",
              "3  facebook_corpus_msr_1521685  ...             NAG\n",
              "4   facebook_corpus_msr_462570  ...             CAG\n",
              "\n",
              "[5 rows x 3 columns]"
            ]
          },
          "metadata": {
            "tags": []
          },
          "execution_count": 11
        }
      ]
    },
    {
      "cell_type": "code",
      "metadata": {
        "colab": {
          "base_uri": "https://localhost:8080/"
        },
        "id": "_ZsZQpLEgQWT",
        "outputId": "a29ebf92-adcf-4b81-e87e-e8ba65873a7e"
      },
      "source": [
        "print ('The data contains {} comments'.format(train_data_trac.shape[0]))\r\n",
        "print ('Number of collumns: {}'.format(train_data_trac.shape[1]))\r\n",
        "print ('Name of the columns in the dataset')\r\n",
        "print(train_data_trac.columns.to_list())"
      ],
      "execution_count": null,
      "outputs": [
        {
          "output_type": "stream",
          "text": [
            "The data contains 11998 comments\n",
            "Number of collumns: 3\n",
            "Name of the columns in the dataset\n",
            "['unique_id', 'text', 'agression_level']\n"
          ],
          "name": "stdout"
        }
      ]
    },
    {
      "cell_type": "code",
      "metadata": {
        "colab": {
          "base_uri": "https://localhost:8080/"
        },
        "id": "Z66RLyvLh8al",
        "outputId": "b5035b20-170f-4c19-b56e-3fb7ee90fe2a"
      },
      "source": [
        "print('Value proportion of agression level:')\r\n",
        "print(train_data_trac['agression_level'].value_counts(normalize=True) * 100)"
      ],
      "execution_count": null,
      "outputs": [
        {
          "output_type": "stream",
          "text": [
            "Value proportion of agression level:\n",
            "NAG    42.098683\n",
            "CAG    35.339223\n",
            "OAG    22.562094\n",
            "Name: agression_level, dtype: float64\n"
          ],
          "name": "stdout"
        }
      ]
    },
    {
      "cell_type": "markdown",
      "metadata": {
        "id": "mpfimo1wmlHE"
      },
      "source": [
        "Next step is to clean the datasets:"
      ]
    },
    {
      "cell_type": "code",
      "metadata": {
        "id": "e0RMgvV4kAzs"
      },
      "source": [
        "import re\r\n",
        "import string                             \r\n",
        "\r\n",
        "from nltk.corpus import stopwords\r\n",
        "from nltk.stem import WordNetLemmatizer\r\n",
        "from nltk.tokenize import TweetTokenizer \r\n",
        "\r\n",
        "\r\n",
        "def clean_data(data):\r\n",
        "    punct_tag=re.compile(r'[\\.,!?;:]+')\r\n",
        "    data=punct_tag.sub(r'',data)\r\n",
        "\r\n",
        "    html_tag=re.compile(r'<.*?>')\r\n",
        "    data=html_tag.sub(r'',data)\r\n",
        "\r\n",
        "    url_clean= re.compile(r'(?i)(?:(?:http(?:s)?:)|(?:www\\.))\\S+')\r\n",
        "    data=url_clean.sub(r'',data)\r\n",
        "\r\n",
        "    # spaces_clean= re.compile(r'\\s\\s+')\r\n",
        "    # data=spaces_clean.sub(r'',data)\r\n",
        "\r\n",
        "    # newlines_clean = re.compile(r'[\\r|\\n|\\r\\n]+')\r\n",
        "    # data = newlines_clean.sub(r'', data)\r\n",
        "\r\n",
        "    #TODO: see if punctuations can help\r\n",
        "    punctuations_clean = re.compile(r'[\\.,!?;:]+')\r\n",
        "    data = punctuations_clean.sub(r'', data)\r\n",
        "\r\n",
        "    emoji_clean= re.compile(\"[\"\r\n",
        "                           u\"\\U0001F600-\\U0001F64F\"  # emoticons\r\n",
        "                           u\"\\U0001F300-\\U0001F5FF\"  # symbols & pictographs\r\n",
        "                           u\"\\U0001F680-\\U0001F6FF\"  # transport & map symbols\r\n",
        "                           u\"\\U0001F1E0-\\U0001F1FF\"  # flags (iOS)\r\n",
        "                           u\"\\U00002702-\\U000027B0\"\r\n",
        "                           u\"\\U000024C2-\\U0001F251\"\r\n",
        "                           \"]+\", flags=re.UNICODE)\r\n",
        "    data=emoji_clean.sub(r'',data)\r\n",
        "\r\n",
        "    #TODO: make use of the emoji symbols?\r\n",
        "    #TODO: expand abrevviations?\r\n",
        "\r\n",
        "    return data\r\n",
        "\r\n",
        "def apply_clean_data(data, tag):\r\n",
        "  data[tag] = data[tag].apply(lambda z: clean_data(z))\r\n",
        "\r\n",
        "    \r\n",
        "def add_clean_field_K(data):\r\n",
        "  data['clean'] = np.where((data['toxic']==0) & \r\n",
        "                           (data['severe_toxic']==0) &\r\n",
        "                           (data['obscene']==0) &\r\n",
        "                           (data['threat']==0) & \r\n",
        "                           (data['insult']==0) & \r\n",
        "                           (data['identity_hate']==0), 1,0)\r\n",
        "  \r\n",
        "def lemm_data(comment):\r\n",
        "  lemm = WordNetLemmatizer()\r\n",
        "  lemm_words =\" \".join([lemm.lemmatize(word) for word in comment.split()]) \r\n",
        "  return lemm_words\r\n",
        "\r\n",
        "def apply_lemm_data(data, tag):\r\n",
        "  data[tag]=data[tag].apply(lambda z: lemm_data(z))\r\n",
        "\r\n"
      ],
      "execution_count": null,
      "outputs": []
    },
    {
      "cell_type": "code",
      "metadata": {
        "colab": {
          "base_uri": "https://localhost:8080/"
        },
        "id": "zutsMKHkjH-Q",
        "outputId": "d26d7d8d-2965-48ef-d762-865f5d22e5fd"
      },
      "source": [
        "import nltk\r\n",
        "nltk.download('wordnet')"
      ],
      "execution_count": null,
      "outputs": [
        {
          "output_type": "stream",
          "text": [
            "[nltk_data] Downloading package wordnet to /root/nltk_data...\n",
            "[nltk_data]   Package wordnet is already up-to-date!\n"
          ],
          "name": "stdout"
        },
        {
          "output_type": "execute_result",
          "data": {
            "text/plain": [
              "True"
            ]
          },
          "metadata": {
            "tags": []
          },
          "execution_count": 16
        }
      ]
    },
    {
      "cell_type": "code",
      "metadata": {
        "colab": {
          "base_uri": "https://localhost:8080/",
          "height": 114
        },
        "id": "pUhnP91WkNnR",
        "outputId": "f7955145-85bd-4ba3-de90-9954a9b70b62"
      },
      "source": [
        "kaggle_data = get_train_data(PATH_TRAIN_DATA_K)\r\n",
        "apply_clean_data(kaggle_data,'comment_text')\r\n",
        "add_clean_field_K(kaggle_data)\r\n",
        "apply_lemm_data(kaggle_data, 'comment_text')\r\n",
        "train_data.head(2)\r\n"
      ],
      "execution_count": null,
      "outputs": [
        {
          "output_type": "execute_result",
          "data": {
            "text/html": [
              "<div>\n",
              "<style scoped>\n",
              "    .dataframe tbody tr th:only-of-type {\n",
              "        vertical-align: middle;\n",
              "    }\n",
              "\n",
              "    .dataframe tbody tr th {\n",
              "        vertical-align: top;\n",
              "    }\n",
              "\n",
              "    .dataframe thead th {\n",
              "        text-align: right;\n",
              "    }\n",
              "</style>\n",
              "<table border=\"1\" class=\"dataframe\">\n",
              "  <thead>\n",
              "    <tr style=\"text-align: right;\">\n",
              "      <th></th>\n",
              "      <th>id</th>\n",
              "      <th>comment_text</th>\n",
              "      <th>toxic</th>\n",
              "      <th>severe_toxic</th>\n",
              "      <th>obscene</th>\n",
              "      <th>threat</th>\n",
              "      <th>insult</th>\n",
              "      <th>identity_hate</th>\n",
              "    </tr>\n",
              "  </thead>\n",
              "  <tbody>\n",
              "    <tr>\n",
              "      <th>0</th>\n",
              "      <td>0000997932d777bf</td>\n",
              "      <td>Explanation\\nWhy the edits made under my usern...</td>\n",
              "      <td>0</td>\n",
              "      <td>0</td>\n",
              "      <td>0</td>\n",
              "      <td>0</td>\n",
              "      <td>0</td>\n",
              "      <td>0</td>\n",
              "    </tr>\n",
              "    <tr>\n",
              "      <th>1</th>\n",
              "      <td>000103f0d9cfb60f</td>\n",
              "      <td>D'aww! He matches this background colour I'm s...</td>\n",
              "      <td>0</td>\n",
              "      <td>0</td>\n",
              "      <td>0</td>\n",
              "      <td>0</td>\n",
              "      <td>0</td>\n",
              "      <td>0</td>\n",
              "    </tr>\n",
              "  </tbody>\n",
              "</table>\n",
              "</div>"
            ],
            "text/plain": [
              "                 id  ... identity_hate\n",
              "0  0000997932d777bf  ...             0\n",
              "1  000103f0d9cfb60f  ...             0\n",
              "\n",
              "[2 rows x 8 columns]"
            ]
          },
          "metadata": {
            "tags": []
          },
          "execution_count": 17
        }
      ]
    },
    {
      "cell_type": "code",
      "metadata": {
        "colab": {
          "base_uri": "https://localhost:8080/"
        },
        "id": "sTrboMhAdHyJ",
        "outputId": "bd10a45b-3901-4b58-a430-1030c7b0f5a9"
      },
      "source": [
        "from sklearn.feature_extraction.text import CountVectorizer,TfidfVectorizer\r\n",
        "from sklearn.model_selection import train_test_split\r\n",
        "\r\n",
        "labels = [\"toxic\", \"severe_toxic\", \"obscene\", \"threat\", \"insult\", \"identity_hate\"]\r\n",
        "\r\n",
        "tfidf_vect = TfidfVectorizer(stop_words='english',ngram_range=(1,3))\r\n",
        "train_data_X, test_data_X, train_data_Y, test_data_Y= train_test_split(kaggle_data['comment_text'], kaggle_data[labels], test_size=0.2, random_state=23)\r\n",
        "\r\n",
        "train_data_X = tfidf_vect.fit_transform(train_data_X)\r\n",
        "# train_data_Y = kaggle_train_data[labels].values\r\n",
        "\r\n",
        "test_data_X = tfidf_vect.transform(test_data_X)\r\n",
        "# test_data_Y = kaggle_test_data[labels].values\r\n",
        "\r\n",
        "print('Final Data dimensions after transformations:', train_data_X.shape, train_data_Y.shape, test_data_X.shape, test_data_Y.shape)"
      ],
      "execution_count": null,
      "outputs": [
        {
          "output_type": "stream",
          "text": [
            "Final Data dimensions after transformations: (127656, 5480967) (127656, 6) (31915, 5480967) (31915, 6)\n"
          ],
          "name": "stdout"
        }
      ]
    },
    {
      "cell_type": "code",
      "metadata": {
        "id": "3zz_uoRrCFVW"
      },
      "source": [
        "from sklearn.linear_model import LogisticRegression\r\n",
        "from sklearn.multiclass import OneVsRestClassifier\r\n",
        "from sklearn.naive_bayes import MultinomialNB\r\n",
        "from sklearn.metrics import roc_auc_score\r\n",
        "\r\n",
        "model = OneVsRestClassifier(LogisticRegression(), n_jobs = -1)\r\n",
        "model.fit(train_data_X, train_data_Y)\r\n",
        "print('model: Logistic Regression')\r\n",
        "print('mean ROC-AUC on train set:', roc_auc_score(train_data_Y, model.predict_proba(train_data_X)))\r\n",
        "y_pred_log = model.predict_proba(test_data_X)\r\n",
        "print('mean ROC-AUC on validation set:', roc_auc_score(test_data_Y, y_pred_log))"
      ],
      "execution_count": null,
      "outputs": []
    },
    {
      "cell_type": "code",
      "metadata": {
        "id": "dv4e2lVakLZ1"
      },
      "source": [
        "model = OneVsRestClassifier(MultinomialNB(), n_jobs = -1)\r\n",
        "model.fit(train_data_X, train_data_Y)\r\n",
        "print('model: Multinomial Naive Bayes')\r\n",
        "print('mean ROC-AUC on train set:', roc_auc_score(train_data_Y, model.predict_proba(train_data_X)))\r\n",
        "y_pred_log = model.predict_proba(test_data_X)\r\n",
        "print('mean ROC-AUC on validation set:', roc_auc_score(test_data_Y, y_pred_log))"
      ],
      "execution_count": null,
      "outputs": []
    },
    {
      "cell_type": "markdown",
      "metadata": {
        "id": "L__nnmCBlhcx"
      },
      "source": [
        "Am folosit două modele de bază în clasificare, NB și Logistic Regression. Concluziile sunt următoarele:\r\n",
        "\r\n",
        "\r\n",
        "1.  Se obține ușor o performanță ridicată\r\n",
        "2.  Se poate îmbunătăți, dar se pune întreabarea dacă  soluția găsită ar avea un caracter relativ general sau va fi specifică acestui set de date.\r\n",
        "3. Se ia în calcul posibilitatea alterăii setului de date și idebtificarea problemei care conduce la acest rezultat.\r\n",
        "\r\n",
        "\r\n",
        "\r\n",
        "\r\n"
      ]
    },
    {
      "cell_type": "code",
      "metadata": {
        "colab": {
          "base_uri": "https://localhost:8080/",
          "height": 114
        },
        "id": "xBe_eYgzY7JR",
        "outputId": "c58f2405-d3b5-407d-b7f2-9fcfbf7fd070"
      },
      "source": [
        "def add_columns_name_trac(data):\r\n",
        "  data.columns = ['unique_id', 'text', 'agression_level']\r\n",
        "\r\n",
        "\r\n",
        "trac_train_data = get_train_data(PATH_TRAIN_DATA_TRAC)\r\n",
        "add_columns_name_trac(trac_train_data)\r\n",
        "apply_clean_data(trac_train_data,'text')\r\n",
        "apply_lemm_data(trac_train_data, 'text')\r\n",
        "trac_train_data.head(2)\r\n"
      ],
      "execution_count": null,
      "outputs": [
        {
          "output_type": "execute_result",
          "data": {
            "text/html": [
              "<div>\n",
              "<style scoped>\n",
              "    .dataframe tbody tr th:only-of-type {\n",
              "        vertical-align: middle;\n",
              "    }\n",
              "\n",
              "    .dataframe tbody tr th {\n",
              "        vertical-align: top;\n",
              "    }\n",
              "\n",
              "    .dataframe thead th {\n",
              "        text-align: right;\n",
              "    }\n",
              "</style>\n",
              "<table border=\"1\" class=\"dataframe\">\n",
              "  <thead>\n",
              "    <tr style=\"text-align: right;\">\n",
              "      <th></th>\n",
              "      <th>unique_id</th>\n",
              "      <th>text</th>\n",
              "      <th>agression_level</th>\n",
              "    </tr>\n",
              "  </thead>\n",
              "  <tbody>\n",
              "    <tr>\n",
              "      <th>0</th>\n",
              "      <td>facebook_corpus_msr_466073</td>\n",
              "      <td>Most of Private Banks ATM's Like HDFC ICICI et...</td>\n",
              "      <td>NAG</td>\n",
              "    </tr>\n",
              "    <tr>\n",
              "      <th>1</th>\n",
              "      <td>facebook_corpus_msr_1493901</td>\n",
              "      <td>Now question is Pakistan will adhere to this</td>\n",
              "      <td>OAG</td>\n",
              "    </tr>\n",
              "  </tbody>\n",
              "</table>\n",
              "</div>"
            ],
            "text/plain": [
              "                     unique_id  ... agression_level\n",
              "0   facebook_corpus_msr_466073  ...             NAG\n",
              "1  facebook_corpus_msr_1493901  ...             OAG\n",
              "\n",
              "[2 rows x 3 columns]"
            ]
          },
          "metadata": {
            "tags": []
          },
          "execution_count": 19
        }
      ]
    },
    {
      "cell_type": "code",
      "metadata": {
        "colab": {
          "base_uri": "https://localhost:8080/",
          "height": 112
        },
        "id": "mNI6gJ2spqui",
        "outputId": "149bda51-e2c1-4aff-fd7d-c685726eb8bc"
      },
      "source": [
        "trac_test_data = get_train_data(PATH_TEST_DATA_TRAC)\r\n",
        "add_columns_name_trac(trac_test_data)\r\n",
        "apply_clean_data(trac_test_data,'text')\r\n",
        "apply_lemm_data(trac_test_data, 'text')\r\n",
        "trac_test_data.head(2)"
      ],
      "execution_count": null,
      "outputs": [
        {
          "output_type": "execute_result",
          "data": {
            "text/html": [
              "<div>\n",
              "<style scoped>\n",
              "    .dataframe tbody tr th:only-of-type {\n",
              "        vertical-align: middle;\n",
              "    }\n",
              "\n",
              "    .dataframe tbody tr th {\n",
              "        vertical-align: top;\n",
              "    }\n",
              "\n",
              "    .dataframe thead th {\n",
              "        text-align: right;\n",
              "    }\n",
              "</style>\n",
              "<table border=\"1\" class=\"dataframe\">\n",
              "  <thead>\n",
              "    <tr style=\"text-align: right;\">\n",
              "      <th></th>\n",
              "      <th>unique_id</th>\n",
              "      <th>text</th>\n",
              "      <th>agression_level</th>\n",
              "    </tr>\n",
              "  </thead>\n",
              "  <tbody>\n",
              "    <tr>\n",
              "      <th>0</th>\n",
              "      <td>facebook_corpus_msr_334368</td>\n",
              "      <td>@siva How is ur mother How is ur wife How is u...</td>\n",
              "      <td>NAG</td>\n",
              "    </tr>\n",
              "    <tr>\n",
              "      <th>1</th>\n",
              "      <td>facebook_corpus_msr_331195</td>\n",
              "      <td>Also see hw ur RSS activist caught in Burkha t...</td>\n",
              "      <td>NAG</td>\n",
              "    </tr>\n",
              "  </tbody>\n",
              "</table>\n",
              "</div>"
            ],
            "text/plain": [
              "                    unique_id  ... agression_level\n",
              "0  facebook_corpus_msr_334368  ...             NAG\n",
              "1  facebook_corpus_msr_331195  ...             NAG\n",
              "\n",
              "[2 rows x 3 columns]"
            ]
          },
          "metadata": {
            "tags": []
          },
          "execution_count": 16
        }
      ]
    },
    {
      "cell_type": "code",
      "metadata": {
        "id": "KQH11HB4BAxu"
      },
      "source": [
        "labels_trac = ['NAG', 'OAG', 'CAG']\r\n",
        "\r\n",
        "for label in labels_trac:\r\n",
        "  trac_train_data[label] = np.where(trac_train_data['agression_level'] == label, 1, 0)\r\n",
        "  trac_test_data[label] = np.where(trac_test_data['agression_level'] == label, 1, 0)\r\n",
        "\r\n",
        "trac_test_data.head(10)\r\n",
        "\r\n",
        "1000\r\n"
      ],
      "execution_count": null,
      "outputs": []
    },
    {
      "cell_type": "code",
      "metadata": {
        "colab": {
          "base_uri": "https://localhost:8080/"
        },
        "id": "DZyPqjl9pE5y",
        "outputId": "0fa56759-e984-43be-e134-81b4671a9d28"
      },
      "source": [
        "tfidf_vect = TfidfVectorizer(stop_words='english',ngram_range=(1,3))\r\n",
        "\r\n",
        "train_data_X = tfidf_vect.fit_transform(trac_train_data['text'])\r\n",
        "train_data_Y = trac_train_data[labels_trac]\r\n",
        "\r\n",
        "test_data_X = tfidf_vect.transform(trac_test_data['text'])\r\n",
        "test_data_Y = trac_test_data[labels_trac]\r\n",
        "\r\n",
        "print('Final Data dimensions after transformations:', train_data_X.shape, train_data_Y.shape, test_data_X.shape, test_data_Y.shape)"
      ],
      "execution_count": null,
      "outputs": [
        {
          "output_type": "stream",
          "text": [
            "Final Data dimensions after transformations: (11998, 251202) (11998, 3) (3000, 251202) (3000, 3)\n"
          ],
          "name": "stdout"
        }
      ]
    },
    {
      "cell_type": "code",
      "metadata": {
        "colab": {
          "base_uri": "https://localhost:8080/"
        },
        "id": "TCcLiWa2qkPz",
        "outputId": "71eb2f59-e523-403e-cc7b-8df17e3fe634"
      },
      "source": [
        "model = OneVsRestClassifier(LogisticRegression(), n_jobs = -1)\r\n",
        "model.fit(train_data_X, train_data_Y)\r\n",
        "print('model: Logistic Regression')\r\n",
        "print('mean ROC-AUC on train set:', roc_auc_score(train_data_Y, model.predict_proba(train_data_X)))\r\n",
        "y_pred_log = model.predict_proba(test_data_X)\r\n",
        "print('mean ROC-AUC on validation set:', roc_auc_score(test_data_Y, y_pred_log))"
      ],
      "execution_count": null,
      "outputs": [
        {
          "output_type": "stream",
          "text": [
            "model: Logistic Regression\n",
            "mean ROC-AUC on train set: 0.9874671675932106\n",
            "mean ROC-AUC on validation set: 0.7521452580785294\n"
          ],
          "name": "stdout"
        }
      ]
    },
    {
      "cell_type": "code",
      "metadata": {
        "colab": {
          "base_uri": "https://localhost:8080/"
        },
        "id": "bbvjZwIbrPEX",
        "outputId": "b7f1232f-6c8f-4393-9660-e7dee4e3cbf9"
      },
      "source": [
        "model = OneVsRestClassifier(MultinomialNB(), n_jobs = -1)\r\n",
        "model.fit(train_data_X, train_data_Y)\r\n",
        "print('model: Multinomial Naive Bayes')\r\n",
        "print('mean ROC-AUC on train set:', roc_auc_score(train_data_Y, model.predict_proba(train_data_X)))\r\n",
        "y_pred_log = model.predict_proba(test_data_X)\r\n",
        "print('mean ROC-AUC on validation set:', roc_auc_score(test_data_Y, y_pred_log))"
      ],
      "execution_count": null,
      "outputs": [
        {
          "output_type": "stream",
          "text": [
            "model: Multinomial Naive Bayes\n",
            "mean ROC-AUC on train set: 0.9920713419683155\n",
            "mean ROC-AUC on validation set: 0.7162127197341128\n"
          ],
          "name": "stdout"
        }
      ]
    },
    {
      "cell_type": "markdown",
      "metadata": {
        "id": "s7ZPpYhDrT2O"
      },
      "source": [
        "Rezultatele sunt putin mai slabe pentru setul de testare, insa suficient de bune.\r\n",
        "\r\n",
        "Urmatorul pas este ca setul pe care am testat acum sa devina setul de validare,\r\n",
        "iar performanta sa va masura pe alte două seturi de date puse la dispozitie:\r\n",
        "\r\n",
        "\r\n",
        "1.   Cel cu comentarii de pe facebook\r\n",
        "2.   Ce cu comenatrii de pw twitter\r\n",
        "\r\n"
      ]
    },
    {
      "cell_type": "code",
      "metadata": {
        "id": "A8ovMqxerQ0a"
      },
      "source": [
        "from tensorflow.keras.models import Sequential\r\n",
        "from tensorflow.keras.layers import LSTM\r\n",
        "from tensorflow.keras.preprocessing.text import Tokenizer\r\n",
        "from tensorflow.keras.preprocessing.sequence import pad_sequences\r\n",
        "from tensorflow.keras.layers import Dense, Embedding, Dropout, Activation, Input\r\n",
        "from tensorflow.keras.layers import Bidirectional, GlobalMaxPool1D\r\n",
        "from tensorflow.keras import initializers, regularizers, constraints, optimizers, layers\r\n",
        "from sklearn.model_selection import train_test_split\r\n",
        "%matplotlib inline\r\n",
        "\r\n",
        "max_length=200\r\n",
        "max_features=20000\r\n",
        "\r\n",
        "class lstm_model(object):\r\n",
        "    def __init__(self,max_features=20000):\r\n",
        "        self.max_features=max_features\r\n",
        "        self.model=Sequential()\r\n",
        "        self.model.add(Input(shape=max_length,))\r\n",
        "        self.model.add(Embedding(self.max_features,128))\r\n",
        "        self.model.add(Bidirectional(LSTM(50, return_sequences=True,recurrent_dropout=0)))\r\n",
        "        self.model.add(Bidirectional(LSTM(50, return_sequences=True,recurrent_dropout=0)))\r\n",
        "        self.model.add(GlobalMaxPool1D())\r\n",
        "        self.model.add(Dense(1,activation='tanh'))\r\n",
        "        self.model.compile(loss='binary_crossentropy',optimizer='adam',metrics=['accuracy'])\r\n",
        "        \r\n",
        "    def fit(self,X,y,batchsize,epochs):\r\n",
        "\r\n",
        "        self.model.fit(X,y, batch_size=batchsize, epochs=epochs, validation_split=0.2)\r\n",
        "        \r\n",
        "    def predict(self,data):\r\n",
        "        return self.model.predict(data)\r\n",
        "        \r\n",
        "    \r\n",
        "    def predict_classes(self,data):\r\n",
        "        return self.model.predict_classes(data)\r\n",
        "\r\n",
        "    def summary(self):\r\n",
        "        return self.model.summary()\r\n",
        "        "
      ],
      "execution_count": null,
      "outputs": []
    },
    {
      "cell_type": "code",
      "metadata": {
        "colab": {
          "base_uri": "https://localhost:8080/",
          "height": 532
        },
        "id": "hhUPNZHOz2hy",
        "outputId": "1f2ccca4-bc59-476a-a348-9f2e3b3de350"
      },
      "source": [
        "toxic_model=lstm_model()\r\n",
        "toxic_model.summary()\r\n",
        "toxic_model.fit(train_data_X.toarray(), train_data_Y.toarray() ,batchsize=100,epochs=4)"
      ],
      "execution_count": null,
      "outputs": [
        {
          "output_type": "stream",
          "text": [
            "Model: \"sequential_2\"\n",
            "_________________________________________________________________\n",
            "Layer (type)                 Output Shape              Param #   \n",
            "=================================================================\n",
            "embedding_2 (Embedding)      (None, 200, 128)          2560000   \n",
            "_________________________________________________________________\n",
            "bidirectional_4 (Bidirection (None, 200, 100)          71600     \n",
            "_________________________________________________________________\n",
            "bidirectional_5 (Bidirection (None, 200, 100)          60400     \n",
            "_________________________________________________________________\n",
            "global_max_pooling1d_2 (Glob (None, 100)               0         \n",
            "_________________________________________________________________\n",
            "dense_2 (Dense)              (None, 1)                 101       \n",
            "=================================================================\n",
            "Total params: 2,692,101\n",
            "Trainable params: 2,692,101\n",
            "Non-trainable params: 0\n",
            "_________________________________________________________________\n"
          ],
          "name": "stdout"
        },
        {
          "output_type": "error",
          "ename": "NameError",
          "evalue": "ignored",
          "traceback": [
            "\u001b[0;31m---------------------------------------------------------------------------\u001b[0m",
            "\u001b[0;31mNameError\u001b[0m                                 Traceback (most recent call last)",
            "\u001b[0;32m<ipython-input-11-843b04454853>\u001b[0m in \u001b[0;36m<module>\u001b[0;34m()\u001b[0m\n\u001b[1;32m      1\u001b[0m \u001b[0mtoxic_model\u001b[0m\u001b[0;34m=\u001b[0m\u001b[0mlstm_model\u001b[0m\u001b[0;34m(\u001b[0m\u001b[0;34m)\u001b[0m\u001b[0;34m\u001b[0m\u001b[0;34m\u001b[0m\u001b[0m\n\u001b[1;32m      2\u001b[0m \u001b[0mtoxic_model\u001b[0m\u001b[0;34m.\u001b[0m\u001b[0msummary\u001b[0m\u001b[0;34m(\u001b[0m\u001b[0;34m)\u001b[0m\u001b[0;34m\u001b[0m\u001b[0;34m\u001b[0m\u001b[0m\n\u001b[0;32m----> 3\u001b[0;31m \u001b[0mtoxic_model\u001b[0m\u001b[0;34m.\u001b[0m\u001b[0mfit\u001b[0m\u001b[0;34m(\u001b[0m\u001b[0mtrain_data_X\u001b[0m\u001b[0;34m.\u001b[0m\u001b[0mtoarray\u001b[0m\u001b[0;34m(\u001b[0m\u001b[0;34m)\u001b[0m\u001b[0;34m,\u001b[0m \u001b[0mtrain_data_Y\u001b[0m\u001b[0;34m.\u001b[0m\u001b[0mtoarray\u001b[0m\u001b[0;34m(\u001b[0m\u001b[0;34m)\u001b[0m \u001b[0;34m,\u001b[0m\u001b[0mbatchsize\u001b[0m\u001b[0;34m=\u001b[0m\u001b[0;36m100\u001b[0m\u001b[0;34m,\u001b[0m\u001b[0mepochs\u001b[0m\u001b[0;34m=\u001b[0m\u001b[0;36m4\u001b[0m\u001b[0;34m)\u001b[0m\u001b[0;34m\u001b[0m\u001b[0;34m\u001b[0m\u001b[0m\n\u001b[0m",
            "\u001b[0;31mNameError\u001b[0m: name 'train_data_X' is not defined"
          ]
        }
      ]
    },
    {
      "cell_type": "code",
      "metadata": {
        "id": "ULsyavLs3IoD"
      },
      "source": [
        ""
      ],
      "execution_count": null,
      "outputs": []
    }
  ]
}