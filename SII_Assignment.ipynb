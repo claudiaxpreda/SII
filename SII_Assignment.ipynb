{
  "nbformat": 4,
  "nbformat_minor": 0,
  "metadata": {
    "colab": {
      "name": "SII-Assignment.ipynb",
      "provenance": [],
      "collapsed_sections": [],
      "mount_file_id": "1O7gFYjAQQmSo8wgtjtE-4pOhNfBX5Apd",
      "authorship_tag": "ABX9TyPEqNZXCf4iH191KE/JqGcd",
      "include_colab_link": true
    },
    "kernelspec": {
      "name": "python3",
      "display_name": "Python 3"
    },
    "accelerator": "GPU"
  },
  "cells": [
    {
      "cell_type": "markdown",
      "metadata": {
        "id": "view-in-github",
        "colab_type": "text"
      },
      "source": [
        "<a href=\"https://colab.research.google.com/github/claudiaxpreda/SII/blob/main/SII_Assignment.ipynb\" target=\"_parent\"><img src=\"https://colab.research.google.com/assets/colab-badge.svg\" alt=\"Open In Colab\"/></a>"
      ]
    },
    {
      "cell_type": "code",
      "metadata": {
        "id": "0gm8mQLZL6wN"
      },
      "source": [
        "import os\n",
        "import pandas as pd\n",
        "import numpy as np\n",
        "import matplotlib.pyplot as plt\n",
        "\n",
        "import gensim \n",
        "from gensim.models import Word2Vec\n",
        "from tqdm import tqdm\n",
        "\n",
        "import tensorflow as tf\n",
        "\n",
        "from tensorflow.keras.layers import Embedding, LSTM, Dense, Dropout, Lambda, Flatten\n",
        "from tensorflow.keras.models import Sequential, load_model, model_from_config\n",
        "from tensorflow.keras.preprocessing.text import Tokenizer\n",
        "from tensorflow.keras.preprocessing.sequence import pad_sequences\n",
        "\n",
        "from tensorflow.keras.callbacks import EarlyStopping, ModelCheckpoint\n"
      ],
      "execution_count": 1,
      "outputs": []
    },
    {
      "cell_type": "code",
      "metadata": {
        "colab": {
          "base_uri": "https://localhost:8080/"
        },
        "id": "m1MM4hjaN5Ml",
        "outputId": "13d17799-b30a-4a6e-c33c-12eb861ebba3"
      },
      "source": [
        "import nltk\n",
        "from nltk.tokenize import word_tokenize\n",
        "nltk.download(\"punkt\")"
      ],
      "execution_count": 2,
      "outputs": [
        {
          "output_type": "stream",
          "text": [
            "[nltk_data] Downloading package punkt to /root/nltk_data...\n",
            "[nltk_data]   Package punkt is already up-to-date!\n"
          ],
          "name": "stdout"
        },
        {
          "output_type": "execute_result",
          "data": {
            "text/plain": [
              "True"
            ]
          },
          "metadata": {
            "tags": []
          },
          "execution_count": 2
        }
      ]
    },
    {
      "cell_type": "code",
      "metadata": {
        "id": "lm-JR6BY3As9"
      },
      "source": [
        "# !wget http://nlp.stanford.edu/data/glove.6B.zip\n",
        "# !unzip glove*.zip"
      ],
      "execution_count": 3,
      "outputs": []
    },
    {
      "cell_type": "code",
      "metadata": {
        "id": "WLuAi8ofK_wt"
      },
      "source": [
        "WORKDIR = os.getcwd()\n",
        "FILES_PATH = WORKDIR + '/drive/MyDrive/SII/SII-Challenge/'\n"
      ],
      "execution_count": 4,
      "outputs": []
    },
    {
      "cell_type": "code",
      "metadata": {
        "id": "krgCj6nyMR7e"
      },
      "source": [
        "DEV_NAME = 'referate-dev.json'\n",
        "TRAIN_NAME = 'referate-train.json'\n",
        "TEST_DEV = 'referate-test.json'\n",
        "\n",
        "def get_frame(name):\n",
        "  return pd.read_json(FILES_PATH + name)\n"
      ],
      "execution_count": 5,
      "outputs": []
    },
    {
      "cell_type": "code",
      "metadata": {
        "id": "LxHjWZn2YC8p"
      },
      "source": [
        "train = get_frame(TRAIN_NAME)\n",
        "dev = get_frame(DEV_NAME)\n",
        "test = get_frame(TEST_DEV)\n",
        "\n",
        "def print_size(name, frame):\n",
        "  format = 'The size of {} set is: {}'\n",
        "  print(format.format(name, len(frame)))"
      ],
      "execution_count": 6,
      "outputs": []
    },
    {
      "cell_type": "markdown",
      "metadata": {
        "id": "s7PngBf8OdFX"
      },
      "source": [
        "**Data Analyze**"
      ]
    },
    {
      "cell_type": "code",
      "metadata": {
        "colab": {
          "base_uri": "https://localhost:8080/"
        },
        "id": "dWFdvtuGbbev",
        "outputId": "af36a0d6-30f8-4345-e134-0abb74a2e05b"
      },
      "source": [
        "print_size('train', train)\n",
        "print_size('dev', dev)\n",
        "print_size('test', test)"
      ],
      "execution_count": 7,
      "outputs": [
        {
          "output_type": "stream",
          "text": [
            "The size of train set is: 4725\n",
            "The size of dev set is: 500\n",
            "The size of test set is: 500\n"
          ],
          "name": "stdout"
        }
      ]
    },
    {
      "cell_type": "code",
      "metadata": {
        "id": "bnPqqpqpdpGW",
        "colab": {
          "base_uri": "https://localhost:8080/"
        },
        "outputId": "aa41350f-d6a8-41e9-d5ec-dc2a7c7d1da2"
      },
      "source": [
        "train.info()"
      ],
      "execution_count": 8,
      "outputs": [
        {
          "output_type": "stream",
          "text": [
            "<class 'pandas.core.frame.DataFrame'>\n",
            "RangeIndex: 4725 entries, 0 to 4724\n",
            "Data columns (total 5 columns):\n",
            " #   Column    Non-Null Count  Dtype  \n",
            "---  ------    --------------  -----  \n",
            " 0   index     4725 non-null   int64  \n",
            " 1   filename  4725 non-null   object \n",
            " 2   text      4725 non-null   object \n",
            " 3   category  4725 non-null   object \n",
            " 4   grade     4725 non-null   float64\n",
            "dtypes: float64(1), int64(1), object(3)\n",
            "memory usage: 184.7+ KB\n"
          ],
          "name": "stdout"
        }
      ]
    },
    {
      "cell_type": "code",
      "metadata": {
        "id": "IJp73YYjfL6U",
        "colab": {
          "base_uri": "https://localhost:8080/"
        },
        "outputId": "732f3a08-47f6-4c28-b1b4-cc1bb5aaec3e"
      },
      "source": [
        "train.isnull().sum()"
      ],
      "execution_count": 9,
      "outputs": [
        {
          "output_type": "execute_result",
          "data": {
            "text/plain": [
              "index       0\n",
              "filename    0\n",
              "text        0\n",
              "category    0\n",
              "grade       0\n",
              "dtype: int64"
            ]
          },
          "metadata": {
            "tags": []
          },
          "execution_count": 9
        }
      ]
    },
    {
      "cell_type": "code",
      "metadata": {
        "id": "MyMP8jY4fX2l",
        "colab": {
          "base_uri": "https://localhost:8080/",
          "height": 206
        },
        "outputId": "051fc26a-d1b6-44ba-9dc7-458cd91883ba"
      },
      "source": [
        "train.head(5)"
      ],
      "execution_count": 10,
      "outputs": [
        {
          "output_type": "execute_result",
          "data": {
            "text/html": [
              "<div>\n",
              "<style scoped>\n",
              "    .dataframe tbody tr th:only-of-type {\n",
              "        vertical-align: middle;\n",
              "    }\n",
              "\n",
              "    .dataframe tbody tr th {\n",
              "        vertical-align: top;\n",
              "    }\n",
              "\n",
              "    .dataframe thead th {\n",
              "        text-align: right;\n",
              "    }\n",
              "</style>\n",
              "<table border=\"1\" class=\"dataframe\">\n",
              "  <thead>\n",
              "    <tr style=\"text-align: right;\">\n",
              "      <th></th>\n",
              "      <th>index</th>\n",
              "      <th>filename</th>\n",
              "      <th>text</th>\n",
              "      <th>category</th>\n",
              "      <th>grade</th>\n",
              "    </tr>\n",
              "  </thead>\n",
              "  <tbody>\n",
              "    <tr>\n",
              "      <th>0</th>\n",
              "      <td>3685</td>\n",
              "      <td>Referat Piercing-ul si adolescentii</td>\n",
              "      <td>Piercing-ul si tatuajele - vanitati adolescent...</td>\n",
              "      <td>psihologie</td>\n",
              "      <td>5.65</td>\n",
              "    </tr>\n",
              "    <tr>\n",
              "      <th>1</th>\n",
              "      <td>775</td>\n",
              "      <td>Gradinile Suspendate Ale Semiramidei</td>\n",
              "      <td>GRADINILE SUSPENDATE ALE SEMIRAMIDEI A doua mi...</td>\n",
              "      <td>istorie</td>\n",
              "      <td>9.00</td>\n",
              "    </tr>\n",
              "    <tr>\n",
              "      <th>2</th>\n",
              "      <td>1765</td>\n",
              "      <td>Referat Mihail Sadoveanu</td>\n",
              "      <td>MIHAIL SADOVEANU  (1880-1961) \\nMihail Sadovea...</td>\n",
              "      <td>romana</td>\n",
              "      <td>5.36</td>\n",
              "    </tr>\n",
              "    <tr>\n",
              "      <th>3</th>\n",
              "      <td>3691</td>\n",
              "      <td>Referat Eminescu</td>\n",
              "      <td>EMINESCU \\nS-a  nascut pe 15 ianuarie 1850 la ...</td>\n",
              "      <td>romana</td>\n",
              "      <td>5.35</td>\n",
              "    </tr>\n",
              "    <tr>\n",
              "      <th>4</th>\n",
              "      <td>3402</td>\n",
              "      <td>Moara</td>\n",
              "      <td>Moara cu noroc Ioan Slavici \\nCaracterizarea l...</td>\n",
              "      <td>romana</td>\n",
              "      <td>10.00</td>\n",
              "    </tr>\n",
              "  </tbody>\n",
              "</table>\n",
              "</div>"
            ],
            "text/plain": [
              "   index                              filename  ...    category  grade\n",
              "0   3685   Referat Piercing-ul si adolescentii  ...  psihologie   5.65\n",
              "1    775  Gradinile Suspendate Ale Semiramidei  ...     istorie   9.00\n",
              "2   1765              Referat Mihail Sadoveanu  ...      romana   5.36\n",
              "3   3691                      Referat Eminescu  ...      romana   5.35\n",
              "4   3402                                 Moara  ...      romana  10.00\n",
              "\n",
              "[5 rows x 5 columns]"
            ]
          },
          "metadata": {
            "tags": []
          },
          "execution_count": 10
        }
      ]
    },
    {
      "cell_type": "code",
      "metadata": {
        "id": "l9nP4GkYkVlx",
        "colab": {
          "base_uri": "https://localhost:8080/"
        },
        "outputId": "f59cafc9-4fa7-4e1a-a36a-221b55643420"
      },
      "source": [
        "train_categories = train.category.unique()\n",
        "test_categories = test.category.unique()\n",
        "\n",
        "print(train_categories)"
      ],
      "execution_count": 11,
      "outputs": [
        {
          "output_type": "stream",
          "text": [
            "['psihologie' 'istorie' 'romana' 'biologie' 'geografie']\n"
          ],
          "name": "stdout"
        }
      ]
    },
    {
      "cell_type": "code",
      "metadata": {
        "id": "9pG1soIuyBZU",
        "colab": {
          "base_uri": "https://localhost:8080/",
          "height": 112
        },
        "outputId": "d7c51fe2-0424-48da-b064-21235309c715"
      },
      "source": [
        "no_text = train[train['text'].str.len() == 0]\n",
        "no_text"
      ],
      "execution_count": 12,
      "outputs": [
        {
          "output_type": "execute_result",
          "data": {
            "text/html": [
              "<div>\n",
              "<style scoped>\n",
              "    .dataframe tbody tr th:only-of-type {\n",
              "        vertical-align: middle;\n",
              "    }\n",
              "\n",
              "    .dataframe tbody tr th {\n",
              "        vertical-align: top;\n",
              "    }\n",
              "\n",
              "    .dataframe thead th {\n",
              "        text-align: right;\n",
              "    }\n",
              "</style>\n",
              "<table border=\"1\" class=\"dataframe\">\n",
              "  <thead>\n",
              "    <tr style=\"text-align: right;\">\n",
              "      <th></th>\n",
              "      <th>index</th>\n",
              "      <th>filename</th>\n",
              "      <th>text</th>\n",
              "      <th>category</th>\n",
              "      <th>grade</th>\n",
              "    </tr>\n",
              "  </thead>\n",
              "  <tbody>\n",
              "    <tr>\n",
              "      <th>3635</th>\n",
              "      <td>5178</td>\n",
              "      <td>Dezvoltarea Rurala In Zona Valiug</td>\n",
              "      <td></td>\n",
              "      <td>biologie</td>\n",
              "      <td>10.0</td>\n",
              "    </tr>\n",
              "    <tr>\n",
              "      <th>4000</th>\n",
              "      <td>4202</td>\n",
              "      <td>0ape Orase</td>\n",
              "      <td></td>\n",
              "      <td>geografie</td>\n",
              "      <td>9.0</td>\n",
              "    </tr>\n",
              "  </tbody>\n",
              "</table>\n",
              "</div>"
            ],
            "text/plain": [
              "      index                           filename text   category  grade\n",
              "3635   5178  Dezvoltarea Rurala In Zona Valiug        biologie   10.0\n",
              "4000   4202                         0ape Orase       geografie    9.0"
            ]
          },
          "metadata": {
            "tags": []
          },
          "execution_count": 12
        }
      ]
    },
    {
      "cell_type": "markdown",
      "metadata": {
        "id": "bVqaAJswOjRr"
      },
      "source": [
        "**Embeddings**"
      ]
    },
    {
      "cell_type": "code",
      "metadata": {
        "id": "37wFR8McOp1n"
      },
      "source": [
        "# sentences = train[\"text\"].apply(lambda x: x.split()).values\n",
        "# vocab = build_vocab(sentences)\n",
        "# print()\n",
        "# print({k: vocab[k] for k in list(vocab)[:5]})"
      ],
      "execution_count": 13,
      "outputs": []
    },
    {
      "cell_type": "code",
      "metadata": {
        "colab": {
          "base_uri": "https://localhost:8080/",
          "height": 206
        },
        "id": "ClctP6_hRP0_",
        "outputId": "28eeb405-d4d6-4ae6-e944-a9dbfec43875"
      },
      "source": [
        "train['processed_text'] = train['text'].apply(lambda x: x.lower())\n",
        "train.head(5)"
      ],
      "execution_count": 14,
      "outputs": [
        {
          "output_type": "execute_result",
          "data": {
            "text/html": [
              "<div>\n",
              "<style scoped>\n",
              "    .dataframe tbody tr th:only-of-type {\n",
              "        vertical-align: middle;\n",
              "    }\n",
              "\n",
              "    .dataframe tbody tr th {\n",
              "        vertical-align: top;\n",
              "    }\n",
              "\n",
              "    .dataframe thead th {\n",
              "        text-align: right;\n",
              "    }\n",
              "</style>\n",
              "<table border=\"1\" class=\"dataframe\">\n",
              "  <thead>\n",
              "    <tr style=\"text-align: right;\">\n",
              "      <th></th>\n",
              "      <th>index</th>\n",
              "      <th>filename</th>\n",
              "      <th>text</th>\n",
              "      <th>category</th>\n",
              "      <th>grade</th>\n",
              "      <th>processed_text</th>\n",
              "    </tr>\n",
              "  </thead>\n",
              "  <tbody>\n",
              "    <tr>\n",
              "      <th>0</th>\n",
              "      <td>3685</td>\n",
              "      <td>Referat Piercing-ul si adolescentii</td>\n",
              "      <td>Piercing-ul si tatuajele - vanitati adolescent...</td>\n",
              "      <td>psihologie</td>\n",
              "      <td>5.65</td>\n",
              "      <td>piercing-ul si tatuajele - vanitati adolescent...</td>\n",
              "    </tr>\n",
              "    <tr>\n",
              "      <th>1</th>\n",
              "      <td>775</td>\n",
              "      <td>Gradinile Suspendate Ale Semiramidei</td>\n",
              "      <td>GRADINILE SUSPENDATE ALE SEMIRAMIDEI A doua mi...</td>\n",
              "      <td>istorie</td>\n",
              "      <td>9.00</td>\n",
              "      <td>gradinile suspendate ale semiramidei a doua mi...</td>\n",
              "    </tr>\n",
              "    <tr>\n",
              "      <th>2</th>\n",
              "      <td>1765</td>\n",
              "      <td>Referat Mihail Sadoveanu</td>\n",
              "      <td>MIHAIL SADOVEANU  (1880-1961) \\nMihail Sadovea...</td>\n",
              "      <td>romana</td>\n",
              "      <td>5.36</td>\n",
              "      <td>mihail sadoveanu  (1880-1961) \\nmihail sadovea...</td>\n",
              "    </tr>\n",
              "    <tr>\n",
              "      <th>3</th>\n",
              "      <td>3691</td>\n",
              "      <td>Referat Eminescu</td>\n",
              "      <td>EMINESCU \\nS-a  nascut pe 15 ianuarie 1850 la ...</td>\n",
              "      <td>romana</td>\n",
              "      <td>5.35</td>\n",
              "      <td>eminescu \\ns-a  nascut pe 15 ianuarie 1850 la ...</td>\n",
              "    </tr>\n",
              "    <tr>\n",
              "      <th>4</th>\n",
              "      <td>3402</td>\n",
              "      <td>Moara</td>\n",
              "      <td>Moara cu noroc Ioan Slavici \\nCaracterizarea l...</td>\n",
              "      <td>romana</td>\n",
              "      <td>10.00</td>\n",
              "      <td>moara cu noroc ioan slavici \\ncaracterizarea l...</td>\n",
              "    </tr>\n",
              "  </tbody>\n",
              "</table>\n",
              "</div>"
            ],
            "text/plain": [
              "   index  ...                                     processed_text\n",
              "0   3685  ...  piercing-ul si tatuajele - vanitati adolescent...\n",
              "1    775  ...  gradinile suspendate ale semiramidei a doua mi...\n",
              "2   1765  ...  mihail sadoveanu  (1880-1961) \\nmihail sadovea...\n",
              "3   3691  ...  eminescu \\ns-a  nascut pe 15 ianuarie 1850 la ...\n",
              "4   3402  ...  moara cu noroc ioan slavici \\ncaracterizarea l...\n",
              "\n",
              "[5 rows x 6 columns]"
            ]
          },
          "metadata": {
            "tags": []
          },
          "execution_count": 14
        }
      ]
    },
    {
      "cell_type": "code",
      "metadata": {
        "id": "FeB9uUvGXqtN"
      },
      "source": [
        "# punct_mapping = {\"‘\": \"'\", \"₹\": \"e\", \"´\": \"'\", \"°\": \"\", \"€\": \"e\", \"™\": \"tm\", \"√\": \" sqrt \", \"×\": \"x\", \"²\": \"2\", \"—\": \"-\", \"–\": \"-\", \"’\": \"'\", \"_\": \"-\", \n",
        "#                  \"`\": \"'\", '“': '\"', '”': '\"', '“': '\"', \"£\": \"e\", '∞': 'infinity', 'θ': 'theta', '÷': '/', 'α': 'alpha', '•': '.', 'à': 'a', '−': '-', \n",
        "#                  'β': 'beta', '∅': '', '³': '3', 'π': 'pi', }\n",
        "\n",
        "# punct = \"/-'?!.,#$%\\'()*+-/:;<=>@[\\\\]^_`{|}~\" + '\"\"“”’' + '∞θ÷α•à−β∅³π‘₹´°£€\\×™√²—–&'\n",
        "\n",
        "# def clean_special_chars(text, punct, mapping):\n",
        "#     for p in mapping:\n",
        "#         text = text.replace(p, mapping[p])\n",
        "    \n",
        "#     for p in punct:\n",
        "#         text = text.replace(p, f' {p} ')\n",
        "    \n",
        "#     specials = {'\\u200b': ' ', '…': ' ... ', '\\ufeff': '', 'करना': '', 'है': ''}  # Other special characters that I have to deal with in last\n",
        "#     for s in specials:\n",
        "#         text = text.replace(s, specials[s])\n",
        "    \n",
        "#     return text\n",
        "\n",
        "# train['processed_text'] = train['processed_text'].apply(lambda x : clean_special_chars(x, punct, punct_mapping))\n",
        "# train.head(5)"
      ],
      "execution_count": 15,
      "outputs": []
    },
    {
      "cell_type": "code",
      "metadata": {
        "colab": {
          "base_uri": "https://localhost:8080/",
          "height": 206
        },
        "id": "m3byfyifYi_C",
        "outputId": "6d4ea94d-b5bc-4f91-b65a-958483257498"
      },
      "source": [
        "import re\n",
        "\n",
        "def clean_numbers(x):\n",
        "\n",
        "    x = re.sub('[0-9]{5,}', '#####', x)\n",
        "    x = re.sub('[0-9]{4}', '####', x)\n",
        "    x = re.sub('[0-9]{3}', '###', x)\n",
        "    x = re.sub('[0-9]{2}', '##', x)\n",
        "    x = re.sub('[0-9]', '#', x)\n",
        "\n",
        "    return x\n",
        "\n",
        "train['processed_text'] = train['processed_text'].apply(lambda x : clean_numbers(x))\n",
        "train.head(5)"
      ],
      "execution_count": 16,
      "outputs": [
        {
          "output_type": "execute_result",
          "data": {
            "text/html": [
              "<div>\n",
              "<style scoped>\n",
              "    .dataframe tbody tr th:only-of-type {\n",
              "        vertical-align: middle;\n",
              "    }\n",
              "\n",
              "    .dataframe tbody tr th {\n",
              "        vertical-align: top;\n",
              "    }\n",
              "\n",
              "    .dataframe thead th {\n",
              "        text-align: right;\n",
              "    }\n",
              "</style>\n",
              "<table border=\"1\" class=\"dataframe\">\n",
              "  <thead>\n",
              "    <tr style=\"text-align: right;\">\n",
              "      <th></th>\n",
              "      <th>index</th>\n",
              "      <th>filename</th>\n",
              "      <th>text</th>\n",
              "      <th>category</th>\n",
              "      <th>grade</th>\n",
              "      <th>processed_text</th>\n",
              "    </tr>\n",
              "  </thead>\n",
              "  <tbody>\n",
              "    <tr>\n",
              "      <th>0</th>\n",
              "      <td>3685</td>\n",
              "      <td>Referat Piercing-ul si adolescentii</td>\n",
              "      <td>Piercing-ul si tatuajele - vanitati adolescent...</td>\n",
              "      <td>psihologie</td>\n",
              "      <td>5.65</td>\n",
              "      <td>piercing-ul si tatuajele - vanitati adolescent...</td>\n",
              "    </tr>\n",
              "    <tr>\n",
              "      <th>1</th>\n",
              "      <td>775</td>\n",
              "      <td>Gradinile Suspendate Ale Semiramidei</td>\n",
              "      <td>GRADINILE SUSPENDATE ALE SEMIRAMIDEI A doua mi...</td>\n",
              "      <td>istorie</td>\n",
              "      <td>9.00</td>\n",
              "      <td>gradinile suspendate ale semiramidei a doua mi...</td>\n",
              "    </tr>\n",
              "    <tr>\n",
              "      <th>2</th>\n",
              "      <td>1765</td>\n",
              "      <td>Referat Mihail Sadoveanu</td>\n",
              "      <td>MIHAIL SADOVEANU  (1880-1961) \\nMihail Sadovea...</td>\n",
              "      <td>romana</td>\n",
              "      <td>5.36</td>\n",
              "      <td>mihail sadoveanu  (####-####) \\nmihail sadovea...</td>\n",
              "    </tr>\n",
              "    <tr>\n",
              "      <th>3</th>\n",
              "      <td>3691</td>\n",
              "      <td>Referat Eminescu</td>\n",
              "      <td>EMINESCU \\nS-a  nascut pe 15 ianuarie 1850 la ...</td>\n",
              "      <td>romana</td>\n",
              "      <td>5.35</td>\n",
              "      <td>eminescu \\ns-a  nascut pe ## ianuarie #### la ...</td>\n",
              "    </tr>\n",
              "    <tr>\n",
              "      <th>4</th>\n",
              "      <td>3402</td>\n",
              "      <td>Moara</td>\n",
              "      <td>Moara cu noroc Ioan Slavici \\nCaracterizarea l...</td>\n",
              "      <td>romana</td>\n",
              "      <td>10.00</td>\n",
              "      <td>moara cu noroc ioan slavici \\ncaracterizarea l...</td>\n",
              "    </tr>\n",
              "  </tbody>\n",
              "</table>\n",
              "</div>"
            ],
            "text/plain": [
              "   index  ...                                     processed_text\n",
              "0   3685  ...  piercing-ul si tatuajele - vanitati adolescent...\n",
              "1    775  ...  gradinile suspendate ale semiramidei a doua mi...\n",
              "2   1765  ...  mihail sadoveanu  (####-####) \\nmihail sadovea...\n",
              "3   3691  ...  eminescu \\ns-a  nascut pe ## ianuarie #### la ...\n",
              "4   3402  ...  moara cu noroc ioan slavici \\ncaracterizarea l...\n",
              "\n",
              "[5 rows x 6 columns]"
            ]
          },
          "metadata": {
            "tags": []
          },
          "execution_count": 16
        }
      ]
    },
    {
      "cell_type": "code",
      "metadata": {
        "colab": {
          "base_uri": "https://localhost:8080/",
          "height": 206
        },
        "id": "UaGhFBhyZDf4",
        "outputId": "3788cef5-7be6-4d84-e36e-94874934581a"
      },
      "source": [
        "train['processed_text'] = train['processed_text'].apply(lambda x : re.sub(r'\\s+$', '', x, flags=re.M))\n",
        "train.head(5)"
      ],
      "execution_count": 17,
      "outputs": [
        {
          "output_type": "execute_result",
          "data": {
            "text/html": [
              "<div>\n",
              "<style scoped>\n",
              "    .dataframe tbody tr th:only-of-type {\n",
              "        vertical-align: middle;\n",
              "    }\n",
              "\n",
              "    .dataframe tbody tr th {\n",
              "        vertical-align: top;\n",
              "    }\n",
              "\n",
              "    .dataframe thead th {\n",
              "        text-align: right;\n",
              "    }\n",
              "</style>\n",
              "<table border=\"1\" class=\"dataframe\">\n",
              "  <thead>\n",
              "    <tr style=\"text-align: right;\">\n",
              "      <th></th>\n",
              "      <th>index</th>\n",
              "      <th>filename</th>\n",
              "      <th>text</th>\n",
              "      <th>category</th>\n",
              "      <th>grade</th>\n",
              "      <th>processed_text</th>\n",
              "    </tr>\n",
              "  </thead>\n",
              "  <tbody>\n",
              "    <tr>\n",
              "      <th>0</th>\n",
              "      <td>3685</td>\n",
              "      <td>Referat Piercing-ul si adolescentii</td>\n",
              "      <td>Piercing-ul si tatuajele - vanitati adolescent...</td>\n",
              "      <td>psihologie</td>\n",
              "      <td>5.65</td>\n",
              "      <td>piercing-ul si tatuajele - vanitati adolescent...</td>\n",
              "    </tr>\n",
              "    <tr>\n",
              "      <th>1</th>\n",
              "      <td>775</td>\n",
              "      <td>Gradinile Suspendate Ale Semiramidei</td>\n",
              "      <td>GRADINILE SUSPENDATE ALE SEMIRAMIDEI A doua mi...</td>\n",
              "      <td>istorie</td>\n",
              "      <td>9.00</td>\n",
              "      <td>gradinile suspendate ale semiramidei a doua mi...</td>\n",
              "    </tr>\n",
              "    <tr>\n",
              "      <th>2</th>\n",
              "      <td>1765</td>\n",
              "      <td>Referat Mihail Sadoveanu</td>\n",
              "      <td>MIHAIL SADOVEANU  (1880-1961) \\nMihail Sadovea...</td>\n",
              "      <td>romana</td>\n",
              "      <td>5.36</td>\n",
              "      <td>mihail sadoveanu  (####-####)\\nmihail sadovean...</td>\n",
              "    </tr>\n",
              "    <tr>\n",
              "      <th>3</th>\n",
              "      <td>3691</td>\n",
              "      <td>Referat Eminescu</td>\n",
              "      <td>EMINESCU \\nS-a  nascut pe 15 ianuarie 1850 la ...</td>\n",
              "      <td>romana</td>\n",
              "      <td>5.35</td>\n",
              "      <td>eminescu\\ns-a  nascut pe ## ianuarie #### la b...</td>\n",
              "    </tr>\n",
              "    <tr>\n",
              "      <th>4</th>\n",
              "      <td>3402</td>\n",
              "      <td>Moara</td>\n",
              "      <td>Moara cu noroc Ioan Slavici \\nCaracterizarea l...</td>\n",
              "      <td>romana</td>\n",
              "      <td>10.00</td>\n",
              "      <td>moara cu noroc ioan slavici\\ncaracterizarea lu...</td>\n",
              "    </tr>\n",
              "  </tbody>\n",
              "</table>\n",
              "</div>"
            ],
            "text/plain": [
              "   index  ...                                     processed_text\n",
              "0   3685  ...  piercing-ul si tatuajele - vanitati adolescent...\n",
              "1    775  ...  gradinile suspendate ale semiramidei a doua mi...\n",
              "2   1765  ...  mihail sadoveanu  (####-####)\\nmihail sadovean...\n",
              "3   3691  ...  eminescu\\ns-a  nascut pe ## ianuarie #### la b...\n",
              "4   3402  ...  moara cu noroc ioan slavici\\ncaracterizarea lu...\n",
              "\n",
              "[5 rows x 6 columns]"
            ]
          },
          "metadata": {
            "tags": []
          },
          "execution_count": 17
        }
      ]
    },
    {
      "cell_type": "code",
      "metadata": {
        "colab": {
          "base_uri": "https://localhost:8080/",
          "height": 206
        },
        "id": "cXV-9EbXaZ0y",
        "outputId": "4a11dfbf-3f53-4097-da38-bbbb9710795c"
      },
      "source": [
        "train['processed_text'] = train['processed_text'].apply(lambda x : x.rstrip('\\r\\n\\t').replace('\\n', ' ').replace('\\t', ' '))\n",
        "train.head(5)"
      ],
      "execution_count": 18,
      "outputs": [
        {
          "output_type": "execute_result",
          "data": {
            "text/html": [
              "<div>\n",
              "<style scoped>\n",
              "    .dataframe tbody tr th:only-of-type {\n",
              "        vertical-align: middle;\n",
              "    }\n",
              "\n",
              "    .dataframe tbody tr th {\n",
              "        vertical-align: top;\n",
              "    }\n",
              "\n",
              "    .dataframe thead th {\n",
              "        text-align: right;\n",
              "    }\n",
              "</style>\n",
              "<table border=\"1\" class=\"dataframe\">\n",
              "  <thead>\n",
              "    <tr style=\"text-align: right;\">\n",
              "      <th></th>\n",
              "      <th>index</th>\n",
              "      <th>filename</th>\n",
              "      <th>text</th>\n",
              "      <th>category</th>\n",
              "      <th>grade</th>\n",
              "      <th>processed_text</th>\n",
              "    </tr>\n",
              "  </thead>\n",
              "  <tbody>\n",
              "    <tr>\n",
              "      <th>0</th>\n",
              "      <td>3685</td>\n",
              "      <td>Referat Piercing-ul si adolescentii</td>\n",
              "      <td>Piercing-ul si tatuajele - vanitati adolescent...</td>\n",
              "      <td>psihologie</td>\n",
              "      <td>5.65</td>\n",
              "      <td>piercing-ul si tatuajele - vanitati adolescent...</td>\n",
              "    </tr>\n",
              "    <tr>\n",
              "      <th>1</th>\n",
              "      <td>775</td>\n",
              "      <td>Gradinile Suspendate Ale Semiramidei</td>\n",
              "      <td>GRADINILE SUSPENDATE ALE SEMIRAMIDEI A doua mi...</td>\n",
              "      <td>istorie</td>\n",
              "      <td>9.00</td>\n",
              "      <td>gradinile suspendate ale semiramidei a doua mi...</td>\n",
              "    </tr>\n",
              "    <tr>\n",
              "      <th>2</th>\n",
              "      <td>1765</td>\n",
              "      <td>Referat Mihail Sadoveanu</td>\n",
              "      <td>MIHAIL SADOVEANU  (1880-1961) \\nMihail Sadovea...</td>\n",
              "      <td>romana</td>\n",
              "      <td>5.36</td>\n",
              "      <td>mihail sadoveanu  (####-####) mihail sadoveanu...</td>\n",
              "    </tr>\n",
              "    <tr>\n",
              "      <th>3</th>\n",
              "      <td>3691</td>\n",
              "      <td>Referat Eminescu</td>\n",
              "      <td>EMINESCU \\nS-a  nascut pe 15 ianuarie 1850 la ...</td>\n",
              "      <td>romana</td>\n",
              "      <td>5.35</td>\n",
              "      <td>eminescu s-a  nascut pe ## ianuarie #### la bo...</td>\n",
              "    </tr>\n",
              "    <tr>\n",
              "      <th>4</th>\n",
              "      <td>3402</td>\n",
              "      <td>Moara</td>\n",
              "      <td>Moara cu noroc Ioan Slavici \\nCaracterizarea l...</td>\n",
              "      <td>romana</td>\n",
              "      <td>10.00</td>\n",
              "      <td>moara cu noroc ioan slavici caracterizarea lui...</td>\n",
              "    </tr>\n",
              "  </tbody>\n",
              "</table>\n",
              "</div>"
            ],
            "text/plain": [
              "   index  ...                                     processed_text\n",
              "0   3685  ...  piercing-ul si tatuajele - vanitati adolescent...\n",
              "1    775  ...  gradinile suspendate ale semiramidei a doua mi...\n",
              "2   1765  ...  mihail sadoveanu  (####-####) mihail sadoveanu...\n",
              "3   3691  ...  eminescu s-a  nascut pe ## ianuarie #### la bo...\n",
              "4   3402  ...  moara cu noroc ioan slavici caracterizarea lui...\n",
              "\n",
              "[5 rows x 6 columns]"
            ]
          },
          "metadata": {
            "tags": []
          },
          "execution_count": 18
        }
      ]
    },
    {
      "cell_type": "code",
      "metadata": {
        "colab": {
          "base_uri": "https://localhost:8080/",
          "height": 108
        },
        "id": "r2HiZbxFZYe_",
        "outputId": "2058c658-9f91-4909-fc53-cded0309e8a9"
      },
      "source": [
        "train.processed_text.iloc[100]"
      ],
      "execution_count": 19,
      "outputs": [
        {
          "output_type": "execute_result",
          "data": {
            "application/vnd.google.colaboratory.intrinsic+json": {
              "type": "string"
            },
            "text/plain": [
              "'echipamentul de  baza           echipamentul esential era format  din coif (cassis), armura (lorica  segmentata), sabie cu # taisuri (gladius), sulita de lungime medie pt. aruncare  (pilium), scutul (scutum) si sandale.          coiful era era fabricat in general din bronz si incepand cu anul ### i.e.n. acoperea ceafa si fruntea.     armura se numea lorica segmentata , fiind  formata din mai multe lame din bronz suprapuse.  se purta de aseamenea si camasa de zale.          gladiusul era o sabie extrem de eficienta. era de dimensiuni mici (aprox ##cm), fiind astfel  mult mai usor de manuit decat una grea, necesitand si mai putina forta si energie.        piliumul  (sulita) purta un rol essential in   lupta. se compunea dintr-un varf ascutit de metal asezat pe un suport de lemn. sulita, lunga  de #m,  era aruncata spre adversar putand sa zdrobeasca scutul acestuia,  facandu-l mult mai vulnerabil in fata mortii.             apararea frontala a soldatului roman era oferita de scutum. acesta era fie rotund, din bronz, fie oval,  dreptunghiular, de lemn, iar mai tarziu urma sa fie semicilindric sau hexagonal.       in lupta, soldatii mai purtau si o mantie rosie in timpul luptei. aceasta tinea caldura si inducea frica in ochii inamicului.        un soldat nu era nimic fara incaltaminte. in acele timpuri, aveau sandale. aceastea erau rezistente si  usor de reparat.                                                           artileria           multi soldati nu apucau sa vada oamenii pe care ii omorau. acestia erau artileristii. omorau  dusmanii de la zeci de metrii de departare. cele mai importante arme de artilerie erau: “scorpio”          balista          catapulta             cea mai celebra dintre cele # este fara indoiala catapulta. aceasta a fost inventata in aprox. ###  i.e.n., de catre inginerii greci (printre care si arhimede) in orasul siracuza.       catapulta dispunea de un arc care cand era desprins arunca pietre de  dimensiuni mari, de multe ori pt. a distruge zidurile oraselor.        balista era similara unei catapulte, avand doar un mecanism  schimbat de tragere, prin intinderea unei coarde. exista si o versiune mai  mica a balistei, care arunca pietre de dimensiuni medii in aer.         scorpio-ul se asemana cu un arc din evul mediu. acesta arunca o  sageata prin tragerea inapoi a unei coarde si apoi prin despridere brusca.       nota: armele de artilerie nu se limitau doar la pietre, folosind mai multe tipuri de munitie. se mai  foloseau si bile in flacari din smoala.                      tactic  i                    in timpul luptei, soldatii romani stateau cu scurile in fata, cot la  cot, cei din spate urmandui in siruri cu scuturile ridicate deasupra capului celui din fata. aceasta tactica se numea “testoasa”. grupul de  romani care avansa era astfel era protejat impotriva artileriei.         soldatii se oboseau foarte usor in timpul unei batalii. romanii au  rezolvat aceasta problema. soldatul lupta in primul rand doar ##  minute, dupa care se retragea lasand locul unui soldat odihnit.         o  tactica folosita pentru cucerirea oraselor era izolarea totala. orasul asediat era inconjurat de  artilerie si soldati, asteptandu-se astfel terminarea proviziilor.totusi, daca asteptarea dura un timp  indelungat, romanii construiau turnuri de asediu cu ajutorul carora puteau escalada cu usurinta zidurile  orasului.         dar cea mai importanta tactica a romanilor era antrenamentul. romanii erau instruiti  pentru a lupta  greu si pt. a improviza. fiecare soldat era instruit ca un inginer.          unitatea soldatilor romani era motivul pentru care imperiul era victorios in cuceririle militare.  soldatii erau apropiati unul de celalalt, fiecare gandindu-se la cel de langa el ca la un frate. daca ar fi fugit din lupta, ar fi similar cu abandonarea familiei, un fapt imposibil de conceput. prin urmare, soldatii  ramaneau impreuna, indiferent de dificultatea situatiei.'"
            ]
          },
          "metadata": {
            "tags": []
          },
          "execution_count": 19
        }
      ]
    },
    {
      "cell_type": "code",
      "metadata": {
        "id": "TU0nA8BLhalj"
      },
      "source": [
        "dev['processed_text'] = dev['text'].apply(lambda x: x.lower())\n",
        "dev['processed_text'] = dev['processed_text'].apply(lambda x : clean_numbers(x))\n",
        "\n",
        "dev['processed_text'] = dev['processed_text'].apply(lambda x : re.sub(r'\\s+$', '', x, flags=re.M))\n",
        "dev['processed_text'] = dev['processed_text'].apply(lambda x : x.rstrip('\\r\\n').replace('\\n', ' ').replace('\\t', ' '))\n"
      ],
      "execution_count": 20,
      "outputs": []
    },
    {
      "cell_type": "code",
      "metadata": {
        "id": "hwO-rAceh4Wh"
      },
      "source": [
        "test['processed_text'] = test['text'].apply(lambda x: x.lower())\n",
        "test['processed_text'] = test['processed_text'].apply(lambda x : clean_numbers(x))\n",
        "\n",
        "test['processed_text'] = test['processed_text'].apply(lambda x : re.sub(r'\\s+$', '', x, flags=re.M))\n",
        "test['processed_text'] = test['processed_text'].apply(lambda x : x.rstrip('\\r\\n').replace('\\n', ' ').replace('\\t', ' '))\n"
      ],
      "execution_count": 21,
      "outputs": []
    },
    {
      "cell_type": "code",
      "metadata": {
        "id": "-1MZcAADedr4"
      },
      "source": [
        "     \n",
        "\n",
        "w2v_model = Word2Vec(min_count=20,\n",
        "                     window=2,\n",
        "                     size=300,\n",
        "                     sample=6e-5, \n",
        "                     alpha=0.03, \n",
        "                     min_alpha=0.0007, \n",
        "                     negative=20,\n",
        "                     workers=1)"
      ],
      "execution_count": 22,
      "outputs": []
    },
    {
      "cell_type": "markdown",
      "metadata": {
        "id": "L0sPLLF0Om1I"
      },
      "source": [
        "**Models**"
      ]
    },
    {
      "cell_type": "code",
      "metadata": {
        "id": "45Qgt0QGgjOn",
        "colab": {
          "base_uri": "https://localhost:8080/",
          "height": 300
        },
        "outputId": "ecbae22b-fd1c-4a0d-d4f7-3247f8be2619"
      },
      "source": [
        "lens = train.text.str.len()\n",
        "print(lens.mean(), lens.std(), lens.max())\n",
        "lens.hist()"
      ],
      "execution_count": 23,
      "outputs": [
        {
          "output_type": "stream",
          "text": [
            "12341.541587301588 24126.33832184855 577296\n"
          ],
          "name": "stdout"
        },
        {
          "output_type": "execute_result",
          "data": {
            "text/plain": [
              "<matplotlib.axes._subplots.AxesSubplot at 0x7f1143792ef0>"
            ]
          },
          "metadata": {
            "tags": []
          },
          "execution_count": 23
        },
        {
          "output_type": "display_data",
          "data": {
            "image/png": "[encoded data removed]",
            "text/plain": [
              "<Figure size 432x288 with 1 Axes>"
            ]
          },
          "metadata": {
            "tags": [],
            "needs_background": "light"
          }
        }
      ]
    },
    {
      "cell_type": "code",
      "metadata": {
        "id": "UuasR1lOgQiV"
      },
      "source": [
        "\n",
        "embed_size = 300 # how big is each word vector\n",
        "max_features = 20000 # how many unique words to use (i.e num rows in embedding vector)\n",
        "maxlen = 1000 # max number of words in a question to use\n",
        "\n",
        "\n",
        "## Tokenize the sentences\n",
        "tokenizer = Tokenizer(num_words=max_features)\n",
        "tokenizer.fit_on_texts(list(train['processed_text']))\n",
        "train_X = tokenizer.texts_to_sequences(train['processed_text'])\n",
        "val_X = tokenizer.texts_to_sequences(train['processed_text'])\n",
        "test_X = tokenizer.texts_to_sequences(test['processed_text'])\n",
        "\n",
        "## Pad the sentences \n",
        "train_X = pad_sequences(train_X, maxlen=maxlen)\n",
        "val_X = pad_sequences(val_X, maxlen=maxlen)\n",
        "test_X = pad_sequences(test_X, maxlen=maxlen)\n",
        "\n",
        "## Get the target values\n",
        "\n",
        "\n"
      ],
      "execution_count": 24,
      "outputs": []
    },
    {
      "cell_type": "code",
      "metadata": {
        "id": "qqjVar0ejDNe"
      },
      "source": [
        "Y_train = train['grade'].values\n",
        "Y_val = dev['grade'].values"
      ],
      "execution_count": 25,
      "outputs": []
    },
    {
      "cell_type": "code",
      "metadata": {
        "colab": {
          "base_uri": "https://localhost:8080/"
        },
        "id": "NBFFQdJPPxFS",
        "outputId": "a2c7ce6e-419d-49d8-b7e2-d1e8805db993"
      },
      "source": [
        "# max_features = 50000\n",
        "# max_len = 30000\n",
        "def get_model_1():\n",
        "    model = Sequential()\n",
        "    model.add(Embedding(max_features, embed_size))\n",
        "    model.add(LSTM(128, dropout=0.4, recurrent_dropout=0.4, input_shape=[1, 300], return_sequences=True))\n",
        "    model.add(Dropout(0.5))\n",
        "    model.add(Dense(1, activation='relu'))\n",
        "    return model\n",
        "\n",
        "def compile_model(model):\n",
        "  model.compile(loss=tf.keras.losses.MeanSquaredError(name=\"loss_mse\")\n",
        ", optimizer='rmsprop', metrics=tf.keras.losses.MeanSquaredError(name=\"mse\"))\n",
        "\n",
        "print(get_model_1().summary())\n",
        "\n"
      ],
      "execution_count": 28,
      "outputs": [
        {
          "output_type": "stream",
          "text": [
            "WARNING:tensorflow:Layer lstm_4 will not use cuDNN kernel since it doesn't meet the cuDNN kernel criteria. It will use generic GPU kernel as fallback when running on GPU\n",
            "Model: \"sequential_2\"\n",
            "_________________________________________________________________\n",
            "Layer (type)                 Output Shape              Param #   \n",
            "=================================================================\n",
            "embedding_2 (Embedding)      (None, None, 300)         6000000   \n",
            "_________________________________________________________________\n",
            "lstm_4 (LSTM)                (None, None, 128)         219648    \n",
            "_________________________________________________________________\n",
            "dropout_2 (Dropout)          (None, None, 128)         0         \n",
            "_________________________________________________________________\n",
            "dense_2 (Dense)              (None, None, 1)           129       \n",
            "=================================================================\n",
            "Total params: 6,219,777\n",
            "Trainable params: 6,219,777\n",
            "Non-trainable params: 0\n",
            "_________________________________________________________________\n",
            "None\n"
          ],
          "name": "stdout"
        }
      ]
    },
    {
      "cell_type": "code",
      "metadata": {
        "colab": {
          "base_uri": "https://localhost:8080/"
        },
        "id": "5aCFp_gkjQPZ",
        "outputId": "a4dd536e-c2aa-440a-f7b7-a38d3f1f56df"
      },
      "source": [
        "\n",
        "model = get_model_1()\n",
        "compile_model(model)\n",
        "batch_size = 8\n",
        "epochs = 2\n",
        "\n",
        "\n",
        "early = EarlyStopping(monitor=\"val_loss_mse\", mode=\"min\", patience=5)\n",
        "\n",
        "\n",
        "callbacks_list = [early]\n",
        "\n",
        "with tf.device('/device:GPU:0'):\n",
        "  history = model.fit(train_X, Y_train, validation_data=(val_X, Y_val), batch_size=batch_size, epochs=epochs, callbacks=callbacks_list)"
      ],
      "execution_count": null,
      "outputs": [
        {
          "output_type": "stream",
          "text": [
            "WARNING:tensorflow:Layer lstm_5 will not use cuDNN kernel since it doesn't meet the cuDNN kernel criteria. It will use generic GPU kernel as fallback when running on GPU\n",
            "Epoch 1/2\n",
            " 71/591 [==>...........................] - ETA: 31:20 - loss: 11.7750 - mse: 11.7750"
          ],
          "name": "stdout"
        }
      ]
    },
    {
      "cell_type": "code",
      "metadata": {
        "id": "_XrLLATejhHf"
      },
      "source": [
        "model.save(\"/content/drive/MyDrive/SII/v1-no-embeddings.h5\")\n"
      ],
      "execution_count": null,
      "outputs": []
    },
    {
      "cell_type": "markdown",
      "metadata": {
        "id": "WNhpInZnOrE0"
      },
      "source": [
        "**Train**"
      ]
    },
    {
      "cell_type": "markdown",
      "metadata": {
        "id": "0s6hZH-kOt6v"
      },
      "source": [
        "**Results**"
      ]
    },
    {
      "cell_type": "markdown",
      "metadata": {
        "id": "hBGgDsVjOw5G"
      },
      "source": [
        "**Bert**"
      ]
    }
  ]
}